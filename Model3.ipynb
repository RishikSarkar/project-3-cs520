{
 "cells": [
  {
   "cell_type": "markdown",
   "id": "5dd96d9b",
   "metadata": {},
   "source": [
    "# Model 3: Improvement"
   ]
  },
  {
   "cell_type": "markdown",
   "id": "ab740d2f",
   "metadata": {},
   "source": [
    "The purpose of this model is to utilize reinforcement learning to improve the prediction capabilities of Model 2 "
   ]
  },
  {
   "cell_type": "markdown",
   "id": "0356b08f",
   "metadata": {},
   "source": [
    "## Preliminary Setup"
   ]
  },
  {
   "cell_type": "markdown",
   "id": "9b6073f3",
   "metadata": {},
   "source": [
    "### Imports"
   ]
  },
  {
   "cell_type": "code",
   "execution_count": null,
   "id": "b80794a3",
   "metadata": {},
   "outputs": [],
   "source": [
    "import pandas as pd\n",
    "import numpy as np\n",
    "import matplotlib.pyplot as plt\n",
    "import ast\n",
    "import nbimporter\n",
    "import torch\n",
    "import torch.nn as nn\n",
    "import torch.nn.functional as F\n",
    "from sklearn.model_selection import train_test_split\n",
    "from sklearn.metrics import accuracy_score"
   ]
  },
  {
   "cell_type": "markdown",
   "id": "852008e3",
   "metadata": {},
   "source": [
    "### ACTOR Model Architecture"
   ]
  },
  {
   "cell_type": "code",
   "execution_count": null,
   "id": "cc90d60c",
   "metadata": {},
   "outputs": [],
   "source": [
    "class Actor(nn.Module):\n",
    "    \n",
    "    def __init__(self, num_features):\n",
    "        super(Actor, self).__init__()\n",
    "        self.fc1 = nn.Linear(num_features, 64)\n",
    "        self.fc2 = nn.Linear(64, 5)\n",
    "        \n",
    "    def forward(self, x):\n",
    "        x = F.relu(self.fc1(x)) # Use ReLU\n",
    "        x = self.fc2(x)\n",
    "        return F.softmax(x, dim = -1)"
   ]
  },
  {
   "cell_type": "markdown",
   "id": "276bf41d",
   "metadata": {},
   "source": [
    "### ACTOR Functions"
   ]
  },
  {
   "cell_type": "code",
   "execution_count": null,
   "id": "32601cb2",
   "metadata": {},
   "outputs": [],
   "source": [
    "def train_actor(model, optimizer, X_train, y_train, epochs):\n",
    "    loss_list = []\n",
    "    \n",
    "    for epoch in range(epochs):\n",
    "        optimizer.zero_grad() # Resets gradients\n",
    "        outputs = model(X_train) # Forward Propagation\n",
    "        loss = F.cross_entropy(outputs, y_train) # Calculate loss using cross-entropy\n",
    "        loss.backward() # Backward Propagation\n",
    "        optimizer.step() # Updates params\n",
    "        \n",
    "        loss_list.append(loss.item())\n",
    "        \n",
    "        print(f\"Epoch {epoch}: Loss = {loss.item()}\")\n",
    "        \n",
    "    return loss_list"
   ]
  },
  {
   "cell_type": "code",
   "execution_count": null,
   "id": "902c18df",
   "metadata": {},
   "outputs": [],
   "source": [
    "def evaluate_actor(model, X_train, y_train, X_test, y_test):\n",
    "    with torch.no_grad():\n",
    "        train_outputs = model(X_train)\n",
    "        _, train_predicted = torch.max(train_outputs, 1)\n",
    "        \n",
    "        test_outputs = model(X_test)\n",
    "        _, test_predicted = torch.max(test_outputs, 1)\n",
    "\n",
    "    # Calculate train and test accuracy\n",
    "    train_accuracy = accuracy_score(y_train, train_predicted)\n",
    "    print(f'Train Accuracy: {train_accuracy}')\n",
    "    \n",
    "    test_accuracy = accuracy_score(y_test, test_predicted)\n",
    "    print(f'Test Accuracy: {test_accuracy}')\n",
    "\n",
    "    return train_accuracy, test_accuracy"
   ]
  },
  {
   "cell_type": "code",
   "execution_count": null,
   "id": "4971cf04",
   "metadata": {},
   "outputs": [],
   "source": [
    "def predict_action(model, X_input, valid):\n",
    "    with torch.no_grad():\n",
    "        output = model(X_input)\n",
    "        \n",
    "    valid_tensor = torch.tensor(valid, dtype = torch.bool)\n",
    "    valid_output = torch.where(valid_tensor, output, torch.tensor(float('-inf')).to(output.dtype))\n",
    "    \n",
    "    _, predicted_action = torch.max(valid_output, 1)\n",
    "    \n",
    "    return predicted_action.item()"
   ]
  },
  {
   "cell_type": "code",
   "execution_count": null,
   "id": "ed1e9f0e",
   "metadata": {},
   "outputs": [],
   "source": [
    "def plot_loss(loss_list):\n",
    "    plt.plot(loss_list)\n",
    "    plt.title('Training Loss per Epoch')\n",
    "    plt.xlabel('Epoch')\n",
    "    plt.ylabel('Loss')\n",
    "    plt.show()"
   ]
  },
  {
   "cell_type": "markdown",
   "id": "dfe4a752",
   "metadata": {},
   "source": [
    "### Pretraining Data Preprocessing"
   ]
  },
  {
   "cell_type": "code",
   "execution_count": null,
   "id": "e51f005a",
   "metadata": {},
   "outputs": [],
   "source": [
    "pretrain_data = pd.read_csv('Data/Model1/Final/model1_data_raw.csv')"
   ]
  },
  {
   "cell_type": "code",
   "execution_count": null,
   "id": "03987800",
   "metadata": {},
   "outputs": [],
   "source": [
    "pretrain_data = pretrain_data.drop_duplicates()"
   ]
  },
  {
   "cell_type": "code",
   "execution_count": null,
   "id": "923de200",
   "metadata": {},
   "outputs": [],
   "source": [
    "X_pt = pretrain_data.iloc[:, :-1]\n",
    "y_pt = pretrain_data.iloc[:, -1]"
   ]
  },
  {
   "cell_type": "code",
   "execution_count": null,
   "id": "8bc584d0",
   "metadata": {},
   "outputs": [],
   "source": [
    "X_pt"
   ]
  },
  {
   "cell_type": "code",
   "execution_count": null,
   "id": "d50b3b6e",
   "metadata": {},
   "outputs": [],
   "source": [
    "y_pt"
   ]
  },
  {
   "cell_type": "code",
   "execution_count": null,
   "id": "3f278260",
   "metadata": {},
   "outputs": [],
   "source": [
    "X_pt = X_pt.drop(columns=['crew_stay'])"
   ]
  },
  {
   "cell_type": "code",
   "execution_count": null,
   "id": "7e3f597a",
   "metadata": {},
   "outputs": [],
   "source": [
    "crew_columns = ['crew_up', 'crew_down', 'crew_left', 'crew_right']\n",
    "X_pt['sum_crew'] = X_pt[crew_columns].sum(axis=1)\n",
    "\n",
    "for col in crew_columns:\n",
    "    X_pt.loc[X_pt['sum_crew'] != 0, col] = X_pt[col] / X_pt['sum_crew']\n",
    "\n",
    "X_pt.drop('sum_crew', axis=1, inplace=True)\n",
    "\n",
    "X_pt"
   ]
  },
  {
   "cell_type": "code",
   "execution_count": null,
   "id": "6e438688",
   "metadata": {},
   "outputs": [],
   "source": [
    "y_pt = y_pt.apply(ast.literal_eval)\n",
    "y_pt = y_pt.apply(lambda x: x.index(1))\n",
    "y_pt"
   ]
  },
  {
   "cell_type": "code",
   "execution_count": null,
   "id": "a9e5ec91",
   "metadata": {},
   "outputs": [],
   "source": [
    "X_pt_train, X_pt_test, y_pt_train, y_pt_test = train_test_split(X_pt, y_pt, test_size = 0.2, random_state = 42)"
   ]
  },
  {
   "cell_type": "code",
   "execution_count": null,
   "id": "513e705f",
   "metadata": {},
   "outputs": [],
   "source": [
    "X_pt_train_tensor = torch.tensor(X_pt_train.values, dtype=torch.float32)\n",
    "y_pt_train_tensor = torch.tensor(y_pt_train.values, dtype=torch.long)\n",
    "\n",
    "X_pt_test_tensor = torch.tensor(X_pt_test.values, dtype=torch.float32)\n",
    "y_pt_test_tensor = torch.tensor(y_pt_test.values, dtype=torch.long)"
   ]
  },
  {
   "cell_type": "code",
   "execution_count": null,
   "id": "1b23ab4f",
   "metadata": {},
   "outputs": [],
   "source": [
    "X_pt_train_tensor"
   ]
  },
  {
   "cell_type": "code",
   "execution_count": null,
   "id": "424aa070",
   "metadata": {},
   "outputs": [],
   "source": [
    "y_pt_train_tensor"
   ]
  },
  {
   "cell_type": "markdown",
   "id": "9d829084",
   "metadata": {},
   "source": [
    "### Initialize + Pretrain ACTOR"
   ]
  },
  {
   "cell_type": "code",
   "execution_count": null,
   "id": "32c9b482",
   "metadata": {},
   "outputs": [],
   "source": [
    "num_features = X_pt_train.shape[1]\n",
    "actor = Actor(num_features)\n",
    "optimizer = torch.optim.Adam(actor.parameters(), lr = 0.001) # Set learning rate to 0.001"
   ]
  },
  {
   "cell_type": "code",
   "execution_count": null,
   "id": "e0290952",
   "metadata": {},
   "outputs": [],
   "source": [
    "loss_list = train_actor(actor, optimizer, X_pt_train_tensor, y_pt_train_tensor, epochs=500)"
   ]
  },
  {
   "cell_type": "code",
   "execution_count": null,
   "id": "375a575c",
   "metadata": {},
   "outputs": [],
   "source": [
    "plot_loss(loss_list)"
   ]
  },
  {
   "cell_type": "code",
   "execution_count": null,
   "id": "123f97bb",
   "metadata": {},
   "outputs": [],
   "source": [
    "evaluate_actor(actor, X_pt_train_tensor, y_pt_train_tensor, X_pt_test_tensor, y_pt_test_tensor)"
   ]
  },
  {
   "cell_type": "markdown",
   "id": "f6aacf17",
   "metadata": {},
   "source": [
    "## Simulate Bot1"
   ]
  },
  {
   "cell_type": "code",
   "execution_count": null,
   "id": "a847b14a",
   "metadata": {},
   "outputs": [],
   "source": [
    "import Bot1"
   ]
  },
  {
   "cell_type": "code",
   "execution_count": null,
   "id": "b88b1e5b",
   "metadata": {},
   "outputs": [],
   "source": [
    "file_name = 'Data/Model3/collected_data.csv'"
   ]
  },
  {
   "cell_type": "code",
   "execution_count": null,
   "id": "2263055e",
   "metadata": {},
   "outputs": [],
   "source": [
    "%run Bot1.ipynb"
   ]
  },
  {
   "cell_type": "code",
   "execution_count": null,
   "id": "7121658a",
   "metadata": {},
   "outputs": [],
   "source": [
    "grid, open_cells = create_grid() # Fixed grid orientation"
   ]
  },
  {
   "cell_type": "code",
   "execution_count": null,
   "id": "def9f98f",
   "metadata": {},
   "outputs": [],
   "source": [
    "def is_valid(x, y, move, grid, open_cells):\n",
    "    if move == 'up' and (x, y + 1) in open_cells:\n",
    "        return True\n",
    "    elif move == 'down' and (x, y - 1) in open_cells:\n",
    "        return True\n",
    "    elif move == 'left' and (x - 1, y) in open_cells:\n",
    "        return True\n",
    "    elif move == 'right' and (x + 1, y) in open_cells:\n",
    "        return True\n",
    "    elif move == 'stay':\n",
    "        return True\n",
    "    else:\n",
    "        return False"
   ]
  },
  {
   "cell_type": "code",
   "execution_count": null,
   "id": "8a5f73f8",
   "metadata": {},
   "outputs": [],
   "source": [
    "def predict_to_move(bot, prediction):\n",
    "    next_move = bot\n",
    "    \n",
    "    if prediction == 0:\n",
    "        next_move = (bot[0], bot[1] + 1)\n",
    "    elif prediction == 1:\n",
    "        next_move = (bot[0], bot[1] - 1)\n",
    "    elif prediction == 2:\n",
    "        next_move = (bot[0] - 1, bot[1])\n",
    "    elif prediction == 3:\n",
    "        next_move = (bot[0] + 1, bot[1])\n",
    "    else:\n",
    "        next_move = bot\n",
    "        \n",
    "    return next_move"
   ]
  },
  {
   "cell_type": "code",
   "execution_count": null,
   "id": "769c325c",
   "metadata": {},
   "outputs": [],
   "source": [
    "def create_valid_matrix(X):\n",
    "    global grid, open_cells\n",
    "    directions = ['up', 'down', 'left', 'right', 'stay']\n",
    "    valid_list = []\n",
    "    for i in range(len(X)):\n",
    "        x, y = X.iloc[i, 0], X.iloc[i, 1]\n",
    "        validity_for_each_direction = [is_valid(x, y, move, grid, open_cells) for move in directions]\n",
    "        valid_list.append(validity_for_each_direction)\n",
    "\n",
    "    valid_array = np.array(valid_list)\n",
    "    return valid_array"
   ]
  },
  {
   "cell_type": "code",
   "execution_count": null,
   "id": "681470c8",
   "metadata": {},
   "outputs": [],
   "source": [
    "def determine_probabilities(bot, matrix):\n",
    "    directions = {'up': (bot[0], bot[1] - 1), \n",
    "                  'down': (bot[0], bot[1] + 1), \n",
    "                  'left': (bot[0] - 1, bot[1]), \n",
    "                  'right': (bot[0] + 1, bot[1]),\n",
    "                  'stay': bot}\n",
    "    return [matrix.get(directions[direction], 0) for direction in ['up', 'down', 'left', 'right', 'stay']]"
   ]
  },
  {
   "cell_type": "code",
   "execution_count": null,
   "id": "97c6b1ab",
   "metadata": {},
   "outputs": [],
   "source": [
    "def predict_with_params(actor, bot, alien_matrix, crew_matrix, alien_detected, crew_detected):\n",
    "    alien_probs = determine_probabilities(bot, alien_matrix)\n",
    "    crew_probs = determine_probabilities(bot, crew_matrix)\n",
    "    \n",
    "    X = pd.DataFrame([{\n",
    "        'bot_x': bot[0],\n",
    "        'bot_y': bot[1],\n",
    "\n",
    "        'alien_up': alien_probs[0],\n",
    "        'alien_down': alien_probs[1],\n",
    "        'alien_left': alien_probs[2],\n",
    "        'alien_right': alien_probs[3],\n",
    "        'alien_stay': alien_probs[4],\n",
    "\n",
    "        'crew_up': crew_probs[0],\n",
    "        'crew_down': crew_probs[1],\n",
    "        'crew_left': crew_probs[2],\n",
    "        'crew_right': crew_probs[3],\n",
    "\n",
    "        'alien_detected': 1 if alien_detected else 0,\n",
    "        'crew_detected': 1 if crew_detected else 0,\n",
    "    }], columns=['bot_x', 'bot_y', 'alien_up', 'alien_down', 'alien_left', 'alien_right', 'alien_stay', 'crew_up', 'crew_down', 'crew_left', 'crew_right', 'alien_detected', 'crew_detected'])\n",
    "    \n",
    "    valid = create_valid_matrix(X)\n",
    "    \n",
    "    crew_columns = ['crew_up', 'crew_down', 'crew_left', 'crew_right']\n",
    "    X['sum_crew'] = X[crew_columns].sum(axis=1)\n",
    "\n",
    "    for col in crew_columns:\n",
    "        X.loc[X['sum_crew'] != 0, col] = X[col] / X['sum_crew']\n",
    "\n",
    "    X.drop('sum_crew', axis=1, inplace=True)\n",
    "    \n",
    "    X_tensor = torch.tensor(X.values, dtype=torch.float32)\n",
    "    \n",
    "    prediction = predict_action(actor, X_tensor, valid)\n",
    "    next_move = predict_to_move(bot, prediction)\n",
    "    \n",
    "    return next_move"
   ]
  },
  {
   "cell_type": "code",
   "execution_count": null,
   "id": "3f433d96",
   "metadata": {},
   "outputs": [],
   "source": [
    "def Actor_Bot1(k, alpha, max_iter, timeout, actor):\n",
    "    global grid, open_cells\n",
    "    \n",
    "    grid, open_cells = reset_grid(grid, open_cells)\n",
    "    bot, ship, open_cells = place_bot(grid, open_cells)\n",
    "\n",
    "    crew_list = []\n",
    "    alien_list = []\n",
    "    d_lookup_table = {}\n",
    "    \n",
    "    data_log = [] # Data Log Initialization\n",
    "\n",
    "    crew_list, ship = place_crew(ship, open_cells, crew_list)\n",
    "    alien_list, ship = place_alien(ship, open_cells, alien_list, bot, k)\n",
    "\n",
    "    alien_matrix = initialize_alienmatrix(open_cells, bot, k)\n",
    "    crew_matrix = initialize_crewmatrix(open_cells, crew_list, bot)\n",
    "    \n",
    "    alien_detected = False\n",
    "    crew_detected = False\n",
    "\n",
    "    win_count = 0\n",
    "    loss_count = 0\n",
    "    move = 0\n",
    "    win_move_count = []\n",
    "    marker = 0\n",
    "    \n",
    "    while (win_count + loss_count) < max_iter:\n",
    "        neighbors = check_valid_neighbors(len(ship), bot[0], bot[1])\n",
    "        open_moves = [neigh for neigh in neighbors if (grid[neigh] != 1)]\n",
    "        open_moves.append(bot)\n",
    "        next_move = predict_with_params(actor, bot, alien_matrix, crew_matrix, alien_detected, crew_detected) # Predict using trained network\n",
    "        \n",
    "        # Data Collection Process\n",
    "        \n",
    "        alien_probs = determine_probabilities(bot, alien_matrix)\n",
    "        crew_probs = determine_probabilities(bot, crew_matrix)\n",
    "        \n",
    "        crew_probs.pop()\n",
    "        \n",
    "        if sum(crew_probs) > 0:\n",
    "            crew_probs = [c / total for c in crew_probs]\n",
    "        \n",
    "        # Convert relative move to string      \n",
    "        if next_move[0] > bot[0]:\n",
    "            next_move_str = 'right'\n",
    "        elif next_move[0] < bot[0]:\n",
    "            next_move_str = 'left'\n",
    "        elif next_move[1] > bot[1]:\n",
    "            next_move_str = 'up'\n",
    "        elif next_move[1] < bot[1]:\n",
    "            next_move_str = 'down'\n",
    "        else:\n",
    "            next_move_str = 'stay'\n",
    "        \n",
    "        actions = {'up': 0, 'down': 1, 'left': 2, 'right': 3, 'stay': 4}\n",
    "        best_move_encoded = actions[next_move_str]\n",
    "        \n",
    "        log_entry = {\n",
    "            'bot_x': bot[0],\n",
    "            'bot_y': bot[1],\n",
    "            \n",
    "            'alien_up': alien_probs[0],\n",
    "            'alien_down': alien_probs[1],\n",
    "            'alien_left': alien_probs[2],\n",
    "            'alien_right': alien_probs[3],\n",
    "            'alien_stay': alien_probs[4],\n",
    "            \n",
    "            'crew_up': crew_probs[0],\n",
    "            'crew_down': crew_probs[1],\n",
    "            'crew_left': crew_probs[2],\n",
    "            'crew_right': crew_probs[3],\n",
    "            \n",
    "            'alien_detected': 1 if alien_detected else 0,\n",
    "            'crew_detected': 1 if crew_detected else 0,\n",
    "            \n",
    "            'chosen_action': best_move_encoded\n",
    "        }\n",
    "        data_log.append(log_entry)\n",
    "        \n",
    "        prev_win_count = win_count\n",
    "        bot, crew_list, ship, open_cells, win_count, marker = move_bot(ship, bot, next_move, crew_list, alien_list, open_cells, win_count, 1)\n",
    "        move += 1\n",
    "\n",
    "        if marker == 1 or move >= timeout:\n",
    "            loss_count += 1\n",
    "            print(f\"ACTOR captured! Win Count: {win_count}, Loss Count: {loss_count}\")\n",
    "\n",
    "            grid, open_cells = reset_grid(grid, open_cells)\n",
    "            bot, ship, open_cells = place_bot(grid, open_cells)\n",
    "            crew_list = []\n",
    "            alien_list = []\n",
    "            d_lookup_table = {}\n",
    "\n",
    "            crew_list, ship = place_crew(ship, open_cells, crew_list)\n",
    "            alien_list, ship = place_alien(ship, open_cells, alien_list, bot, k)\n",
    "\n",
    "            alien_matrix = initialize_alienmatrix(open_cells, bot, k)\n",
    "            crew_matrix = initialize_crewmatrix(open_cells, crew_list, bot)\n",
    "            marker = 0\n",
    "            move = 0\n",
    "\n",
    "            continue\n",
    "\n",
    "        if win_count > prev_win_count:\n",
    "            print(f\"Crew saved! Win Count: {win_count}, Loss Count: {loss_count}\")\n",
    "            win_move_count.append(move)\n",
    "            move = 0\n",
    "            d_lookup_table = {}\n",
    "            alien_matrix = initialize_alienmatrix(open_cells, bot, k)\n",
    "            crew_matrix = initialize_crewmatrix(open_cells, crew_list, bot)\n",
    "        \n",
    "        print(f\"ACTOR: {bot}, Crew: {crew_list}, Aliens: {alien_list}\")\n",
    "\n",
    "        alien_matrix, crew_matrix = update_afterbotmove(bot, alien_matrix, crew_matrix)\n",
    "\n",
    "        # Move bot to optimal neighbor\n",
    "        marker, alien_list, ship = move_aliens(ship, alien_list, bot) # Move alien randomly\n",
    "\n",
    "        if marker == 1 or move >= timeout:\n",
    "            loss_count += 1\n",
    "            print(f\"ACTOR captured! Win Count: {win_count}, Loss Count: {loss_count}\")\n",
    "\n",
    "            grid, open_cells = reset_grid(grid, open_cells)\n",
    "            bot, ship, open_cells = place_bot(grid, open_cells)\n",
    "            crew_list = []\n",
    "            alien_list = []\n",
    "            d_lookup_table = {}\n",
    "\n",
    "            crew_list, ship = place_crew(ship, open_cells, crew_list)\n",
    "            alien_list, ship = place_alien(ship, open_cells, alien_list, bot, k)\n",
    "\n",
    "            alien_matrix = initialize_alienmatrix(open_cells, bot, k)\n",
    "            crew_matrix = initialize_crewmatrix(open_cells, crew_list, bot)\n",
    "            marker = 0\n",
    "            move = 0\n",
    "\n",
    "            continue\n",
    "        \n",
    "        alien_matrix = update_afteralienmove(ship, alien_list, alien_matrix) # Update after alien move\n",
    "        \n",
    "        alien_detected = alien_sensor(alien_list, bot, k) # Run Alien Sensor\n",
    "        crew_detected, d_lookup_table = crew_sensor(ship, bot, alpha, d_lookup_table, crew_list) # Run Crew Sensor\n",
    "        \n",
    "        alien_matrix = update_alienmatrix(alien_matrix, alien_detected, bot, k) # Update based on alien sensor\n",
    "\n",
    "        crew_matrix = update_crewmatrix(crew_matrix, crew_detected, d_lookup_table, bot, alpha) # Update based on crew sensor\n",
    "        \n",
    "    df = pd.DataFrame(data_log)\n",
    "    df.to_csv(file_name, mode='w', index=False, header=True)\n",
    "\n",
    "    return sum(win_move_count) // max(1, len(win_move_count)), (win_count / max(1, (win_count + loss_count))), win_count"
   ]
  },
  {
   "cell_type": "code",
   "execution_count": null,
   "id": "355215d1",
   "metadata": {},
   "outputs": [],
   "source": [
    "def Actor_Bot1_Simulation(alpha_values, k_values, max_iter, timeout, num_simulations, actor):\n",
    "    avg_rescue_moves_mbot1 = {k: [] for k in k_values}\n",
    "    prob_crew_rescue_mbot1 = {k: [] for k in k_values}\n",
    "    avg_crew_saved_mbot1 = {k: [] for k in k_values}\n",
    "\n",
    "    for k in k_values:\n",
    "        for alpha in alpha_values:\n",
    "            total_metric1_mbot1, total_metric2_mbot1, total_metric3_mbot1 = 0, 0, 0\n",
    "            \n",
    "            for i in range(num_simulations):\n",
    "                metric1_mbot1, metric2_mbot1, metric3_mbot1 = Actor_Bot1(k, alpha, max_iter, timeout, actor)\n",
    "\n",
    "                total_metric1_mbot1 += metric1_mbot1\n",
    "                total_metric2_mbot1 += metric2_mbot1\n",
    "                total_metric3_mbot1 += metric3_mbot1\n",
    "\n",
    "            avg_metric1_mbot1 = total_metric1_mbot1 / num_simulations\n",
    "            avg_metric2_mbot1 = total_metric2_mbot1 / num_simulations\n",
    "            avg_metric3_mbot1 = total_metric3_mbot1 / num_simulations\n",
    "\n",
    "            print(f\"ACTOR: k={k}, Alpha={alpha}\\nAverage Rescue Moves={avg_metric1_mbot1}\\nProbability of Crew Rescue={avg_metric2_mbot1}\\nAverage Crew Saved={avg_metric3_mbot1}\\n\")\n",
    "            \n",
    "            avg_rescue_moves_mbot1[k].append(avg_metric1_mbot1)\n",
    "            prob_crew_rescue_mbot1[k].append(avg_metric2_mbot1)\n",
    "            avg_crew_saved_mbot1[k].append(avg_metric3_mbot1)\n",
    "\n",
    "    return avg_rescue_moves_mbot1, prob_crew_rescue_mbot1, avg_crew_saved_mbot1"
   ]
  },
  {
   "cell_type": "code",
   "execution_count": null,
   "id": "04493ddc",
   "metadata": {},
   "outputs": [],
   "source": [
    "def test_simulation_actor(alpha_values, k_values, max_iter, timeout, num_simulations, actor):\n",
    "    avg_rescue_moves_mbot1, prob_crew_rescue_mbot1, avg_crew_saved_mbot1 = Actor_Bot1_Simulation(alpha_values, k_values, max_iter, timeout, num_simulations, actor)\n",
    "\n",
    "    prob_crew_rescue_mbot1 = {k: [round(prob, 3) for prob in probs] for k, probs in prob_crew_rescue_mbot1.items()}\n",
    "\n",
    "    print(f\"ACTOR:\\nAverage Rescue Moves = {avg_rescue_moves_mbot1}\\nProbability of Crew Rescue = {prob_crew_rescue_mbot1}\\nAverage Crew Saved = {avg_crew_saved_mbot1}\\n\")\n",
    "    \n",
    "    return avg_rescue_moves_mbot1, prob_crew_rescue_mbot1, avg_crew_saved_mbot1"
   ]
  },
  {
   "cell_type": "code",
   "execution_count": null,
   "id": "828eb9f5",
   "metadata": {},
   "outputs": [],
   "source": [
    "alpha_values = [0.004]\n",
    "k_values = [3]\n",
    "max_iter = 10\n",
    "timeout = 10000\n",
    "num_simulations = 2"
   ]
  },
  {
   "cell_type": "code",
   "execution_count": null,
   "id": "b6f928c3",
   "metadata": {},
   "outputs": [],
   "source": [
    "metric1_mbot1, metric2_mbot1, metric3_mbot1 = test_simulation_actor(alpha_values, k_values, max_iter, timeout, num_simulations, actor)"
   ]
  },
  {
   "cell_type": "code",
   "execution_count": null,
   "id": "0e5fecad",
   "metadata": {},
   "outputs": [],
   "source": []
  }
 ],
 "metadata": {
  "kernelspec": {
   "display_name": "Python 3 (ipykernel)",
   "language": "python",
   "name": "python3"
  },
  "language_info": {
   "codemirror_mode": {
    "name": "ipython",
    "version": 3
   },
   "file_extension": ".py",
   "mimetype": "text/x-python",
   "name": "python",
   "nbconvert_exporter": "python",
   "pygments_lexer": "ipython3",
   "version": "3.9.13"
  }
 },
 "nbformat": 4,
 "nbformat_minor": 5
}
