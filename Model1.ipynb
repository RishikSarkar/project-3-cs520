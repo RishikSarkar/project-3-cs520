{
 "cells": [
  {
   "cell_type": "markdown",
   "id": "b9ef4437",
   "metadata": {},
   "source": [
    "# Model 1: Modeling Selected Actions"
   ]
  },
  {
   "cell_type": "markdown",
   "id": "a948f47d",
   "metadata": {},
   "source": [
    "The purpose of this model is to predict the action that the bot will select for a given state of the simulation."
   ]
  },
  {
   "cell_type": "markdown",
   "id": "968dc924",
   "metadata": {},
   "source": [
    "## Preliminary Setup"
   ]
  },
  {
   "cell_type": "markdown",
   "id": "956b6c02",
   "metadata": {},
   "source": [
    "### Imports"
   ]
  },
  {
   "cell_type": "code",
   "execution_count": null,
   "id": "19864ca6",
   "metadata": {},
   "outputs": [],
   "source": [
    "import os\n",
    "import numpy as np\n",
    "import random\n",
    "import math\n",
    "import json\n",
    "import pandas as pd\n",
    "import ast\n",
    "import datetime\n",
    "import pickle"
   ]
  },
  {
   "cell_type": "code",
   "execution_count": null,
   "id": "c24f8985",
   "metadata": {},
   "outputs": [],
   "source": [
    "# %pip install json"
   ]
  },
  {
   "cell_type": "code",
   "execution_count": null,
   "id": "490bd53b",
   "metadata": {},
   "outputs": [],
   "source": [
    "import nbimporter"
   ]
  },
  {
   "cell_type": "markdown",
   "id": "2b1f15c9",
   "metadata": {},
   "source": [
    "### Additional Bot Config"
   ]
  },
  {
   "cell_type": "code",
   "execution_count": null,
   "id": "9517466d",
   "metadata": {},
   "outputs": [],
   "source": [
    "import Bot1"
   ]
  },
  {
   "cell_type": "code",
   "execution_count": null,
   "id": "cc40f06f",
   "metadata": {},
   "outputs": [],
   "source": [
    "file_name = 'Data/Model1/model1_data_raw.csv'"
   ]
  },
  {
   "cell_type": "code",
   "execution_count": null,
   "id": "40117790",
   "metadata": {},
   "outputs": [],
   "source": [
    "%run Bot1.ipynb"
   ]
  },
  {
   "cell_type": "code",
   "execution_count": null,
   "id": "4b5f4c11",
   "metadata": {},
   "outputs": [],
   "source": [
    "grid, open_cells = create_grid() # Fixed grid orientation"
   ]
  },
  {
   "cell_type": "code",
   "execution_count": null,
   "id": "95408f3f",
   "metadata": {},
   "outputs": [],
   "source": [
    "def determine_probabilities(bot, matrix):\n",
    "    directions = {'up': (bot[0], bot[1] - 1), \n",
    "                  'down': (bot[0], bot[1] + 1), \n",
    "                  'left': (bot[0] - 1, bot[1]), \n",
    "                  'right': (bot[0] + 1, bot[1]),\n",
    "                  'stay': bot}\n",
    "    return [matrix.get(directions[direction], 0) for direction in ['up', 'down', 'left', 'right', 'stay']]"
   ]
  },
  {
   "cell_type": "code",
   "execution_count": null,
   "id": "946fbf3f",
   "metadata": {},
   "outputs": [],
   "source": [
    "def determine_d_crew(ship, bot, alpha, d_lookup_table, crew_list, crew_matrix, open_cells):\n",
    "    directions = {'up': (bot[0], bot[1] - 1), \n",
    "                  'down': (bot[0], bot[1] + 1), \n",
    "                  'left': (bot[0] - 1, bot[1]), \n",
    "                  'right': (bot[0] + 1, bot[1]),\n",
    "                  'stay': bot}\n",
    "    \n",
    "    direction_values = set(directions.values())\n",
    "    \n",
    "    filtered_crew_matrix = {k: v for k, v in crew_matrix.items() if k not in direction_values}\n",
    "    \n",
    "    if filtered_crew_matrix:\n",
    "        max_crew_cell = max(filtered_crew_matrix, key=filtered_crew_matrix.get)\n",
    "    else:\n",
    "        return [0] * 5, d_lookup_table\n",
    "        \n",
    "    d_list = []\n",
    "    \n",
    "    for direction in ['up', 'down', 'left', 'right', 'stay']:\n",
    "        if (directions[direction] in open_cells or directions[direction] == bot) and directions[direction] not in crew_list:\n",
    "            _, d_lookup_table = crew_sensor(ship, directions[direction], alpha, d_lookup_table, crew_list)\n",
    "            d_dict = d_lookup_table.get(directions[direction])\n",
    "            d_list.append(1 / d_dict[max_crew_cell[0], max_crew_cell[1]])\n",
    "        else:\n",
    "            d_list.append(0)\n",
    "    \n",
    "    return d_list, d_lookup_table"
   ]
  },
  {
   "cell_type": "code",
   "execution_count": null,
   "id": "05d6ad37",
   "metadata": {},
   "outputs": [],
   "source": [
    "def determine_d_alien(ship, bot, alpha, d_lookup_table, alien_list, crew_list, alien_matrix, open_cells):\n",
    "    directions = {'up': (bot[0], bot[1] - 1), \n",
    "                  'down': (bot[0], bot[1] + 1), \n",
    "                  'left': (bot[0] - 1, bot[1]), \n",
    "                  'right': (bot[0] + 1, bot[1]),\n",
    "                  'stay': bot}\n",
    "    \n",
    "    direction_values = set(directions.values())\n",
    "    \n",
    "    filtered_alien_matrix = {k: v for k, v in alien_matrix.items() if k not in direction_values}\n",
    "    \n",
    "    if filtered_alien_matrix:\n",
    "        max_alien_cell = max(filtered_alien_matrix, key=filtered_alien_matrix.get)\n",
    "    else:\n",
    "        return [0] * 5, d_lookup_table\n",
    "        \n",
    "    d_list = []\n",
    "    \n",
    "    for direction in ['up', 'down', 'left', 'right', 'stay']:\n",
    "        if (directions[direction] in open_cells or directions[direction] == bot) and directions[direction] not in crew_list and directions[direction] not in alien_list:\n",
    "            _, d_lookup_table = crew_sensor(ship, directions[direction], alpha, d_lookup_table, crew_list)\n",
    "            d_dict = d_lookup_table.get(directions[direction])\n",
    "            d_list.append(1 / d_dict[max_alien_cell[0], max_alien_cell[1]])\n",
    "        else:\n",
    "            d_list.append(0)\n",
    "    \n",
    "    return d_list, d_lookup_table"
   ]
  },
  {
   "cell_type": "code",
   "execution_count": null,
   "id": "7a364980",
   "metadata": {},
   "outputs": [],
   "source": [
    "def Bot1_collect_data(k, alpha, max_iter, timeout):\n",
    "    global grid, open_cells\n",
    "    \n",
    "    grid, open_cells = reset_grid(grid, open_cells)\n",
    "    bot, ship, open_cells = place_bot(grid, open_cells)\n",
    "\n",
    "    crew_list = []\n",
    "    alien_list = []\n",
    "    d_lookup_table = {}\n",
    "    \n",
    "    data_log = [] # Data Log Initialization\n",
    "\n",
    "    crew_list, ship = place_crew(ship, open_cells, crew_list)\n",
    "    alien_list, ship = place_alien(ship, open_cells, alien_list, bot, k)\n",
    "\n",
    "    alien_matrix = initialize_alienmatrix(open_cells, bot, k)\n",
    "    crew_matrix = initialize_crewmatrix(open_cells, crew_list, bot)\n",
    "    \n",
    "    alien_detected = alien_sensor(alien_list, bot, k) # Initially Run Alien Sensor\n",
    "    crew_detected, d_lookup_table = crew_sensor(ship, bot, alpha, d_lookup_table, crew_list) # Initially Run Crew Sensor\n",
    "    \n",
    "    next_move_str = 'stay'\n",
    "\n",
    "    win_count = 0\n",
    "    loss_count = 0\n",
    "    move = 0\n",
    "    win_move_count = []\n",
    "    marker = 0\n",
    "\n",
    "    while (win_count + loss_count) < max_iter:\n",
    "        neighbors = check_valid_neighbors(len(ship), bot[0], bot[1])\n",
    "        open_moves = [neigh for neigh in neighbors if (grid[neigh] != 1)]\n",
    "        open_moves.append(bot) # Bot can stay in place \n",
    "        next_move = determine_move(open_moves, alien_matrix, crew_matrix)\n",
    "        \n",
    "#         alien_matrix_str_keys = {str(key): round(value, 5) for key, value in alien_matrix.items()}\n",
    "#         crew_matrix_str_keys = {str(key): round(value, 5) for key, value in crew_matrix.items()}\n",
    "\n",
    "#         alien_matrix_json = json.dumps(alien_matrix_str_keys)\n",
    "#         crew_matrix_json = json.dumps(crew_matrix_str_keys)\n",
    "\n",
    "#         alien_matrix_flat = [round(alien_matrix.get((x, y), 0), 5) for x in range(30) for y in range(30)]\n",
    "#         crew_matrix_flat = [round(crew_matrix.get((x, y), 0), 5) for x in range(30) for y in range(30)]\n",
    "\n",
    "        alien_probs = determine_probabilities(bot, alien_matrix)\n",
    "        crew_probs = determine_probabilities(bot, crew_matrix)\n",
    "        d_crew, d_lookup_table = determine_d_crew(ship, bot, alpha, d_lookup_table, crew_list, crew_matrix, open_cells) # Find shortest distance from highest probability crew cell to all neighbors\n",
    "        d_alien, d_lookup_table = determine_d_alien(ship, bot, alpha, d_lookup_table, alien_list, crew_list, alien_matrix, open_cells) # Find shortest distance from highest probability alien cell to all neighbors\n",
    "        \n",
    "        # Convert relative move to string      \n",
    "        if next_move[0] > bot[0]:\n",
    "            next_move_str = 'right'\n",
    "        elif next_move[0] < bot[0]:\n",
    "            next_move_str = 'left'\n",
    "        elif next_move[1] > bot[1]:\n",
    "            next_move_str = 'up'\n",
    "        elif next_move[1] < bot[1]:\n",
    "            next_move_str = 'down'\n",
    "        else:\n",
    "            next_move_str = 'stay'\n",
    "        \n",
    "        # One-Hot Encoding\n",
    "        actions = {'up': [1, 0, 0, 0, 0], 'down': [0, 1, 0, 0, 0], 'left': [0, 0, 1, 0, 0], 'right': [0, 0, 0, 1, 0], 'stay': [0, 0, 0, 0, 1]}\n",
    "        best_move_encoded = actions[next_move_str]\n",
    "        \n",
    "        log_entry = {\n",
    "            'bot_x': bot[0],\n",
    "            'bot_y': bot[1],\n",
    "            \n",
    "            'alien_up': alien_probs[0],\n",
    "            'alien_down': alien_probs[1],\n",
    "            'alien_left': alien_probs[2],\n",
    "            'alien_right': alien_probs[3],\n",
    "            'alien_stay': alien_probs[4],\n",
    "            \n",
    "            'crew_up': crew_probs[0],\n",
    "            'crew_down': crew_probs[1],\n",
    "            'crew_left': crew_probs[2],\n",
    "            'crew_right': crew_probs[3],\n",
    "            \n",
    "            'd_crew_up': np.float32(d_crew[0]),\n",
    "            'd_crew_down': np.float32(d_crew[1]),\n",
    "            'd_crew_left': np.float32(d_crew[2]),\n",
    "            'd_crew_right': np.float32(d_crew[3]),\n",
    "            'd_crew_stay': np.float32(d_crew[4]),\n",
    "            \n",
    "            'd_alien_up': np.float32(d_alien[0]),\n",
    "            'd_alien_down': np.float32(d_alien[1]),\n",
    "            'd_alien_left': np.float32(d_alien[2]),\n",
    "            'd_alien_right': np.float32(d_alien[3]),\n",
    "            'd_alien_stay': np.float32(d_alien[4]),\n",
    "            \n",
    "            'alien_detected': 1 if alien_detected else 0,\n",
    "            'crew_detected': 1 if crew_detected else 0,\n",
    "            \n",
    "            'chosen_action': best_move_encoded\n",
    "        }\n",
    "        data_log.append(log_entry)\n",
    "        \n",
    "#         log_entry = {\n",
    "#             'bot_x': bot[0],\n",
    "#             'bot_y': bot[1],\n",
    "            \n",
    "#             'alien_up': alien_probs[0],\n",
    "#             'alien_down': alien_probs[1],\n",
    "#             'alien_left': alien_probs[2],\n",
    "#             'alien_right': alien_probs[3],\n",
    "#             'alien_stay': alien_probs[4],\n",
    "            \n",
    "#             'crew_up': crew_probs[0],\n",
    "#             'crew_down': crew_probs[1],\n",
    "#             'crew_left': crew_probs[2],\n",
    "#             'crew_right': crew_probs[3],\n",
    "            \n",
    "#             'd_crew_up': np.float32(d_crew[0]),\n",
    "#             'd_crew_down': np.float32(d_crew[1]),\n",
    "#             'd_crew_left': np.float32(d_crew[2]),\n",
    "#             'd_crew_right': np.float32(d_crew[3]),\n",
    "#             'd_crew_stay': np.float32(d_crew[4]),\n",
    "            \n",
    "#             'alien_detected': 1 if alien_detected else 0,\n",
    "#             'crew_detected': 1 if crew_detected else 0,\n",
    "            \n",
    "#             'chosen_action': best_move_encoded\n",
    "#         }\n",
    "#         data_log.append(log_entry)\n",
    "\n",
    "#         log_entry = {\n",
    "#             'bot_x': bot[0],\n",
    "#             'bot_y': bot[1],\n",
    "            \n",
    "#             **{'alien_' + str(key): np.float32(value) for key, value in alien_matrix.items()},\n",
    "#             **{'crew_' + str(key): np.float32(value) for key, value in crew_matrix.items()},\n",
    "            \n",
    "#             'alien_detected': 1 if alien_detected else 0,\n",
    "#             'crew_detected': 1 if crew_detected else 0,\n",
    "            \n",
    "#             'chosen_action': best_move_encoded\n",
    "#         }\n",
    "#         data_log.append(log_entry)\n",
    "        \n",
    "        prev_win_count = win_count\n",
    "        bot, crew_list, ship, open_cells, win_count, marker = move_bot(ship, bot, next_move, crew_list, alien_list, open_cells, win_count, 1)\n",
    "        move += 1\n",
    "\n",
    "        if marker == 1 or move >= timeout:\n",
    "            loss_count += 1\n",
    "            print(f\"Bot captured! Win Count: {win_count}, Loss Count: {loss_count}\")\n",
    "\n",
    "            grid, open_cells = reset_grid(grid, open_cells)\n",
    "            bot, ship, open_cells = place_bot(grid, open_cells)\n",
    "            crew_list = []\n",
    "            alien_list = []\n",
    "            d_lookup_table = {}\n",
    "\n",
    "            crew_list, ship = place_crew(ship, open_cells, crew_list)\n",
    "            alien_list, ship = place_alien(ship, open_cells, alien_list, bot, k)\n",
    "\n",
    "            alien_matrix = initialize_alienmatrix(open_cells, bot, k)\n",
    "            crew_matrix = initialize_crewmatrix(open_cells, crew_list, bot)\n",
    "            marker = 0\n",
    "            move = 0\n",
    "\n",
    "            continue\n",
    "\n",
    "        if win_count > prev_win_count:\n",
    "            print(f\"Crew saved! Win Count: {win_count}, Loss Count: {loss_count}\")\n",
    "            win_move_count.append(move)\n",
    "            move = 0\n",
    "            d_lookup_table = {}\n",
    "            alien_matrix = initialize_alienmatrix(open_cells, bot, k)\n",
    "            crew_matrix = initialize_crewmatrix(open_cells, crew_list, bot)\n",
    "        \n",
    "        print(f\"Bot: {bot}, Crew: {crew_list}, Aliens: {alien_list}\")\n",
    "\n",
    "        alien_matrix, crew_matrix = update_afterbotmove(bot, alien_matrix, crew_matrix)\n",
    "        \n",
    "        marker, alien_list, ship = move_aliens(ship, alien_list, bot) # Move alien randomly\n",
    "\n",
    "        if marker == 1 or move >= timeout:\n",
    "            loss_count += 1\n",
    "            print(f\"Bot captured! Win Count: {win_count}, Loss Count: {loss_count}\")\n",
    "\n",
    "            grid, open_cells = reset_grid(grid, open_cells)\n",
    "            bot, ship, open_cells = place_bot(grid, open_cells)\n",
    "            crew_list = []\n",
    "            alien_list = []\n",
    "            d_lookup_table = {}\n",
    "\n",
    "            crew_list, ship = place_crew(ship, open_cells, crew_list)\n",
    "            alien_list, ship = place_alien(ship, open_cells, alien_list, bot, k)\n",
    "\n",
    "            alien_matrix = initialize_alienmatrix(open_cells, bot, k)\n",
    "            crew_matrix = initialize_crewmatrix(open_cells, crew_list, bot)\n",
    "            marker = 0\n",
    "            move = 0\n",
    "\n",
    "            continue\n",
    "        \n",
    "        alien_matrix = update_afteralienmove(ship, alien_list, alien_matrix) # Update after alien move\n",
    "        \n",
    "        alien_detected = alien_sensor(alien_list, bot, k) # Run Alien Sensor\n",
    "        crew_detected, d_lookup_table = crew_sensor(ship, bot, alpha, d_lookup_table, crew_list) # Run Crew Sensor\n",
    "        \n",
    "        alien_matrix = update_alienmatrix(alien_matrix, alien_detected, bot, k) # Update based on alien sensor\n",
    "\n",
    "        crew_matrix = update_crewmatrix(crew_matrix, crew_detected, d_lookup_table, bot, alpha) # Update based on crew sensor\n",
    "    \n",
    "    df = pd.DataFrame(data_log)\n",
    "    \n",
    "    if os.path.isfile(file_name):\n",
    "        df.to_csv(file_name, mode='a', index=False, header=False)\n",
    "    else:\n",
    "        df.to_csv(file_name, mode='w', index=False, header=True)\n",
    "\n",
    "    return sum(win_move_count) // max(1, len(win_move_count)), (win_count / max(1, (win_count + loss_count))), win_count"
   ]
  },
  {
   "cell_type": "code",
   "execution_count": null,
   "id": "9b563458",
   "metadata": {},
   "outputs": [],
   "source": [
    "def Bot1_simulation(alpha_values, k_values, max_iter, timeout, num_simulations):\n",
    "    avg_rescue_moves = {k: [] for k in k_values}\n",
    "    prob_crew_rescue = {k: [] for k in k_values}\n",
    "    avg_crew_saved = {k: [] for k in k_values}\n",
    "\n",
    "    for k in k_values:\n",
    "        for alpha in alpha_values:\n",
    "            total_metric1, total_metric2, total_metric3 = 0, 0, 0\n",
    "            \n",
    "            for i in range(num_simulations):\n",
    "                metric1, metric2, metric3 = Bot1_collect_data(k, alpha, max_iter, timeout)\n",
    "                total_metric1 += metric1\n",
    "                total_metric2 += metric2\n",
    "                total_metric3 += metric3\n",
    "\n",
    "            avg_metric1 = total_metric1 / num_simulations\n",
    "            avg_metric2 = total_metric2 / num_simulations\n",
    "            avg_metric3 = total_metric3 / num_simulations\n",
    "\n",
    "            print(f\"k: {k}, Alpha: {alpha}\\nAverage Rescue Moves: {avg_metric1}\\nProbability of Crew Rescue: {avg_metric2}\\nAverage Crew Saved: {avg_metric3}\\n\")\n",
    "\n",
    "            avg_rescue_moves[k].append(avg_metric1)\n",
    "            prob_crew_rescue[k].append(avg_metric2)\n",
    "            avg_crew_saved[k].append(avg_metric3)\n",
    "\n",
    "    return avg_rescue_moves, prob_crew_rescue, avg_crew_saved"
   ]
  },
  {
   "cell_type": "code",
   "execution_count": null,
   "id": "fd94d814",
   "metadata": {},
   "outputs": [],
   "source": [
    "def one_alien_one_crew(alpha_values, k_values, max_iter, timeout, num_simulations):\n",
    "    bot1_avg_rescue_moves, bot1_prob_crew_rescue, bot1_avg_crew_saved = Bot1_simulation(alpha_values, k_values, max_iter, timeout, num_simulations)\n",
    "\n",
    "    bot1_prob_crew_rescue = {k: [round(prob, 3) for prob in probs] for k, probs in bot1_prob_crew_rescue.items()}\n",
    "\n",
    "    print(bot1_avg_rescue_moves, bot1_prob_crew_rescue, bot1_avg_crew_saved, \"\\n\")"
   ]
  },
  {
   "cell_type": "code",
   "execution_count": null,
   "id": "a78e4b3a",
   "metadata": {},
   "outputs": [],
   "source": [
    "alpha_values = [0.004]\n",
    "k_values = [3]\n",
    "max_iter = 30\n",
    "timeout = 10000\n",
    "num_simulations = 100"
   ]
  },
  {
   "cell_type": "code",
   "execution_count": null,
   "id": "ec1db10e",
   "metadata": {},
   "outputs": [],
   "source": [
    "# one_alien_one_crew(alpha_values, k_values, max_iter, timeout, num_simulations)"
   ]
  },
  {
   "cell_type": "code",
   "execution_count": null,
   "id": "239a4aaa",
   "metadata": {},
   "outputs": [],
   "source": [
    "# k: 3, Alpha: 0.004\n",
    "# Average Rescue Moves: 585.05\n",
    "# Probability of Crew Rescue: 0.71\n",
    "# Average Crew Saved: 21.3\n",
    "\n",
    "# {3: [585.05]} {3: [0.71]} {3: [21.3]} "
   ]
  },
  {
   "cell_type": "markdown",
   "id": "5496cb95",
   "metadata": {},
   "source": [
    "### Model 1 Training Functions"
   ]
  },
  {
   "cell_type": "code",
   "execution_count": null,
   "id": "7352e858",
   "metadata": {},
   "outputs": [],
   "source": [
    "# Softmax Function\n",
    "def softmax(z):\n",
    "    e_z = np.exp(z - np.max(z, axis=1, keepdims=True))\n",
    "    return e_z / np.sum(e_z, axis=1, keepdims=True)"
   ]
  },
  {
   "cell_type": "code",
   "execution_count": null,
   "id": "3803db67",
   "metadata": {},
   "outputs": [],
   "source": [
    "# Initialize weights and biases\n",
    "def init_params(num_features, num_classes):\n",
    "    W = np.random.randn(num_features, num_classes) * 0.01 # Initialize to a small random number\n",
    "    b = np.zeros((1, num_classes))\n",
    "#     print(W, b, W.shape, b.shape)\n",
    "    return W, b"
   ]
  },
  {
   "cell_type": "code",
   "execution_count": null,
   "id": "cc92e859",
   "metadata": {},
   "outputs": [],
   "source": [
    "# Loss Function\n",
    "def loss_function(y_true, y_pred, valid):\n",
    "    n = y_true.shape[0]\n",
    "\n",
    "    valid_y_pred = y_pred * valid\n",
    "    valid_y_pred_sum = valid_y_pred.sum(axis=1, keepdims=True)\n",
    "    valid_y_pred /= valid_y_pred_sum\n",
    "    \n",
    "    y_true_array = np.array(y_true['chosen_action'].apply(ast.literal_eval).tolist())\n",
    "#     print(y_true_array, y_true_array.shape, valid_y_pred, valid_y_pred.shape)\n",
    "\n",
    "    loss = -np.sum(y_true_array * np.log(valid_y_pred + 1e-15)) / n  # Add a small number to prevent log(0)\n",
    "    return loss"
   ]
  },
  {
   "cell_type": "code",
   "execution_count": null,
   "id": "fb264e5b",
   "metadata": {},
   "outputs": [],
   "source": [
    "# Calculate the gradient\n",
    "def compute_gradient(X, y_true, y_pred, valid):\n",
    "    n = X.shape[0]\n",
    "    \n",
    "    valid_y_pred = y_pred * valid\n",
    "    valid_y_pred_sum = valid_y_pred.sum(axis=1, keepdims=True)\n",
    "    valid_y_pred /= valid_y_pred_sum\n",
    "    \n",
    "    y_true_array = np.array(y_true['chosen_action'].apply(ast.literal_eval).tolist())\n",
    "    \n",
    "    dW = (1 / n) * np.dot(X.T, (valid_y_pred - y_true_array))\n",
    "    db = (1 / n) * np.sum(valid_y_pred - y_true_array, axis=0, keepdims=True)\n",
    "    return dW, db"
   ]
  },
  {
   "cell_type": "code",
   "execution_count": null,
   "id": "82acbc15",
   "metadata": {},
   "outputs": [],
   "source": [
    "# Prediction Function\n",
    "def predict(X, W, b):\n",
    "    z = np.dot(X, W) + b\n",
    "    y_pred = softmax(z)\n",
    "    return y_pred"
   ]
  },
  {
   "cell_type": "code",
   "execution_count": null,
   "id": "69844d29",
   "metadata": {},
   "outputs": [],
   "source": [
    "# Prediction Function to account for cases with invalid predictions\n",
    "# For example, [0, 0.1, 0.2, 0.4, 0.3] would become [0, 0.1, 0, 0, 0.3] if left and right were invalid, and then normalization would cause it to become [0, 0.25, 0, 0, 0.75]\n",
    "def predict_constrained(X, W, b, valid):\n",
    "    y_pred = predict(X, W, b)\n",
    "    \n",
    "    valid_y_pred = y_pred * valid\n",
    "    valid_y_pred_sum = valid_y_pred.sum(axis=1, keepdims=True)\n",
    "    valid_y_pred /= valid_y_pred_sum\n",
    "    \n",
    "    one_hot_pred = np.zeros_like(valid_y_pred, dtype=int)\n",
    "    one_hot_pred[np.arange(len(valid_y_pred)), np.argmax(valid_y_pred, axis=1)] = 1\n",
    "\n",
    "    return one_hot_pred"
   ]
  },
  {
   "cell_type": "code",
   "execution_count": null,
   "id": "c70e3fcf",
   "metadata": {},
   "outputs": [],
   "source": [
    "# Prediction Function to account for cases with invalid predictions (with a stochastic component)\n",
    "def predict_constrained_stochastic(X, W, b, valid):\n",
    "    y_pred = predict(X, W, b)\n",
    "    \n",
    "    valid_y_pred = y_pred * valid\n",
    "    valid_y_pred_sum = valid_y_pred.sum(axis=1, keepdims=True)\n",
    "    valid_y_pred /= valid_y_pred_sum\n",
    "    \n",
    "    one_hot_pred = np.zeros_like(valid_y_pred, dtype=int)\n",
    "    \n",
    "    random_choice = random.randint(1, 5)\n",
    "    \n",
    "    if random_choice == 1:\n",
    "        non_zero_cols = np.nonzero(valid_y_pred[0])[0]\n",
    "        col = np.random.choice(non_zero_cols)\n",
    "        one_hot_pred[0, col] = 1\n",
    "    else:\n",
    "        one_hot_pred[np.arange(len(valid_y_pred)), np.argmax(valid_y_pred, axis=1)] = 1\n",
    "\n",
    "    return one_hot_pred"
   ]
  },
  {
   "cell_type": "code",
   "execution_count": null,
   "id": "5202e367",
   "metadata": {},
   "outputs": [],
   "source": [
    "# Train Function that uses only GD\n",
    "def train(X, y, valid, alpha, epochs):\n",
    "    num_features = X.shape[1]\n",
    "    num_classes = 5\n",
    "    n = X.shape[0]\n",
    "\n",
    "    W, b = init_params(num_features, num_classes)\n",
    "\n",
    "    previous_loss = float('inf')\n",
    "    loss_list = []\n",
    "\n",
    "    for epoch in range(epochs):\n",
    "        current_loss = 0\n",
    "\n",
    "        X_batch = X\n",
    "        y_batch = y\n",
    "        valid_batch = valid\n",
    "\n",
    "        y_pred = predict(X_batch, W, b)\n",
    "        batch_loss = loss_function(y_batch, y_pred, valid_batch)\n",
    "        current_loss += batch_loss\n",
    "\n",
    "        dW, db = compute_gradient(X_batch, y_batch, y_pred, valid_batch)\n",
    "        W -= alpha * dW\n",
    "        b -= alpha * db\n",
    "        \n",
    "        current_loss /= n\n",
    "        loss_list.append(current_loss)\n",
    "\n",
    "        previous_loss = current_loss\n",
    "\n",
    "        print(f\"Epoch {epoch}, Loss: {current_loss}\")\n",
    "\n",
    "    return W, b, loss_list"
   ]
  },
  {
   "cell_type": "code",
   "execution_count": null,
   "id": "becee560",
   "metadata": {},
   "outputs": [],
   "source": [
    "def is_valid(x, y, move, grid, open_cells):\n",
    "    if move == 'up' and (x, y + 1) in open_cells:\n",
    "        return 1\n",
    "    elif move == 'down' and (x, y - 1) in open_cells:\n",
    "        return 1\n",
    "    elif move == 'left' and (x - 1, y) in open_cells:\n",
    "        return 1\n",
    "    elif move == 'right' and (x + 1, y) in open_cells:\n",
    "        return 1\n",
    "    elif move == 'stay':\n",
    "        return 1\n",
    "    else:\n",
    "        return 0"
   ]
  },
  {
   "cell_type": "code",
   "execution_count": null,
   "id": "fa2cb73f",
   "metadata": {},
   "outputs": [],
   "source": [
    "grid, open_cells = reset_grid(grid, open_cells)\n",
    "\n",
    "def create_valid_matrix(X):\n",
    "    global grid, open_cells\n",
    "    directions = ['up', 'down', 'left', 'right', 'stay']\n",
    "    valid_list = []\n",
    "    for i in range(len(X)):\n",
    "        x, y = X.iloc[i, 0], X.iloc[i, 1]\n",
    "        validity_for_each_direction = [is_valid(x, y, move, grid, open_cells) for move in directions]\n",
    "        valid_list.append(validity_for_each_direction)\n",
    "\n",
    "    valid_array = np.array(valid_list)\n",
    "    return valid_array"
   ]
  },
  {
   "cell_type": "code",
   "execution_count": null,
   "id": "2e8ff983",
   "metadata": {},
   "outputs": [],
   "source": [
    "def plot_training_loss(loss_list):\n",
    "    directory = \"Results/Model1/Plots\"\n",
    "    \n",
    "    if not os.path.exists(directory):\n",
    "        os.makedirs(directory)\n",
    "\n",
    "    filename = f\"loss_plot_{datetime.datetime.now().strftime('%Y%m%d_%H%M%S')}.png\"\n",
    "    filepath = os.path.join(directory, filename)\n",
    "    \n",
    "    plt.figure(figsize=(10, 6))\n",
    "    plt.plot(loss_list, label='Loss per Epoch')\n",
    "    plt.title('Model Loss over Epochs')\n",
    "    plt.xlabel('Epoch')\n",
    "    plt.ylabel('Loss')\n",
    "    plt.legend()\n",
    "    plt.grid(True)\n",
    "    \n",
    "    plt.savefig(filepath)\n",
    "    plt.show()"
   ]
  },
  {
   "cell_type": "markdown",
   "id": "2633d392",
   "metadata": {},
   "source": [
    "### Model 1 Testing Functions"
   ]
  },
  {
   "cell_type": "code",
   "execution_count": null,
   "id": "fb1caa56",
   "metadata": {},
   "outputs": [],
   "source": [
    "def calculate_accuracy(y_true, y_pred):\n",
    "    correct_predictions = (y_true == y_pred)\n",
    "    accuracy = correct_predictions.sum() / correct_predictions.size\n",
    "    return accuracy"
   ]
  },
  {
   "cell_type": "code",
   "execution_count": null,
   "id": "88a3c799",
   "metadata": {},
   "outputs": [],
   "source": [
    "def test(W, b, X_train, y_train, valid_train, X_test, y_test, valid_test): \n",
    "    y_train_df = y_train.squeeze()\n",
    "    y_test_df = y_test.squeeze()\n",
    "\n",
    "    y_train_true = np.array(y_train_df.apply(ast.literal_eval).tolist())\n",
    "    y_test_true = np.array(y_test_df.apply(ast.literal_eval).tolist())\n",
    "    \n",
    "    y_train_pred = predict_constrained(X_train, W, b, valid_train)\n",
    "    \n",
    "#     print(y_train_true, y_train_pred)\n",
    "    train_acc = calculate_accuracy(y_train_true, y_train_pred)\n",
    "\n",
    "    y_test_pred = predict_constrained(X_test, W, b, valid_test)\n",
    "    test_acc = calculate_accuracy(y_test_true, y_test_pred)\n",
    "    \n",
    "#     print(f\"Training Accuracy: {train_acc}\\nTesting Accuracy: {test_acc}\")\n",
    "\n",
    "    return train_acc, test_acc"
   ]
  },
  {
   "cell_type": "markdown",
   "id": "7f35c182",
   "metadata": {},
   "source": [
    "### Principle Component Analysis"
   ]
  },
  {
   "cell_type": "code",
   "execution_count": null,
   "id": "24c83710",
   "metadata": {},
   "outputs": [],
   "source": [
    "def standardize_data(X):\n",
    "    X_standardized = (X - np.mean(X, axis=0)) / np.std(X, axis=0)\n",
    "    return X_standardized"
   ]
  },
  {
   "cell_type": "code",
   "execution_count": null,
   "id": "a89d12cf",
   "metadata": {},
   "outputs": [],
   "source": [
    "def compute_and_sort_eigens(X):\n",
    "    cov_matrix = np.cov(X.T)\n",
    "    cov_matrix = np.real(cov_matrix)\n",
    "    eigenvalues, eigenvectors = np.linalg.eig(cov_matrix)\n",
    "\n",
    "    idx = eigenvalues.argsort()[::-1]\n",
    "    eigenvalues = eigenvalues[idx]\n",
    "    eigenvectors = eigenvectors[:, idx]\n",
    "    \n",
    "    return eigenvalues, eigenvectors"
   ]
  },
  {
   "cell_type": "code",
   "execution_count": null,
   "id": "7f0631d3",
   "metadata": {},
   "outputs": [],
   "source": [
    "def filter_by_eigenvectors(X, eigenvectors, k):\n",
    "    eigenvectors = eigenvectors[:, :k]\n",
    "    return np.dot(X, eigenvectors)"
   ]
  },
  {
   "cell_type": "code",
   "execution_count": null,
   "id": "321b0c7c",
   "metadata": {},
   "outputs": [],
   "source": [
    "def pca(X, k):\n",
    "    X_standardized = standardize_data(X)\n",
    "    eigenvalues, eigenvectors = compute_and_sort_eigens(X_standardized)\n",
    "    X_transformed = filter_by_eigenvectors(X_standardized, eigenvectors, k)\n",
    "    \n",
    "#     X_standardized = standardize_data(X)\n",
    "#     U, s, Vt = np.linalg.svd(X_standardized, full_matrices=False)\n",
    "#     components = Vt[:k]\n",
    "#     X_transformed = np.dot(X_standardized, components.T)\n",
    "    \n",
    "    return X_transformed"
   ]
  },
  {
   "cell_type": "markdown",
   "id": "c0c23c2b",
   "metadata": {},
   "source": [
    "### Data Preprocessing"
   ]
  },
  {
   "cell_type": "markdown",
   "id": "3865fb16",
   "metadata": {},
   "source": [
    "#### data"
   ]
  },
  {
   "cell_type": "code",
   "execution_count": null,
   "id": "e1d0e2cf",
   "metadata": {},
   "outputs": [],
   "source": [
    "# data = pd.read_csv('Data/Model1/Final/model1_data_raw.csv')"
   ]
  },
  {
   "cell_type": "code",
   "execution_count": null,
   "id": "f12b693e",
   "metadata": {},
   "outputs": [],
   "source": [
    "data = pd.read_csv('Data/Model1/model1_data_raw.csv')"
   ]
  },
  {
   "cell_type": "code",
   "execution_count": null,
   "id": "244335a2",
   "metadata": {},
   "outputs": [],
   "source": [
    "data.head()"
   ]
  },
  {
   "cell_type": "code",
   "execution_count": null,
   "id": "2da4ab85",
   "metadata": {},
   "outputs": [],
   "source": [
    "data.shape"
   ]
  },
  {
   "cell_type": "code",
   "execution_count": null,
   "id": "375b61e3",
   "metadata": {},
   "outputs": [],
   "source": [
    "# Obsolete\n",
    "\n",
    "# chunksize = 10000\n",
    "# chunks = pd.read_csv('Data/Model1/model1_data_raw.csv', chunksize=chunksize)\n",
    "\n",
    "# for i, chunk in enumerate(chunks):\n",
    "#     for col in chunk.select_dtypes(include=['float64']).columns:\n",
    "#         chunk[col] = chunk[col].astype('float32')\n",
    "    \n",
    "#     # Append each chunk to a new CSV\n",
    "#     if i == 0:\n",
    "#         chunk.to_csv('Data/Model1/model1_data_raw_lite.csv', index=False, mode='w')\n",
    "#     else:\n",
    "#         chunk.to_csv('Data/Model1/model1_data_raw_lite.csv', index=False, mode='a', header=False)"
   ]
  },
  {
   "cell_type": "code",
   "execution_count": null,
   "id": "0cf4574c",
   "metadata": {},
   "outputs": [],
   "source": [
    "# Obsolete\n",
    "\n",
    "# data['alien_prob'] = data[['alien_up', 'alien_down', 'alien_left', 'alien_right', 'alien_stay']].values.tolist()\n",
    "# data['crew_prob'] = data[['crew_up', 'crew_down', 'crew_left', 'crew_right', 'crew_stay']].values.tolist()"
   ]
  },
  {
   "cell_type": "code",
   "execution_count": null,
   "id": "92cc6fbf",
   "metadata": {},
   "outputs": [],
   "source": [
    "# Obsolete\n",
    "\n",
    "# data = data.drop(columns=['alien_up', 'alien_down', 'alien_left', 'alien_right', 'alien_stay', 'crew_up', 'crew_down', 'crew_left', 'crew_right', 'crew_stay'], axis=1)"
   ]
  },
  {
   "cell_type": "code",
   "execution_count": null,
   "id": "54940a3d",
   "metadata": {},
   "outputs": [],
   "source": [
    "# Obsolete\n",
    "\n",
    "# output = data.pop('chosen_action')\n",
    "# data.insert(len(data.columns), output.name, output)"
   ]
  },
  {
   "cell_type": "code",
   "execution_count": null,
   "id": "02b7d47d",
   "metadata": {},
   "outputs": [],
   "source": [
    "# data.head()"
   ]
  },
  {
   "cell_type": "code",
   "execution_count": null,
   "id": "b6877383",
   "metadata": {},
   "outputs": [],
   "source": [
    "model1_df = data.drop_duplicates()\n",
    "model1_df.shape"
   ]
  },
  {
   "cell_type": "code",
   "execution_count": null,
   "id": "2b78113d",
   "metadata": {},
   "outputs": [],
   "source": [
    "# Obsolete\n",
    "\n",
    "# crew_columns = ['crew_up', 'crew_down', 'crew_left', 'crew_right', 'crew_stay']\n",
    "# crew_sum = model1_df[crew_columns].sum(axis=1)\n",
    "\n",
    "# model1_df[crew_columns] = np.where(crew_sum[:, None] != 0, model1_df[crew_columns].div(crew_sum, axis=0), model1_df[crew_columns])"
   ]
  },
  {
   "cell_type": "code",
   "execution_count": null,
   "id": "27896f0d",
   "metadata": {},
   "outputs": [],
   "source": [
    "# Obsolete\n",
    "\n",
    "# for col in model1_df.columns:\n",
    "#     if model1_df[col].apply(lambda x: isinstance(x, tuple)).any():\n",
    "#         model1_df[col] = model1_df[col].apply(list)"
   ]
  },
  {
   "cell_type": "markdown",
   "id": "147ecb8e",
   "metadata": {},
   "source": [
    "#### model1_df"
   ]
  },
  {
   "cell_type": "code",
   "execution_count": null,
   "id": "5fb4ab17",
   "metadata": {},
   "outputs": [],
   "source": [
    "# model1_df = pd.read_csv('Data/Model1/Final/model1_data.csv')"
   ]
  },
  {
   "cell_type": "code",
   "execution_count": null,
   "id": "08ba3bab",
   "metadata": {},
   "outputs": [],
   "source": [
    "model1_df.head()"
   ]
  },
  {
   "cell_type": "code",
   "execution_count": null,
   "id": "ae80f94a",
   "metadata": {},
   "outputs": [],
   "source": [
    "model1_df.shape"
   ]
  },
  {
   "cell_type": "code",
   "execution_count": null,
   "id": "ac2aff81",
   "metadata": {},
   "outputs": [],
   "source": [
    "# model1_df = model1_df.drop(columns=['crew_stay'])\n",
    "# model1_df"
   ]
  },
  {
   "cell_type": "code",
   "execution_count": null,
   "id": "3c36891e",
   "metadata": {},
   "outputs": [],
   "source": [
    "crew_columns = ['crew_up', 'crew_down', 'crew_left', 'crew_right']\n",
    "model1_df['sum_crew'] = model1_df[crew_columns].sum(axis=1)\n",
    "\n",
    "for col in crew_columns:\n",
    "    model1_df.loc[model1_df['sum_crew'] != 0, col] = model1_df[col] / model1_df['sum_crew']\n",
    "\n",
    "model1_df.drop('sum_crew', axis=1, inplace=True)\n",
    "\n",
    "model1_df"
   ]
  },
  {
   "cell_type": "code",
   "execution_count": null,
   "id": "1a428aa5",
   "metadata": {},
   "outputs": [],
   "source": [
    "class_labels = model1_df['chosen_action'].apply(ast.literal_eval)\n",
    "class_counts = class_labels.value_counts()\n",
    "class_counts"
   ]
  },
  {
   "cell_type": "code",
   "execution_count": null,
   "id": "7e359ba2",
   "metadata": {},
   "outputs": [],
   "source": [
    "model1_df.to_csv('Data/Model1/model1_data.csv', index=False)"
   ]
  },
  {
   "cell_type": "code",
   "execution_count": null,
   "id": "1f0faf2b",
   "metadata": {},
   "outputs": [],
   "source": [
    "X_df = model1_df.iloc[:,:-1]\n",
    "y_df = model1_df.iloc[:,-1:]"
   ]
  },
  {
   "cell_type": "code",
   "execution_count": null,
   "id": "43b1da8c",
   "metadata": {},
   "outputs": [],
   "source": [
    "# Obsolete\n",
    "\n",
    "# k_components = 100\n",
    "# X_slice = X_df.iloc[:10000]\n",
    "# X_np = pca(X_slice.values, k_components)\n",
    "# X_pca = pd.DataFrame(X_np, columns=[f'PC{i + 1}' for i in range(k_components)])\n",
    "# X_pca"
   ]
  },
  {
   "cell_type": "code",
   "execution_count": null,
   "id": "edf7b5dd",
   "metadata": {},
   "outputs": [],
   "source": [
    "# Obsolete\n",
    "\n",
    "# Remove columns with variance lower than threshold\n",
    "# threshold = 0.000001\n",
    "\n",
    "# variances = X_df.var()\n",
    "\n",
    "# high_variance_features = variances[variances > threshold].index.tolist()\n",
    "\n",
    "# X_pca = X_df[high_variance_features]\n",
    "# X_pca"
   ]
  },
  {
   "cell_type": "code",
   "execution_count": null,
   "id": "3dc5d149",
   "metadata": {},
   "outputs": [],
   "source": [
    "train_size = int(0.8 * len(model1_df))\n",
    "\n",
    "train_df = model1_df[:train_size]\n",
    "test_df = model1_df[train_size:]"
   ]
  },
  {
   "cell_type": "markdown",
   "id": "f1054359",
   "metadata": {},
   "source": [
    "#### train_df + test_df"
   ]
  },
  {
   "cell_type": "code",
   "execution_count": null,
   "id": "95868f40",
   "metadata": {},
   "outputs": [],
   "source": [
    "# train_df = pd.read_csv('Data/Model1/Final/model1_train.csv')\n",
    "# test_df = pd.read_csv('Data/Model1/Final/model1_test.csv')"
   ]
  },
  {
   "cell_type": "code",
   "execution_count": null,
   "id": "5d0716fc",
   "metadata": {},
   "outputs": [],
   "source": [
    "train_df.head()"
   ]
  },
  {
   "cell_type": "code",
   "execution_count": null,
   "id": "f04e1e92",
   "metadata": {},
   "outputs": [],
   "source": [
    "train_df.shape"
   ]
  },
  {
   "cell_type": "code",
   "execution_count": null,
   "id": "e3a888f0",
   "metadata": {},
   "outputs": [],
   "source": [
    "test_df.head()"
   ]
  },
  {
   "cell_type": "code",
   "execution_count": null,
   "id": "06259477",
   "metadata": {},
   "outputs": [],
   "source": [
    "test_df.shape"
   ]
  },
  {
   "cell_type": "code",
   "execution_count": null,
   "id": "a5970ff1",
   "metadata": {},
   "outputs": [],
   "source": [
    "class_labels = train_df['chosen_action'].apply(ast.literal_eval)\n",
    "class_counts = class_labels.value_counts()\n",
    "class_counts"
   ]
  },
  {
   "cell_type": "code",
   "execution_count": null,
   "id": "25ee7a01",
   "metadata": {},
   "outputs": [],
   "source": [
    "class_labels = test_df['chosen_action'].apply(ast.literal_eval)\n",
    "class_counts = class_labels.value_counts()\n",
    "class_counts"
   ]
  },
  {
   "cell_type": "code",
   "execution_count": null,
   "id": "ac07e5aa",
   "metadata": {},
   "outputs": [],
   "source": [
    "# class_labels = train_df['bot_x']\n",
    "# class_labels = class_labels.sort_values(ascending=True)\n",
    "# sorted_unique_labels = class_labels.unique()\n",
    "# class_counts = class_labels.value_counts()\n",
    "# class_counts = class_counts.reindex(sorted_unique_labels)\n",
    "# class_counts"
   ]
  },
  {
   "cell_type": "code",
   "execution_count": null,
   "id": "ed15a560",
   "metadata": {},
   "outputs": [],
   "source": [
    "train_df.shape"
   ]
  },
  {
   "cell_type": "code",
   "execution_count": null,
   "id": "cb6120fc",
   "metadata": {},
   "outputs": [],
   "source": [
    "test_df.shape"
   ]
  },
  {
   "cell_type": "code",
   "execution_count": null,
   "id": "8c8127d9",
   "metadata": {},
   "outputs": [],
   "source": [
    "train_df.to_csv('Data/Model1/model1_train.csv', index=False)\n",
    "test_df.to_csv('Data/Model1/model1_test.csv', index=False)"
   ]
  },
  {
   "cell_type": "markdown",
   "id": "571138e2",
   "metadata": {},
   "source": [
    "#### X_train_df + y_train_df"
   ]
  },
  {
   "cell_type": "code",
   "execution_count": null,
   "id": "36c1a463",
   "metadata": {},
   "outputs": [],
   "source": [
    "X_train_df = train_df.iloc[:,:-1]\n",
    "y_train_df = train_df.iloc[:,-1:]\n",
    "\n",
    "X_test_df = test_df.iloc[:,:-1]\n",
    "y_test_df = test_df.iloc[:,-1:]"
   ]
  },
  {
   "cell_type": "code",
   "execution_count": null,
   "id": "af8567f2",
   "metadata": {},
   "outputs": [],
   "source": [
    "# X_train_df = pd.read_csv('Data/Model1/Final/X_train.csv')\n",
    "# y_train_df = pd.read_csv('Data/Model1/Final/y_train.csv')\n",
    "\n",
    "# X_test_df = pd.read_csv('Data/Model1/Final/X_test.csv')\n",
    "# y_test_df = pd.read_csv('Data/Model1/Final/y_test.csv')"
   ]
  },
  {
   "cell_type": "code",
   "execution_count": null,
   "id": "c4dd958d",
   "metadata": {},
   "outputs": [],
   "source": [
    "X_train_df.head()"
   ]
  },
  {
   "cell_type": "code",
   "execution_count": null,
   "id": "3d876b4e",
   "metadata": {},
   "outputs": [],
   "source": [
    "y_train_df.head()"
   ]
  },
  {
   "cell_type": "code",
   "execution_count": null,
   "id": "4bb5daf7",
   "metadata": {},
   "outputs": [],
   "source": [
    "X_train_df.to_csv('Data/Model1/X_train.csv', index=False)\n",
    "y_train_df.to_csv('Data/Model1/y_train.csv', index=False)\n",
    "\n",
    "X_test_df.to_csv('Data/Model1/X_test.csv', index=False)\n",
    "y_test_df.to_csv('Data/Model1/y_test.csv', index=False)"
   ]
  },
  {
   "cell_type": "code",
   "execution_count": null,
   "id": "35e06dde",
   "metadata": {},
   "outputs": [],
   "source": [
    "# Obsolete\n",
    "\n",
    "# size = int(0.8 * len(X_pca))\n",
    "\n",
    "# X_train_df = X_pca[:size]\n",
    "# y_train_df = y_df[:size]\n",
    "\n",
    "# X_test_df = X_pca[size:]\n",
    "# y_test_df = y_df[size:]"
   ]
  },
  {
   "cell_type": "markdown",
   "id": "f1610144",
   "metadata": {},
   "source": [
    "#### valid_train + valid_test"
   ]
  },
  {
   "cell_type": "code",
   "execution_count": null,
   "id": "e9a1175d",
   "metadata": {},
   "outputs": [],
   "source": [
    "valid_train = create_valid_matrix(X_train_df)\n",
    "valid_test = create_valid_matrix(X_test_df)"
   ]
  },
  {
   "cell_type": "code",
   "execution_count": null,
   "id": "bd9ca87b",
   "metadata": {},
   "outputs": [],
   "source": [
    "valid_train_df = pd.DataFrame(valid_train)\n",
    "valid_test_df = pd.DataFrame(valid_test)"
   ]
  },
  {
   "cell_type": "code",
   "execution_count": null,
   "id": "529c196b",
   "metadata": {},
   "outputs": [],
   "source": [
    "valid_train_df.to_csv('Data/Model1/valid_train.csv', index=False)\n",
    "valid_test_df.to_csv('Data/Model1/valid_test.csv', index=False)"
   ]
  },
  {
   "cell_type": "markdown",
   "id": "675b4df5",
   "metadata": {},
   "source": [
    "#### valid_train_df + valid_test_df"
   ]
  },
  {
   "cell_type": "code",
   "execution_count": null,
   "id": "965a3a1d",
   "metadata": {},
   "outputs": [],
   "source": [
    "# valid_train_df = pd.read_csv('Data/Model1/Final/valid_train.csv')\n",
    "# valid_test_df = pd.read_csv('Data/Model1/Final/valid_test.csv')"
   ]
  },
  {
   "cell_type": "code",
   "execution_count": null,
   "id": "1a1f5ddc",
   "metadata": {},
   "outputs": [],
   "source": [
    "# valid_train = valid_train_df.to_numpy()\n",
    "# valid_test = valid_test_df.to_numpy()"
   ]
  },
  {
   "cell_type": "code",
   "execution_count": null,
   "id": "955b474e",
   "metadata": {},
   "outputs": [],
   "source": [
    "# valid_train_df.head()"
   ]
  },
  {
   "cell_type": "code",
   "execution_count": null,
   "id": "1fff6305",
   "metadata": {},
   "outputs": [],
   "source": [
    "valid_train.shape"
   ]
  },
  {
   "cell_type": "code",
   "execution_count": null,
   "id": "367e66a5",
   "metadata": {},
   "outputs": [],
   "source": [
    "valid_test.shape"
   ]
  },
  {
   "cell_type": "markdown",
   "id": "b1eb6870",
   "metadata": {},
   "source": [
    "## Model Training"
   ]
  },
  {
   "cell_type": "code",
   "execution_count": null,
   "id": "02abb69d",
   "metadata": {},
   "outputs": [],
   "source": [
    "alpha = 0.01\n",
    "epochs = 50\n",
    "# initial_batch_size = 32\n",
    "# loss_threshold = 0.0001"
   ]
  },
  {
   "cell_type": "code",
   "execution_count": null,
   "id": "a33b50f5",
   "metadata": {},
   "outputs": [],
   "source": [
    "# X_train_small = X_train[:70000]\n",
    "# y_train_small = y_train[:70000]\n",
    "# valid_train_small = valid_train[:70000]\n",
    "\n",
    "# X_train_small.shape\n",
    "# y_train_small.shape\n",
    "\n",
    "# W, b, loss_list = train(X_train_small, y_train_small, valid_train_small, alpha, epochs)"
   ]
  },
  {
   "cell_type": "code",
   "execution_count": null,
   "id": "eaf0916d",
   "metadata": {},
   "outputs": [],
   "source": [
    "W, b, loss_list = train(X_train_df, y_train_df, valid_train, alpha, epochs)"
   ]
  },
  {
   "cell_type": "code",
   "execution_count": null,
   "id": "adb24aae",
   "metadata": {},
   "outputs": [],
   "source": [
    "# Epoch 0, Loss: 1.6595809304718215e-05\n",
    "# Epoch 1, Loss: 1.63714578251211e-05\n",
    "# Epoch 2, Loss: 1.6352849397278687e-05\n",
    "# Epoch 3, Loss: 1.634328202570606e-05\n",
    "# Epoch 4, Loss: 1.6337172720916582e-05\n",
    "# Epoch 5, Loss: 1.6332875447510344e-05\n",
    "# Epoch 6, Loss: 1.6329641911552317e-05\n",
    "# Epoch 7, Loss: 1.6327086305863702e-05\n",
    "# Epoch 8, Loss: 1.6324988821639317e-05\n",
    "# Epoch 9, Loss: 1.632321449309332e-05\n",
    "# Epoch 10, Loss: 1.6321675689508683e-05\n",
    "# Epoch 11, Loss: 1.6320313029994483e-05\n",
    "# Epoch 12, Loss: 1.631908490015047e-05\n",
    "# Epoch 13, Loss: 1.6317961333201676e-05\n",
    "# Epoch 14, Loss: 1.631692025960384e-05\n",
    "# Epoch 15, Loss: 1.6315945114580123e-05\n",
    "# Epoch 16, Loss: 1.6315023260503623e-05\n",
    "# Epoch 17, Loss: 1.6314144917283797e-05\n",
    "# Epoch 18, Loss: 1.6313302419870933e-05\n",
    "# Epoch 19, Loss: 1.6312489692297612e-05\n",
    "# Epoch 20, Loss: 1.6311701868500904e-05\n",
    "# Epoch 21, Loss: 1.6310935014710512e-05\n",
    "# Epoch 22, Loss: 1.631018592339068e-05\n",
    "# Epoch 23, Loss: 1.630945195839769e-05\n",
    "# Epoch 24, Loss: 1.6308730937315134e-05\n",
    "# Epoch 25, Loss: 1.6308021041120794e-05\n",
    "# Epoch 26, Loss: 1.6307320744176402e-05\n",
    "# Epoch 27, Loss: 1.6306628759488407e-05\n",
    "# Epoch 28, Loss: 1.630594399555428e-05\n",
    "# Epoch 29, Loss: 1.630526552207669e-05\n",
    "# Epoch 30, Loss: 1.6304592542522774e-05\n",
    "# Epoch 31, Loss: 1.630392437200849e-05\n",
    "# Epoch 32, Loss: 1.6303260419356377e-05\n",
    "# Epoch 33, Loss: 1.630260017244756e-05\n",
    "# Epoch 34, Loss: 1.6301943186190942e-05\n",
    "# Epoch 35, Loss: 1.6301289072586274e-05\n",
    "# Epoch 36, Loss: 1.630063749247096e-05\n",
    "# Epoch 37, Loss: 1.629998814863093e-05\n",
    "# Epoch 38, Loss: 1.6299340780020882e-05\n",
    "# Epoch 39, Loss: 1.629869515689333e-05\n",
    "# Epoch 40, Loss: 1.6298051076674684e-05\n",
    "# Epoch 41, Loss: 1.6297408360459563e-05\n",
    "# Epoch 42, Loss: 1.6296766850018342e-05\n",
    "# Epoch 43, Loss: 1.629612640523327e-05\n",
    "# Epoch 44, Loss: 1.6295486901894094e-05\n",
    "# Epoch 45, Loss: 1.6294848229795776e-05\n",
    "# Epoch 46, Loss: 1.6294210291092177e-05\n",
    "# Epoch 47, Loss: 1.6293572998866482e-05\n",
    "# Epoch 48, Loss: 1.6292936275886535e-05\n",
    "# Epoch 49, Loss: 1.6292300053517856e-05"
   ]
  },
  {
   "cell_type": "code",
   "execution_count": null,
   "id": "b2f85bf6",
   "metadata": {},
   "outputs": [],
   "source": [
    "plot_training_loss(loss_list)"
   ]
  },
  {
   "cell_type": "markdown",
   "id": "0f26ff11",
   "metadata": {},
   "source": [
    "## Model Testing "
   ]
  },
  {
   "cell_type": "code",
   "execution_count": null,
   "id": "7d424cf8",
   "metadata": {},
   "outputs": [],
   "source": [
    "train_acc, test_acc = test(W, b, X_train_df, y_train_df, valid_train, X_test_df, y_test_df, valid_test)\n",
    "print(f\"Final Training Accuracy: {train_acc}\\nFinal Testing Accuracy: {test_acc}\")"
   ]
  },
  {
   "cell_type": "markdown",
   "id": "7e6804ab",
   "metadata": {},
   "source": [
    "## Saving Model Architecture"
   ]
  },
  {
   "cell_type": "code",
   "execution_count": null,
   "id": "c704f871",
   "metadata": {},
   "outputs": [],
   "source": [
    "# pickle_filename = 'Results/Model1/Final/model1_optimal.pkl'"
   ]
  },
  {
   "cell_type": "code",
   "execution_count": null,
   "id": "29b7fd31",
   "metadata": {},
   "outputs": [],
   "source": [
    "pickle_filename = 'Results/Model1/model1_optimal.pkl'"
   ]
  },
  {
   "cell_type": "code",
   "execution_count": null,
   "id": "debb190e",
   "metadata": {},
   "outputs": [],
   "source": [
    "model1_optimal = {\n",
    "    \"weights\": W,\n",
    "    \"bias\": b,\n",
    "    \"loss_list\": loss_list,\n",
    "    \"train_acc\": train_acc,\n",
    "    \"test_acc\": test_acc\n",
    "}"
   ]
  },
  {
   "cell_type": "code",
   "execution_count": null,
   "id": "47420d21",
   "metadata": {},
   "outputs": [],
   "source": [
    "with open(pickle_filename, 'wb') as file:\n",
    "    pickle.dump(model1_optimal, file)"
   ]
  },
  {
   "cell_type": "markdown",
   "id": "79c2610d",
   "metadata": {},
   "source": [
    "## Loading Model Architecture"
   ]
  },
  {
   "cell_type": "code",
   "execution_count": null,
   "id": "bf07279c",
   "metadata": {},
   "outputs": [],
   "source": [
    "# model1_optimal = {}"
   ]
  },
  {
   "cell_type": "code",
   "execution_count": null,
   "id": "13b750de",
   "metadata": {},
   "outputs": [],
   "source": [
    "# with open(pickle_filename, 'rb') as file:\n",
    "#     model1_optimal = pickle.load(file)"
   ]
  },
  {
   "cell_type": "code",
   "execution_count": null,
   "id": "272c6447",
   "metadata": {},
   "outputs": [],
   "source": [
    "# W = model1_optimal[\"weights\"]\n",
    "# b = model1_optimal[\"bias\"]"
   ]
  },
  {
   "cell_type": "code",
   "execution_count": null,
   "id": "2b329ca0",
   "metadata": {},
   "outputs": [],
   "source": [
    "W, b"
   ]
  },
  {
   "cell_type": "markdown",
   "id": "5cbb7264",
   "metadata": {},
   "source": [
    "## Results"
   ]
  },
  {
   "cell_type": "code",
   "execution_count": null,
   "id": "23ba2bbc",
   "metadata": {},
   "outputs": [],
   "source": [
    "# loss_list = model1_optimal[\"loss_list\"]\n",
    "# plot_training_loss(loss_list)"
   ]
  },
  {
   "cell_type": "code",
   "execution_count": null,
   "id": "958bcda8",
   "metadata": {},
   "outputs": [],
   "source": [
    "# train_acc = model1_optimal[\"train_acc\"]\n",
    "# test_acc = model1_optimal[\"test_acc\"]\n",
    "# print(f\"Final Training Accuracy: {train_acc}\\nFinal Testing Accuracy: {test_acc}\")"
   ]
  },
  {
   "cell_type": "code",
   "execution_count": null,
   "id": "e8d30364",
   "metadata": {},
   "outputs": [],
   "source": [
    "min_random_acc = 1\n",
    "max_random_acc = 0\n",
    "\n",
    "for i in range(100):\n",
    "    random_W = np.random.randn(23, 5) * 0.01\n",
    "    random_b = np.zeros((1, 5))\n",
    "    \n",
    "    _, random_test_acc = test(random_W, random_b, X_train_df, y_train_df, valid_train, X_test_df, y_test_df, valid_test)\n",
    "    \n",
    "    max_random_acc = max(max_random_acc, random_test_acc)\n",
    "    min_random_acc = min(min_random_acc, random_test_acc)\n",
    "    \n",
    "print(f\"Random W, b accuracy in range: ({min_random_acc}, {max_random_acc})\")"
   ]
  },
  {
   "cell_type": "code",
   "execution_count": null,
   "id": "8f857539",
   "metadata": {},
   "outputs": [],
   "source": [
    "random_accuracy = {\n",
    "    \"min_random_acc\": min_random_acc,\n",
    "    \"max_random_acc\": max_random_acc\n",
    "}\n",
    "\n",
    "with open('Results/Model1/Final/random_accuracy.pkl', 'wb') as file:\n",
    "    pickle.dump(random_accuracy, file)"
   ]
  },
  {
   "cell_type": "code",
   "execution_count": null,
   "id": "c4678135",
   "metadata": {},
   "outputs": [],
   "source": [
    "# random_accuracy = {}\n",
    "\n",
    "# with open('Results/Model1/Final/random_accuracy.pkl', 'rb') as file:\n",
    "#     random_accuracy = pickle.load(file)\n",
    "    \n",
    "# min_random_acc = random_accuracy[\"min_random_acc\"]\n",
    "# max_random_acc = random_accuracy[\"max_random_acc\"]"
   ]
  },
  {
   "cell_type": "code",
   "execution_count": null,
   "id": "a0d69e31",
   "metadata": {},
   "outputs": [],
   "source": [
    "print(f\"Clearly, Model 1 learns and improves in accuracy through training:\")\n",
    "print(f\"- Final Test Accuracy ({test_acc}) > Maximum Random Test Accuracy ({max_random_acc})\")\n",
    "print(f\"- Loss Decreases from {loss_list[0]} to {loss_list[-1]}\\n\")\n",
    "print(f\"Model 1 does not overfit:\")\n",
    "print(f\"- Final Training Accuracy ({train_acc}) ≈ Final Testing Accuracy ({test_acc})\")"
   ]
  },
  {
   "cell_type": "markdown",
   "id": "5ddbde9d",
   "metadata": {},
   "source": [
    "## Simulation Testing Setup"
   ]
  },
  {
   "cell_type": "code",
   "execution_count": null,
   "id": "3ae81f7e",
   "metadata": {},
   "outputs": [],
   "source": [
    "def predict_to_move(bot, prediction):\n",
    "    next_move = bot\n",
    "    \n",
    "    if np.array_equal(prediction, np.array([[1, 0, 0, 0, 0]])):\n",
    "        next_move = (bot[0], bot[1] + 1)\n",
    "    elif np.array_equal(prediction, np.array([[0, 1, 0, 0, 0]])):\n",
    "        next_move = (bot[0], bot[1] - 1)\n",
    "    elif np.array_equal(prediction, np.array([[0, 0, 1, 0, 0]])):\n",
    "        next_move = (bot[0] - 1, bot[1])\n",
    "    elif np.array_equal(prediction, np.array([[0, 0, 0, 1, 0]])):\n",
    "        next_move = (bot[0] + 1, bot[1])\n",
    "    else:\n",
    "        next_move = bot\n",
    "        \n",
    "    return next_move"
   ]
  },
  {
   "cell_type": "code",
   "execution_count": null,
   "id": "0081121e",
   "metadata": {},
   "outputs": [],
   "source": [
    "def predict_with_params(bot, alien_matrix, crew_matrix, d_crew, d_alien, alien_detected, crew_detected):\n",
    "    alien_probs = determine_probabilities(bot, alien_matrix)\n",
    "    crew_probs = determine_probabilities(bot, crew_matrix)\n",
    "    \n",
    "    X = pd.DataFrame([{\n",
    "        'bot_x': bot[0],\n",
    "        'bot_y': bot[1],\n",
    "            \n",
    "        'alien_up': alien_probs[0],\n",
    "        'alien_down': alien_probs[1],\n",
    "        'alien_left': alien_probs[2],\n",
    "        'alien_right': alien_probs[3],\n",
    "        'alien_stay': alien_probs[4],\n",
    "            \n",
    "        'crew_up': crew_probs[0],\n",
    "        'crew_down': crew_probs[1],\n",
    "        'crew_left': crew_probs[2],\n",
    "        'crew_right': crew_probs[3],\n",
    "            \n",
    "        'd_crew_up': np.float32(d_crew[0]),\n",
    "        'd_crew_down': np.float32(d_crew[1]),\n",
    "        'd_crew_left': np.float32(d_crew[2]),\n",
    "        'd_crew_right': np.float32(d_crew[3]),\n",
    "        'd_crew_stay': np.float32(d_crew[4]),\n",
    "        \n",
    "        'd_alien_up': np.float32(d_alien[0]),\n",
    "        'd_alien_down': np.float32(d_alien[1]),\n",
    "        'd_alien_left': np.float32(d_alien[2]),\n",
    "        'd_alien_right': np.float32(d_alien[3]),\n",
    "        'd_alien_stay': np.float32(d_alien[4]),\n",
    "            \n",
    "        'alien_detected': 1 if alien_detected else 0,\n",
    "        'crew_detected': 1 if crew_detected else 0,\n",
    "    }])\n",
    "    \n",
    "#     X = pd.DataFrame([{\n",
    "#         'bot_x': bot[0],\n",
    "#         'bot_y': bot[1],\n",
    "            \n",
    "#         'alien_up': alien_probs[0],\n",
    "#         'alien_down': alien_probs[1],\n",
    "#         'alien_left': alien_probs[2],\n",
    "#         'alien_right': alien_probs[3],\n",
    "#         'alien_stay': alien_probs[4],\n",
    "            \n",
    "#         'crew_up': crew_probs[0],\n",
    "#         'crew_down': crew_probs[1],\n",
    "#         'crew_left': crew_probs[2],\n",
    "#         'crew_right': crew_probs[3],\n",
    "            \n",
    "#         'd_crew_up': d_crew[0],\n",
    "#         'd_crew_down': d_crew[1],\n",
    "#         'd_crew_left': d_crew[2],\n",
    "#         'd_crew_right': d_crew[3],\n",
    "#         'd_crew_stay': d_crew[4],\n",
    "            \n",
    "#         'alien_detected': 1 if alien_detected else 0,\n",
    "#         'crew_detected': 1 if crew_detected else 0,\n",
    "#     }])\n",
    "    \n",
    "#     X = pd.DataFrame([{\n",
    "#         'bot_x': bot[0],\n",
    "#         'bot_y': bot[1],\n",
    "\n",
    "#         'alien_up': alien_probs[0],\n",
    "#         'alien_down': alien_probs[1],\n",
    "#         'alien_left': alien_probs[2],\n",
    "#         'alien_right': alien_probs[3],\n",
    "#         'alien_stay': alien_probs[4],\n",
    "\n",
    "#         'crew_up': crew_probs[0],\n",
    "#         'crew_down': crew_probs[1],\n",
    "#         'crew_left': crew_probs[2],\n",
    "#         'crew_right': crew_probs[3],\n",
    "\n",
    "#         'alien_detected': 1 if alien_detected else 0,\n",
    "#         'crew_detected': 1 if crew_detected else 0,\n",
    "#     }], columns=['bot_x', 'bot_y', 'alien_up', 'alien_down', 'alien_left', 'alien_right', 'alien_stay', 'crew_up', 'crew_down', 'crew_left', 'crew_right', 'alien_detected', 'crew_detected'])\n",
    "    \n",
    "    \n",
    "#     X = pd.DataFrame([{\n",
    "#         'bot_x': bot[0],\n",
    "#         'bot_y': bot[1],\n",
    "\n",
    "#         **{'alien_' + str(key): value for key, value in alien_matrix.items()},\n",
    "#         **{'crew_' + str(key): value for key, value in crew_matrix.items()},\n",
    "\n",
    "#         'alien_detected': 1 if alien_detected else 0,\n",
    "#         'crew_detected': 1 if crew_detected else 0\n",
    "#     }])\n",
    "\n",
    "#     def filter_features(matrix, feature_prefix):\n",
    "#         return {feature_prefix + str(key): value for key, value in matrix.items() if feature_prefix + str(key) in high_variance_features}\n",
    "\n",
    "#     filtered_alien = filter_features(alien_matrix, 'alien_')\n",
    "#     filtered_crew = filter_features(crew_matrix, 'crew_')\n",
    "\n",
    "#     X = pd.DataFrame([{\n",
    "#         'bot_x': bot[0],\n",
    "#         'bot_y': bot[1],\n",
    "#         **filtered_alien,\n",
    "#         **filtered_crew,\n",
    "#         'alien_detected': 1 if alien_detected else 0,\n",
    "#         'crew_detected': 1 if crew_detected else 0\n",
    "#     }])\n",
    "    \n",
    "    valid = create_valid_matrix(X)\n",
    "    \n",
    "    crew_columns = ['crew_up', 'crew_down', 'crew_left', 'crew_right']\n",
    "    X['sum_crew'] = X[crew_columns].sum(axis=1)\n",
    "\n",
    "    for col in crew_columns:\n",
    "        X.loc[X['sum_crew'] != 0, col] = X[col] / X['sum_crew']\n",
    "\n",
    "    X.drop('sum_crew', axis=1, inplace=True)\n",
    "    \n",
    "    prediction = predict_constrained_stochastic(X, W, b, valid)\n",
    "    next_move = predict_to_move(bot, prediction)\n",
    "    \n",
    "    return next_move"
   ]
  },
  {
   "cell_type": "markdown",
   "id": "91f29f2e",
   "metadata": {},
   "source": [
    "## Bot1 vs. Mimic-Bot1"
   ]
  },
  {
   "cell_type": "code",
   "execution_count": null,
   "id": "275b9356",
   "metadata": {},
   "outputs": [],
   "source": [
    "def Bot1(k, alpha, max_iter, timeout):\n",
    "    global grid, open_cells\n",
    "    \n",
    "    grid, open_cells = reset_grid(grid, open_cells)\n",
    "    bot, ship, open_cells = place_bot(grid, open_cells)\n",
    "\n",
    "    crew_list = []\n",
    "    alien_list = []\n",
    "    d_lookup_table = {}\n",
    "\n",
    "    crew_list, ship = place_crew(ship, open_cells, crew_list)\n",
    "    alien_list, ship = place_alien(ship, open_cells, alien_list, bot, k)\n",
    "\n",
    "    alien_matrix = initialize_alienmatrix(open_cells, bot, k)\n",
    "    crew_matrix = initialize_crewmatrix(open_cells, crew_list, bot)\n",
    "\n",
    "    win_count = 0\n",
    "    loss_count = 0\n",
    "    move = 0\n",
    "    win_move_count = []\n",
    "    marker = 0\n",
    "    \n",
    "    while (win_count + loss_count) < max_iter:\n",
    "        neighbors = check_valid_neighbors(len(ship), bot[0], bot[1])\n",
    "        open_moves = [neigh for neigh in neighbors if (grid[neigh] != 1)]\n",
    "        open_moves.append(bot)\n",
    "        next_move = determine_move(open_moves, alien_matrix, crew_matrix) # Determine move deterministically as in Project 2\n",
    "        \n",
    "        prev_win_count = win_count\n",
    "        bot, crew_list, ship, open_cells, win_count, marker = move_bot(ship, bot, next_move, crew_list, alien_list, open_cells, win_count, 1)\n",
    "        move += 1\n",
    "\n",
    "        if marker == 1 or move >= timeout:\n",
    "            loss_count += 1\n",
    "            print(f\"Bot1 captured! Win Count: {win_count}, Loss Count: {loss_count}\")\n",
    "\n",
    "            grid, open_cells = reset_grid(grid, open_cells)\n",
    "            bot, ship, open_cells = place_bot(grid, open_cells)\n",
    "            crew_list = []\n",
    "            alien_list = []\n",
    "            d_lookup_table = {}\n",
    "\n",
    "            crew_list, ship = place_crew(ship, open_cells, crew_list)\n",
    "            alien_list, ship = place_alien(ship, open_cells, alien_list, bot, k)\n",
    "\n",
    "            alien_matrix = initialize_alienmatrix(open_cells, bot, k)\n",
    "            crew_matrix = initialize_crewmatrix(open_cells, crew_list, bot)\n",
    "            marker = 0\n",
    "            move = 0\n",
    "\n",
    "            continue\n",
    "\n",
    "        if win_count > prev_win_count:\n",
    "            print(f\"Crew saved! Win Count: {win_count}, Loss Count: {loss_count}\")\n",
    "            win_move_count.append(move)\n",
    "            move = 0\n",
    "            d_lookup_table = {}\n",
    "            alien_matrix = initialize_alienmatrix(open_cells, bot, k)\n",
    "            crew_matrix = initialize_crewmatrix(open_cells, crew_list, bot)\n",
    "        \n",
    "        print(f\"Bot1: {bot}, Crew: {crew_list}, Aliens: {alien_list}\")\n",
    "\n",
    "        alien_matrix, crew_matrix = update_afterbotmove(bot, alien_matrix, crew_matrix)\n",
    "\n",
    "        # Move bot to optimal neighbor\n",
    "        marker, alien_list, ship = move_aliens(ship, alien_list, bot) # Move alien randomly\n",
    "\n",
    "        if marker == 1 or move >= timeout:\n",
    "            loss_count += 1\n",
    "            print(f\"Bot1 captured! Win Count: {win_count}, Loss Count: {loss_count}\")\n",
    "\n",
    "            grid, open_cells = reset_grid(grid, open_cells)\n",
    "            bot, ship, open_cells = place_bot(grid, open_cells)\n",
    "            crew_list = []\n",
    "            alien_list = []\n",
    "            d_lookup_table = {}\n",
    "\n",
    "            crew_list, ship = place_crew(ship, open_cells, crew_list)\n",
    "            alien_list, ship = place_alien(ship, open_cells, alien_list, bot, k)\n",
    "\n",
    "            alien_matrix = initialize_alienmatrix(open_cells, bot, k)\n",
    "            crew_matrix = initialize_crewmatrix(open_cells, crew_list, bot)\n",
    "            marker = 0\n",
    "            move = 0\n",
    "\n",
    "            continue\n",
    "        \n",
    "        alien_matrix = update_afteralienmove(ship, alien_list, alien_matrix) # Update after alien move\n",
    "        \n",
    "        alien_detected = alien_sensor(alien_list, bot, k) # Run Alien Sensor\n",
    "        crew_detected, d_lookup_table = crew_sensor(ship, bot, alpha, d_lookup_table, crew_list) # Run Crew Sensor\n",
    "        \n",
    "        alien_matrix = update_alienmatrix(alien_matrix, alien_detected, bot, k) # Update based on alien sensor\n",
    "\n",
    "        crew_matrix = update_crewmatrix(crew_matrix, crew_detected, d_lookup_table, bot, alpha) # Update based on crew sensor\n",
    "\n",
    "    return sum(win_move_count) // max(1, len(win_move_count)), (win_count / max(1, (win_count + loss_count))), win_count"
   ]
  },
  {
   "cell_type": "code",
   "execution_count": null,
   "id": "7596de05",
   "metadata": {},
   "outputs": [],
   "source": [
    "def Mimic_Bot1(k, alpha, max_iter, timeout):\n",
    "    global grid, open_cells\n",
    "    \n",
    "    grid, open_cells = reset_grid(grid, open_cells)\n",
    "    bot, ship, open_cells = place_bot(grid, open_cells)\n",
    "\n",
    "    crew_list = []\n",
    "    alien_list = []\n",
    "    d_lookup_table = {}\n",
    "\n",
    "    crew_list, ship = place_crew(ship, open_cells, crew_list)\n",
    "    alien_list, ship = place_alien(ship, open_cells, alien_list, bot, k)\n",
    "\n",
    "    alien_matrix = initialize_alienmatrix(open_cells, bot, k)\n",
    "    crew_matrix = initialize_crewmatrix(open_cells, crew_list, bot)\n",
    "    \n",
    "    alien_detected = alien_sensor(alien_list, bot, k) # Initially Run Alien Sensor\n",
    "    crew_detected, d_lookup_table = crew_sensor(ship, bot, alpha, d_lookup_table, crew_list) # Initially Run Crew Sensor\n",
    "\n",
    "    win_count = 0\n",
    "    loss_count = 0\n",
    "    move = 0\n",
    "    win_move_count = []\n",
    "    marker = 0\n",
    "    \n",
    "    while (win_count + loss_count) < max_iter:\n",
    "        neighbors = check_valid_neighbors(len(ship), bot[0], bot[1])\n",
    "        open_moves = [neigh for neigh in neighbors if (grid[neigh] != 1)]\n",
    "        open_moves.append(bot)\n",
    "        \n",
    "        d_crew, d_lookup_table = determine_d_crew(ship, bot, alpha, d_lookup_table, crew_list, crew_matrix, open_cells)\n",
    "        d_alien, d_lookup_table = determine_d_alien(ship, bot, alpha, d_lookup_table, alien_list, crew_list, alien_matrix, open_cells)\n",
    "        \n",
    "        next_move = predict_with_params(bot, alien_matrix, crew_matrix, d_crew, d_alien, alien_detected, crew_detected) # Predict using optimal W, b for Model 1\n",
    "        \n",
    "        prev_win_count = win_count\n",
    "        bot, crew_list, ship, open_cells, win_count, marker = move_bot(ship, bot, next_move, crew_list, alien_list, open_cells, win_count, 1)\n",
    "        move += 1\n",
    "\n",
    "        if marker == 1 or move >= timeout:\n",
    "            loss_count += 1\n",
    "            print(f\"Mimic-Bot1 captured! Win Count: {win_count}, Loss Count: {loss_count}\")\n",
    "\n",
    "            grid, open_cells = reset_grid(grid, open_cells)\n",
    "            bot, ship, open_cells = place_bot(grid, open_cells)\n",
    "            crew_list = []\n",
    "            alien_list = []\n",
    "            d_lookup_table = {}\n",
    "\n",
    "            crew_list, ship = place_crew(ship, open_cells, crew_list)\n",
    "            alien_list, ship = place_alien(ship, open_cells, alien_list, bot, k)\n",
    "\n",
    "            alien_matrix = initialize_alienmatrix(open_cells, bot, k)\n",
    "            crew_matrix = initialize_crewmatrix(open_cells, crew_list, bot)\n",
    "            marker = 0\n",
    "            move = 0\n",
    "\n",
    "            continue\n",
    "\n",
    "        if win_count > prev_win_count:\n",
    "            print(f\"Crew saved! Win Count: {win_count}, Loss Count: {loss_count}\")\n",
    "            win_move_count.append(move)\n",
    "            move = 0\n",
    "            d_lookup_table = {}\n",
    "            alien_matrix = initialize_alienmatrix(open_cells, bot, k)\n",
    "            crew_matrix = initialize_crewmatrix(open_cells, crew_list, bot)\n",
    "        \n",
    "        print(f\"Mimic-Bot1: {bot}, Crew: {crew_list}, Aliens: {alien_list}\")\n",
    "\n",
    "        alien_matrix, crew_matrix = update_afterbotmove(bot, alien_matrix, crew_matrix)\n",
    "\n",
    "        # Move bot to optimal neighbor\n",
    "        marker, alien_list, ship = move_aliens(ship, alien_list, bot) # Move alien randomly\n",
    "\n",
    "        if marker == 1 or move >= timeout:\n",
    "            loss_count += 1\n",
    "            print(f\"Mimic-Bot1 captured! Win Count: {win_count}, Loss Count: {loss_count}\")\n",
    "\n",
    "            grid, open_cells = reset_grid(grid, open_cells)\n",
    "            bot, ship, open_cells = place_bot(grid, open_cells)\n",
    "            crew_list = []\n",
    "            alien_list = []\n",
    "            d_lookup_table = {}\n",
    "\n",
    "            crew_list, ship = place_crew(ship, open_cells, crew_list)\n",
    "            alien_list, ship = place_alien(ship, open_cells, alien_list, bot, k)\n",
    "\n",
    "            alien_matrix = initialize_alienmatrix(open_cells, bot, k)\n",
    "            crew_matrix = initialize_crewmatrix(open_cells, crew_list, bot)\n",
    "            marker = 0\n",
    "            move = 0\n",
    "\n",
    "            continue\n",
    "        \n",
    "        alien_matrix = update_afteralienmove(ship, alien_list, alien_matrix) # Update after alien move\n",
    "        \n",
    "        alien_detected = alien_sensor(alien_list, bot, k) # Run Alien Sensor\n",
    "        crew_detected, d_lookup_table = crew_sensor(ship, bot, alpha, d_lookup_table, crew_list) # Run Crew Sensor\n",
    "        \n",
    "        alien_matrix = update_alienmatrix(alien_matrix, alien_detected, bot, k) # Update based on alien sensor\n",
    "\n",
    "        crew_matrix = update_crewmatrix(crew_matrix, crew_detected, d_lookup_table, bot, alpha) # Update based on crew sensor\n",
    "\n",
    "    return sum(win_move_count) // max(1, len(win_move_count)), (win_count / max(1, (win_count + loss_count))), win_count"
   ]
  },
  {
   "cell_type": "code",
   "execution_count": null,
   "id": "8ff5bb0d",
   "metadata": {},
   "outputs": [],
   "source": [
    "def Bot1_vs_MimicBot1(alpha_values, k_values, max_iter, timeout, num_simulations):\n",
    "    avg_rescue_moves_bot1 = {k: [] for k in k_values}\n",
    "    prob_crew_rescue_bot1 = {k: [] for k in k_values}\n",
    "    avg_crew_saved_bot1 = {k: [] for k in k_values}\n",
    "    \n",
    "    avg_rescue_moves_mbot1 = {k: [] for k in k_values}\n",
    "    prob_crew_rescue_mbot1 = {k: [] for k in k_values}\n",
    "    avg_crew_saved_mbot1 = {k: [] for k in k_values}\n",
    "\n",
    "    for k in k_values:\n",
    "        for alpha in alpha_values:\n",
    "            total_metric1_bot1, total_metric2_bot1, total_metric3_bot1 = 0, 0, 0\n",
    "            total_metric1_mbot1, total_metric2_mbot1, total_metric3_mbot1 = 0, 0, 0\n",
    "            \n",
    "            for i in range(num_simulations):\n",
    "                metric1_bot1, metric2_bot1, metric3_bot1 = Mimic_Bot1(k, alpha, max_iter, timeout)\n",
    "                metric1_mbot1, metric2_mbot1, metric3_mbot1 = Mimic_Bot1(k, alpha, max_iter, timeout)\n",
    "                \n",
    "                total_metric1_bot1 += metric1_bot1\n",
    "                total_metric2_bot1 += metric2_bot1\n",
    "                total_metric3_bot1 += metric3_bot1\n",
    "                \n",
    "                total_metric1_mbot1 += metric1_mbot1\n",
    "                total_metric2_mbot1 += metric2_mbot1\n",
    "                total_metric3_mbot1 += metric3_mbot1\n",
    "\n",
    "            avg_metric1_bot1 = total_metric1_bot1 / num_simulations\n",
    "            avg_metric2_bot1 = total_metric2_bot1 / num_simulations\n",
    "            avg_metric3_bot1 = total_metric3_bot1 / num_simulations\n",
    "            \n",
    "            avg_metric1_mbot1 = total_metric1_mbot1 / num_simulations\n",
    "            avg_metric2_mbot1 = total_metric2_mbot1 / num_simulations\n",
    "            avg_metric3_mbot1 = total_metric3_mbot1 / num_simulations\n",
    "\n",
    "            print(f\"Bot1: k={k}, Alpha={alpha}\\nAverage Rescue Moves={avg_metric1_bot1}\\nProbability of Crew Rescue={avg_metric2_bot1}\\nAverage Crew Saved={avg_metric3_bot1}\\n\")\n",
    "            print(f\"Mimic-Bot1: k={k}, Alpha={alpha}\\nAverage Rescue Moves={avg_metric1_mbot1}\\nProbability of Crew Rescue={avg_metric2_mbot1}\\nAverage Crew Saved={avg_metric3_mbot1}\\n\")\n",
    "\n",
    "            avg_rescue_moves_bot1[k].append(avg_metric1_bot1)\n",
    "            prob_crew_rescue_bot1[k].append(avg_metric2_bot1)\n",
    "            avg_crew_saved_bot1[k].append(avg_metric3_bot1)\n",
    "            \n",
    "            avg_rescue_moves_mbot1[k].append(avg_metric1_mbot1)\n",
    "            prob_crew_rescue_mbot1[k].append(avg_metric2_mbot1)\n",
    "            avg_crew_saved_mbot1[k].append(avg_metric3_mbot1)\n",
    "\n",
    "    return avg_rescue_moves_bot1, prob_crew_rescue_bot1, avg_crew_saved_bot1, avg_rescue_moves_mbot1, prob_crew_rescue_mbot1, avg_crew_saved_mbot1"
   ]
  },
  {
   "cell_type": "code",
   "execution_count": null,
   "id": "aa7cfa15",
   "metadata": {},
   "outputs": [],
   "source": [
    "def test_simulation_model1(alpha_values, k_values, max_iter, timeout, num_simulations):\n",
    "    avg_rescue_moves_bot1, prob_crew_rescue_bot1, avg_crew_saved_bot1, avg_rescue_moves_mbot1, prob_crew_rescue_mbot1, avg_crew_saved_mbot1 = Bot1_vs_MimicBot1(alpha_values, k_values, max_iter, timeout, num_simulations)\n",
    "\n",
    "    prob_crew_rescue_bot1 = {k: [round(prob, 3) for prob in probs] for k, probs in prob_crew_rescue_bot1.items()}\n",
    "    prob_crew_rescue_mbot1 = {k: [round(prob, 3) for prob in probs] for k, probs in prob_crew_rescue_mbot1.items()}\n",
    "\n",
    "    print(f\"Bot1:\\nAverage Rescue Moves = {avg_rescue_moves_bot1}\\nProbability of Crew Rescue = {prob_crew_rescue_bot1}\\nAverage Crew Saved = {avg_crew_saved_bot1}\\n\\n\")\n",
    "    print(f\"Mimic-Bot1:\\nAverage Rescue Moves = {avg_rescue_moves_mbot1}\\nProbability of Crew Rescue = {prob_crew_rescue_mbot1}\\nAverage Crew Saved = {avg_crew_saved_mbot1}\\n\")\n",
    "    \n",
    "    return avg_rescue_moves_bot1, prob_crew_rescue_bot1, avg_crew_saved_bot1, avg_rescue_moves_mbot1, prob_crew_rescue_mbot1, avg_crew_saved_mbot1"
   ]
  },
  {
   "cell_type": "code",
   "execution_count": null,
   "id": "39904a90",
   "metadata": {},
   "outputs": [],
   "source": [
    "alpha_values = [0.004]\n",
    "k_values = [3]\n",
    "max_iter = 20\n",
    "timeout = 10000\n",
    "num_simulations = 20"
   ]
  },
  {
   "cell_type": "code",
   "execution_count": null,
   "id": "7da57aab",
   "metadata": {},
   "outputs": [],
   "source": [
    "metric1_bot1, metric2_bot1, metric3_bot1, metric1_mbot1, metric2_mbot1, metric3_mbot1 = test_simulation_model1(alpha_values, k_values, max_iter, timeout, num_simulations)"
   ]
  },
  {
   "cell_type": "code",
   "execution_count": null,
   "id": "da5bdbea",
   "metadata": {},
   "outputs": [],
   "source": [
    "print(metric1_bot1, metric2_bot1, metric3_bot1)\n",
    "print(metric1_mbot1, metric2_mbot1, metric3_mbot1)"
   ]
  },
  {
   "cell_type": "markdown",
   "id": "70c5f611",
   "metadata": {},
   "source": [
    "## Obsolete"
   ]
  },
  {
   "cell_type": "code",
   "execution_count": null,
   "id": "d4e5bd53",
   "metadata": {},
   "outputs": [],
   "source": [
    "# def Bot1(k, alpha, max_iter, timeout):\n",
    "#     global grid, open_cells\n",
    "#     bot, ship, open_cells = place_bot(grid, open_cells)\n",
    "\n",
    "#     crew_list = []\n",
    "#     alien_list = []\n",
    "#     d_lookup_table = {}\n",
    "\n",
    "#     crew_list, ship = place_crew(ship, open_cells, crew_list)\n",
    "#     alien_list, ship = place_alien(ship, open_cells, alien_list, bot, k)\n",
    "\n",
    "#     alien_matrix = initialize_alienmatrix(open_cells, bot, k)\n",
    "#     crew_matrix = initialize_crewmatrix(open_cells, crew_list, bot)\n",
    "\n",
    "#     win_count = 0\n",
    "#     loss_count = 0\n",
    "#     move = 0\n",
    "#     win_move_count = []\n",
    "#     marker = 0\n",
    "\n",
    "#     while (win_count + loss_count) < max_iter:\n",
    "#         neighbors = check_valid_neighbors(len(ship), bot[0], bot[1])\n",
    "#         open_moves = [neigh for neigh in neighbors if (grid[neigh] != 1)]\n",
    "#         open_moves.append(bot) # Bot can stay in place \n",
    "#         next_move = determine_move(open_moves, alien_matrix, crew_matrix)\n",
    "        \n",
    "#         prev_win_count = win_count\n",
    "#         bot, crew_list, ship, open_cells, win_count, marker = move_bot(ship, bot, next_move, crew_list, alien_list, open_cells, win_count, 1)\n",
    "#         move += 1\n",
    "\n",
    "#         if marker == 1 or move >= timeout:\n",
    "#             loss_count += 1\n",
    "#             print(f\"Bot captured! Win Count: {win_count}, Loss Count: {loss_count}\")\n",
    "\n",
    "#             grid, open_cells = reset_grid(grid, open_cells)\n",
    "#             bot, ship, open_cells = place_bot(grid, open_cells)\n",
    "#             crew_list = []\n",
    "#             alien_list = []\n",
    "#             d_lookup_table = {}\n",
    "\n",
    "#             crew_list, ship = place_crew(ship, open_cells, crew_list)\n",
    "#             alien_list, ship = place_alien(ship, open_cells, alien_list, bot, k)\n",
    "\n",
    "#             alien_matrix = initialize_alienmatrix(open_cells, bot, k)\n",
    "#             crew_matrix = initialize_crewmatrix(open_cells, crew_list, bot)\n",
    "#             marker = 0\n",
    "#             move = 0\n",
    "\n",
    "#             continue\n",
    "\n",
    "#         if win_count > prev_win_count:\n",
    "#             print(f\"Crew saved! Win Count: {win_count}, Loss Count: {loss_count}\")\n",
    "#             win_move_count.append(move)\n",
    "#             move = 0\n",
    "#             d_lookup_table = {}\n",
    "#             alien_matrix = initialize_alienmatrix(open_cells, bot, k)\n",
    "#             crew_matrix = initialize_crewmatrix(open_cells, crew_list, bot)\n",
    "        \n",
    "#         print(f\"Bot: {bot}, Crew: {crew_list}, Aliens: {alien_list}\")\n",
    "\n",
    "#         alien_matrix, crew_matrix = update_afterbotmove(bot, alien_matrix, crew_matrix)\n",
    "\n",
    "#         # Move bot to optimal neighbor\n",
    "#         marker, alien_list, ship = move_aliens(ship, alien_list, bot) # Move alien randomly\n",
    "\n",
    "#         if marker == 1 or move >= timeout:\n",
    "#             loss_count += 1\n",
    "#             print(f\"Bot captured! Win Count: {win_count}, Loss Count: {loss_count}\")\n",
    "\n",
    "#             grid, open_cells = reset_grid(grid, open_cells)\n",
    "#             bot, ship, open_cells = place_bot(grid, open_cells)\n",
    "#             crew_list = []\n",
    "#             alien_list = []\n",
    "#             d_lookup_table = {}\n",
    "\n",
    "#             crew_list, ship = place_crew(ship, open_cells, crew_list)\n",
    "#             alien_list, ship = place_alien(ship, open_cells, alien_list, bot, k)\n",
    "\n",
    "#             alien_matrix = initialize_alienmatrix(open_cells, bot, k)\n",
    "#             crew_matrix = initialize_crewmatrix(open_cells, crew_list, bot)\n",
    "#             marker = 0\n",
    "#             move = 0\n",
    "\n",
    "#             continue\n",
    "        \n",
    "#         alien_matrix = update_afteralienmove(ship, alien_list, alien_matrix) # Update after alien move\n",
    "        \n",
    "#         alien_detected = alien_sensor(alien_list, bot, k) # Run Alien Sensor\n",
    "#         crew_detected, d_lookup_table = crew_sensor(ship, bot, alpha, d_lookup_table, crew_list) # Run Crew Sensor\n",
    "        \n",
    "#         alien_matrix = update_alienmatrix(alien_matrix, alien_detected, bot, k) # Update based on alien sensor\n",
    "\n",
    "#         crew_matrix = update_crewmatrix(crew_matrix, crew_detected, d_lookup_table, bot, alpha) # Update based on crew sensor\n",
    "\n",
    "#     return sum(win_move_count) // max(1, len(win_move_count)), (win_count / max(1, (win_count + loss_count))), win_count"
   ]
  },
  {
   "cell_type": "code",
   "execution_count": null,
   "id": "1b7f2f66",
   "metadata": {},
   "outputs": [],
   "source": [
    "# def plot_Bot1(alpha_values, k_values, bot1_data, title, metric_num):\n",
    "#     # Generate a plot for each k-value\n",
    "#     for k in k_values:\n",
    "#         plt.figure(figsize=(10, 6))\n",
    "#         plt.plot(alpha_values, bot1_data[k], label=f'Bot 1, k={k}')\n",
    "#         plt.title(f'{title} (k={k})')\n",
    "#         plt.xlabel('alpha')\n",
    "#         plt.ylabel(title)\n",
    "\n",
    "#         # Set x-axis ticks\n",
    "#         plt.xticks(alpha_values, labels=[str(alpha) for alpha in alpha_values])\n",
    "\n",
    "#         plt.legend()\n",
    "#         plt.grid(True)\n",
    "        \n",
    "#         plt.show()"
   ]
  },
  {
   "cell_type": "code",
   "execution_count": null,
   "id": "cf4faed6",
   "metadata": {},
   "outputs": [],
   "source": [
    "# def one_alien_one_crew(alpha_values, k_values, max_iter, timeout, num_simulations):\n",
    "#     bot1_avg_rescue_moves, bot1_prob_crew_rescue, bot1_avg_crew_saved = Bot1_simulation(alpha_values, k_values, max_iter, timeout, num_simulations)\n",
    "\n",
    "#     bot1_prob_crew_rescue = {k: [round(prob, 3) for prob in probs] for k, probs in bot1_prob_crew_rescue.items()}\n",
    "\n",
    "#     print(bot1_avg_rescue_moves, bot1_prob_crew_rescue, bot1_avg_crew_saved, \"\\n\")\n",
    "\n",
    "#     plot_Bot1(alpha_values, k_values, bot1_avg_rescue_moves, 'Average Rescue Moves', 1)\n",
    "#     plot_Bot1(alpha_values, k_values, bot1_prob_crew_rescue, 'Probability of Crew Rescue', 2)\n",
    "#     plot_Bot1(alpha_values, k_values, bot1_avg_crew_saved, 'Average Crew Saved', 3)"
   ]
  },
  {
   "cell_type": "code",
   "execution_count": null,
   "id": "4e9aeca7",
   "metadata": {},
   "outputs": [],
   "source": [
    "# # Train Function that uses SGD and GD\n",
    "# def train(X, y, valid, alpha, epochs, initial_batch_size, loss_threshold):\n",
    "#     num_features = X.shape[1]\n",
    "#     num_classes = 5\n",
    "#     n = X.shape[0]\n",
    "\n",
    "#     W, b = init_params(num_features, num_classes)\n",
    "# #     print(W, b)\n",
    "\n",
    "#     previous_loss = float('inf')  # Set starting loss to infinity\n",
    "#     batch_size = initial_batch_size  # Start with SGD (smaller batch size)\n",
    "#     switched_to_gd = False\n",
    "#     loss_list = []  # Store loss values over time\n",
    "    \n",
    "#     # Number of times iterated through entire dataset\n",
    "#     for epoch in range(epochs):\n",
    "#         current_loss = 0\n",
    "        \n",
    "#         # Only iterate over batch size. In SGD, batch size is small, so iterate over smaller batches and update loss\n",
    "#         for i in range(0, n, batch_size):\n",
    "#             X_batch = X.iloc[i:i + batch_size]\n",
    "#             y_batch = y.iloc[i:i + batch_size]\n",
    "#             valid_batch = valid[i:i + batch_size]\n",
    "\n",
    "#             y_pred = predict(X_batch, W, b)\n",
    "# #             print(y_batch, y_pred, valid_batch)\n",
    "#             batch_loss = loss_function(y_batch, y_pred, valid_batch)\n",
    "#             current_loss += batch_loss\n",
    "\n",
    "#             dW, db = compute_gradient(X_batch, y_batch, y_pred, valid_batch)\n",
    "#             W -= alpha * dW\n",
    "#             b -= alpha * db\n",
    "\n",
    "#         current_loss /= (n // batch_size)\n",
    "#         loss_list.append(current_loss)\n",
    "\n",
    "#         # Check if loss threshold is met to switch to GD\n",
    "#         if not switched_to_gd and abs(previous_loss - current_loss) < loss_threshold:\n",
    "#             batch_size = n  # Set batch size to full dataset (switch to Gradient Descent)\n",
    "#             switched_to_gd = True\n",
    "#             print(f\"Switched to Gradient Descent. Epoch: {epoch}\")\n",
    "\n",
    "#         previous_loss = current_loss\n",
    "        \n",
    "#         print(f\"Epoch {epoch}, Loss: {current_loss}\")\n",
    "\n",
    "#     return W, b, loss_list"
   ]
  },
  {
   "cell_type": "code",
   "execution_count": null,
   "id": "9c374f0d",
   "metadata": {},
   "outputs": [],
   "source": []
  }
 ],
 "metadata": {
  "kernelspec": {
   "display_name": "Python 3 (ipykernel)",
   "language": "python",
   "name": "python3"
  },
  "language_info": {
   "codemirror_mode": {
    "name": "ipython",
    "version": 3
   },
   "file_extension": ".py",
   "mimetype": "text/x-python",
   "name": "python",
   "nbconvert_exporter": "python",
   "pygments_lexer": "ipython3",
   "version": "3.9.13"
  }
 },
 "nbformat": 4,
 "nbformat_minor": 5
}
