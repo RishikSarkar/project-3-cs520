{
 "cells": [
  {
   "cell_type": "markdown",
   "id": "b9ef4437",
   "metadata": {},
   "source": [
    "# Model 1: Modeling Selected Actions"
   ]
  },
  {
   "cell_type": "markdown",
   "id": "a948f47d",
   "metadata": {},
   "source": [
    "The purpose of this model is to predict the action that the bot will select for a given state of the simulation."
   ]
  },
  {
   "cell_type": "markdown",
   "id": "968dc924",
   "metadata": {},
   "source": [
    "## Preliminary Setup"
   ]
  },
  {
   "cell_type": "markdown",
   "id": "956b6c02",
   "metadata": {},
   "source": [
    "### Imports"
   ]
  },
  {
   "cell_type": "code",
   "execution_count": 1,
   "id": "19864ca6",
   "metadata": {},
   "outputs": [],
   "source": [
    "import os\n",
    "import numpy as np\n",
    "import random\n",
    "import math\n",
    "import json\n",
    "import pandas as pd\n",
    "import ast\n",
    "import datetime"
   ]
  },
  {
   "cell_type": "code",
   "execution_count": 2,
   "id": "c24f8985",
   "metadata": {},
   "outputs": [],
   "source": [
    "# %pip install json"
   ]
  },
  {
   "cell_type": "code",
   "execution_count": 3,
   "id": "490bd53b",
   "metadata": {},
   "outputs": [],
   "source": [
    "import nbimporter"
   ]
  },
  {
   "cell_type": "markdown",
   "id": "2b1f15c9",
   "metadata": {},
   "source": [
    "### Additional Bot Config"
   ]
  },
  {
   "cell_type": "code",
   "execution_count": 4,
   "id": "9517466d",
   "metadata": {},
   "outputs": [],
   "source": [
    "import Bot1"
   ]
  },
  {
   "cell_type": "code",
   "execution_count": 5,
   "id": "506d1d4f",
   "metadata": {},
   "outputs": [],
   "source": [
    "file_name = 'Data/Model1/model1_data_raw.csv'"
   ]
  },
  {
   "cell_type": "code",
   "execution_count": 6,
   "id": "40117790",
   "metadata": {},
   "outputs": [],
   "source": [
    "%run Bot1.ipynb"
   ]
  },
  {
   "cell_type": "code",
   "execution_count": 7,
   "id": "4b5f4c11",
   "metadata": {},
   "outputs": [],
   "source": [
    "grid, open_cells = create_grid() # Fixed grid orientation"
   ]
  },
  {
   "cell_type": "code",
   "execution_count": 8,
   "id": "09439181",
   "metadata": {},
   "outputs": [],
   "source": [
    "def determine_probabilities(bot, matrix):\n",
    "    directions = {'up': (bot[0], bot[1] - 1), \n",
    "                  'down': (bot[0], bot[1] + 1), \n",
    "                  'left': (bot[0] - 1, bot[1]), \n",
    "                  'right': (bot[0] + 1, bot[1]),\n",
    "                  'stay': bot}\n",
    "    return [matrix.get(directions[direction], 0) for direction in ['up', 'down', 'left', 'right', 'stay']]"
   ]
  },
  {
   "cell_type": "code",
   "execution_count": 9,
   "id": "7a364980",
   "metadata": {},
   "outputs": [],
   "source": [
    "def Bot1_collect_data(k, alpha, max_iter, timeout):\n",
    "    global grid, open_cells\n",
    "    \n",
    "    grid, open_cells = reset_grid(grid, open_cells)\n",
    "    bot, ship, open_cells = place_bot(grid, open_cells)\n",
    "\n",
    "    crew_list = []\n",
    "    alien_list = []\n",
    "    d_lookup_table = {}\n",
    "    \n",
    "    data_log = [] # Data Log Initialization\n",
    "\n",
    "    crew_list, ship = place_crew(ship, open_cells, crew_list)\n",
    "    alien_list, ship = place_alien(ship, open_cells, alien_list, bot, k)\n",
    "\n",
    "    alien_matrix = initialize_alienmatrix(open_cells, bot, k)\n",
    "    crew_matrix = initialize_crewmatrix(open_cells, crew_list, bot)\n",
    "    \n",
    "    alien_detected = False\n",
    "    crew_detected = False\n",
    "    \n",
    "    next_move_str = 'stay'\n",
    "\n",
    "    win_count = 0\n",
    "    loss_count = 0\n",
    "    move = 0\n",
    "    win_move_count = []\n",
    "    marker = 0\n",
    "\n",
    "    while (win_count + loss_count) < max_iter:\n",
    "        neighbors = check_valid_neighbors(len(ship), bot[0], bot[1])\n",
    "        open_moves = [neigh for neigh in neighbors if (grid[neigh] != 1)]\n",
    "        open_moves.append(bot) # Bot can stay in place \n",
    "        next_move = determine_move(open_moves, alien_matrix, crew_matrix)\n",
    "        \n",
    "#         alien_matrix_str_keys = {str(key): round(value, 5) for key, value in alien_matrix.items()}\n",
    "#         crew_matrix_str_keys = {str(key): round(value, 5) for key, value in crew_matrix.items()}\n",
    "\n",
    "#         alien_matrix_json = json.dumps(alien_matrix_str_keys)\n",
    "#         crew_matrix_json = json.dumps(crew_matrix_str_keys)\n",
    "\n",
    "#         alien_matrix_flat = [round(alien_matrix.get((x, y), 0), 5) for x in range(30) for y in range(30)]\n",
    "#         crew_matrix_flat = [round(crew_matrix.get((x, y), 0), 5) for x in range(30) for y in range(30)]\n",
    "\n",
    "        alien_probs = determine_probabilities(bot, alien_matrix)\n",
    "        crew_probs = determine_probabilities(bot, crew_matrix)\n",
    "        \n",
    "        # Convert relative move to string      \n",
    "        if next_move[0] > bot[0]:\n",
    "            next_move_str = 'right'\n",
    "        elif next_move[0] < bot[0]:\n",
    "            next_move_str = 'left'\n",
    "        elif next_move[1] > bot[1]:\n",
    "            next_move_str = 'up'\n",
    "        elif next_move[1] < bot[1]:\n",
    "            next_move_str = 'down'\n",
    "        else:\n",
    "            next_move_str = 'stay'\n",
    "        \n",
    "        # One-Hot Encoding\n",
    "        actions = {'up': [1, 0, 0, 0, 0], 'down': [0, 1, 0, 0, 0], 'left': [0, 0, 1, 0, 0], 'right': [0, 0, 0, 1, 0], 'stay': [0, 0, 0, 0, 1]}\n",
    "        best_move_encoded = actions[next_move_str]\n",
    "        \n",
    "        log_entry = {\n",
    "            'bot_x': bot[0],\n",
    "            'bot_y': bot[1],\n",
    "            \n",
    "            'alien_up': alien_probs[0],\n",
    "            'alien_down': alien_probs[1],\n",
    "            'alien_left': alien_probs[2],\n",
    "            'alien_right': alien_probs[3],\n",
    "            'alien_stay': alien_probs[4],\n",
    "            \n",
    "            'crew_up': crew_probs[0],\n",
    "            'crew_down': crew_probs[1],\n",
    "            'crew_left': crew_probs[2],\n",
    "            'crew_right': crew_probs[3],\n",
    "            'crew_stay': crew_probs[4],\n",
    "            \n",
    "            'alien_detected': 1 if alien_detected else 0,\n",
    "            'crew_detected': 1 if crew_detected else 0,\n",
    "            \n",
    "            'chosen_action': best_move_encoded\n",
    "        }\n",
    "        data_log.append(log_entry)\n",
    "        \n",
    "        prev_win_count = win_count\n",
    "        bot, crew_list, ship, open_cells, win_count, marker = move_bot(ship, bot, next_move, crew_list, alien_list, open_cells, win_count, 1)\n",
    "        move += 1\n",
    "\n",
    "        if marker == 1 or move >= timeout:\n",
    "            loss_count += 1\n",
    "            print(f\"Bot captured! Win Count: {win_count}, Loss Count: {loss_count}\")\n",
    "\n",
    "            grid, open_cells = reset_grid(grid, open_cells)\n",
    "            bot, ship, open_cells = place_bot(grid, open_cells)\n",
    "            crew_list = []\n",
    "            alien_list = []\n",
    "            d_lookup_table = {}\n",
    "\n",
    "            crew_list, ship = place_crew(ship, open_cells, crew_list)\n",
    "            alien_list, ship = place_alien(ship, open_cells, alien_list, bot, k)\n",
    "\n",
    "            alien_matrix = initialize_alienmatrix(open_cells, bot, k)\n",
    "            crew_matrix = initialize_crewmatrix(open_cells, crew_list, bot)\n",
    "            marker = 0\n",
    "            move = 0\n",
    "\n",
    "            continue\n",
    "\n",
    "        if win_count > prev_win_count:\n",
    "            print(f\"Crew saved! Win Count: {win_count}, Loss Count: {loss_count}\")\n",
    "            win_move_count.append(move)\n",
    "            move = 0\n",
    "            d_lookup_table = {}\n",
    "            alien_matrix = initialize_alienmatrix(open_cells, bot, k)\n",
    "            crew_matrix = initialize_crewmatrix(open_cells, crew_list, bot)\n",
    "        \n",
    "        print(f\"Bot: {bot}, Crew: {crew_list}, Aliens: {alien_list}\")\n",
    "\n",
    "        alien_matrix, crew_matrix = update_afterbotmove(bot, alien_matrix, crew_matrix)\n",
    "\n",
    "        # Move bot to optimal neighbor\n",
    "        marker, alien_list, ship = move_aliens(ship, alien_list, bot) # Move alien randomly\n",
    "\n",
    "        if marker == 1 or move >= timeout:\n",
    "            loss_count += 1\n",
    "            print(f\"Bot captured! Win Count: {win_count}, Loss Count: {loss_count}\")\n",
    "\n",
    "            grid, open_cells = reset_grid(grid, open_cells)\n",
    "            bot, ship, open_cells = place_bot(grid, open_cells)\n",
    "            crew_list = []\n",
    "            alien_list = []\n",
    "            d_lookup_table = {}\n",
    "\n",
    "            crew_list, ship = place_crew(ship, open_cells, crew_list)\n",
    "            alien_list, ship = place_alien(ship, open_cells, alien_list, bot, k)\n",
    "\n",
    "            alien_matrix = initialize_alienmatrix(open_cells, bot, k)\n",
    "            crew_matrix = initialize_crewmatrix(open_cells, crew_list, bot)\n",
    "            marker = 0\n",
    "            move = 0\n",
    "\n",
    "            continue\n",
    "        \n",
    "        alien_matrix = update_afteralienmove(ship, alien_list, alien_matrix) # Update after alien move\n",
    "        \n",
    "        alien_detected = alien_sensor(alien_list, bot, k) # Run Alien Sensor\n",
    "        crew_detected, d_lookup_table = crew_sensor(ship, bot, alpha, d_lookup_table, crew_list) # Run Crew Sensor\n",
    "        \n",
    "        alien_matrix = update_alienmatrix(alien_matrix, alien_detected, bot, k) # Update based on alien sensor\n",
    "\n",
    "        crew_matrix = update_crewmatrix(crew_matrix, crew_detected, d_lookup_table, bot, alpha) # Update based on crew sensor\n",
    "    \n",
    "    df = pd.DataFrame(data_log)\n",
    "    \n",
    "    if os.path.isfile(file_name):\n",
    "        df.to_csv(file_name, mode='a', index=False, header=False)\n",
    "    else:\n",
    "        df.to_csv(file_name, mode='w', index=False, header=True)\n",
    "\n",
    "    return sum(win_move_count) // max(1, len(win_move_count)), (win_count / max(1, (win_count + loss_count))), win_count"
   ]
  },
  {
   "cell_type": "code",
   "execution_count": 10,
   "id": "9b563458",
   "metadata": {},
   "outputs": [],
   "source": [
    "def Bot1_simulation(alpha_values, k_values, max_iter, timeout, num_simulations):\n",
    "    avg_rescue_moves = {k: [] for k in k_values}\n",
    "    prob_crew_rescue = {k: [] for k in k_values}\n",
    "    avg_crew_saved = {k: [] for k in k_values}\n",
    "\n",
    "    for k in k_values:\n",
    "        for alpha in alpha_values:\n",
    "            total_metric1, total_metric2, total_metric3 = 0, 0, 0\n",
    "            \n",
    "            for i in range(num_simulations):\n",
    "                metric1, metric2, metric3 = Bot1_collect_data(k, alpha, max_iter, timeout)\n",
    "                total_metric1 += metric1\n",
    "                total_metric2 += metric2\n",
    "                total_metric3 += metric3\n",
    "\n",
    "            avg_metric1 = total_metric1 / num_simulations\n",
    "            avg_metric2 = total_metric2 / num_simulations\n",
    "            avg_metric3 = total_metric3 / num_simulations\n",
    "\n",
    "            print(f\"k: {k}, Alpha: {alpha}\\nAverage Rescue Moves: {avg_metric1}\\nProbability of Crew Rescue: {avg_metric2}\\nAverage Crew Saved: {avg_metric3}\\n\")\n",
    "\n",
    "            avg_rescue_moves[k].append(avg_metric1)\n",
    "            prob_crew_rescue[k].append(avg_metric2)\n",
    "            avg_crew_saved[k].append(avg_metric3)\n",
    "\n",
    "    return avg_rescue_moves, prob_crew_rescue, avg_crew_saved"
   ]
  },
  {
   "cell_type": "code",
   "execution_count": 11,
   "id": "fd94d814",
   "metadata": {},
   "outputs": [],
   "source": [
    "def one_alien_one_crew(alpha_values, k_values, max_iter, timeout, num_simulations):\n",
    "    bot1_avg_rescue_moves, bot1_prob_crew_rescue, bot1_avg_crew_saved = Bot1_simulation(alpha_values, k_values, max_iter, timeout, num_simulations)\n",
    "\n",
    "    bot1_prob_crew_rescue = {k: [round(prob, 3) for prob in probs] for k, probs in bot1_prob_crew_rescue.items()}\n",
    "\n",
    "    print(bot1_avg_rescue_moves, bot1_prob_crew_rescue, bot1_avg_crew_saved, \"\\n\")"
   ]
  },
  {
   "cell_type": "code",
   "execution_count": 12,
   "id": "a78e4b3a",
   "metadata": {},
   "outputs": [],
   "source": [
    "alpha_values = [0.004] # 0.004 > 0.01\n",
    "k_values = [3]\n",
    "max_iter = 30\n",
    "timeout = 10000\n",
    "num_simulations = 50"
   ]
  },
  {
   "cell_type": "code",
   "execution_count": 13,
   "id": "ec1db10e",
   "metadata": {},
   "outputs": [],
   "source": [
    "# one_alien_one_crew(alpha_values, k_values, max_iter, timeout, num_simulations)"
   ]
  },
  {
   "cell_type": "code",
   "execution_count": 14,
   "id": "54f1f682",
   "metadata": {},
   "outputs": [],
   "source": [
    "# k: 3, Alpha: 0.004\n",
    "# Average Rescue Moves: 585.05\n",
    "# Probability of Crew Rescue: 0.71\n",
    "# Average Crew Saved: 21.3\n",
    "\n",
    "# {3: [585.05]} {3: [0.71]} {3: [21.3]} "
   ]
  },
  {
   "cell_type": "markdown",
   "id": "30d030cf",
   "metadata": {},
   "source": [
    "### Model 1 Training Functions"
   ]
  },
  {
   "cell_type": "code",
   "execution_count": 15,
   "id": "67fdfb92",
   "metadata": {},
   "outputs": [],
   "source": [
    "# Softmax Function\n",
    "def softmax(z):\n",
    "    e_z = np.exp(z - np.max(z, axis=1, keepdims=True))\n",
    "    return e_z / np.sum(e_z, axis=1, keepdims=True)"
   ]
  },
  {
   "cell_type": "code",
   "execution_count": 16,
   "id": "c7705994",
   "metadata": {},
   "outputs": [],
   "source": [
    "# Initialize weights and biases\n",
    "def init_params(num_features, num_classes):\n",
    "    W = np.random.randn(num_features, num_classes) * 0.01 # Initialize to a small random number\n",
    "    b = np.zeros((1, num_classes))\n",
    "#     print(W, b, W.shape, b.shape)\n",
    "    return W, b"
   ]
  },
  {
   "cell_type": "code",
   "execution_count": 17,
   "id": "431ce4ec",
   "metadata": {},
   "outputs": [],
   "source": [
    "# Loss Function\n",
    "def loss_function(y_true, y_pred, valid):\n",
    "    n = y_true.shape[0]\n",
    "\n",
    "    valid_y_pred = y_pred * valid\n",
    "    valid_y_pred_sum = valid_y_pred.sum(axis=1, keepdims=True)\n",
    "    valid_y_pred /= valid_y_pred_sum\n",
    "    \n",
    "    y_true_array = np.array(y_true['chosen_action'].apply(ast.literal_eval).tolist())\n",
    "#     print(y_true_array, y_true_array.shape, valid_y_pred, valid_y_pred.shape)\n",
    "\n",
    "    loss = -np.sum(y_true_array * np.log(valid_y_pred + 1e-15)) / n  # Add a small number to prevent log(0)\n",
    "    return loss"
   ]
  },
  {
   "cell_type": "code",
   "execution_count": 18,
   "id": "70af296a",
   "metadata": {},
   "outputs": [],
   "source": [
    "# Calculate the gradient\n",
    "def compute_gradient(X, y_true, y_pred, valid):\n",
    "    n = X.shape[0]\n",
    "    \n",
    "    valid_y_pred = y_pred * valid\n",
    "    valid_y_pred_sum = valid_y_pred.sum(axis=1, keepdims=True)\n",
    "    valid_y_pred /= valid_y_pred_sum\n",
    "    \n",
    "    y_true_array = np.array(y_true['chosen_action'].apply(ast.literal_eval).tolist())\n",
    "    \n",
    "    dW = (1 / n) * np.dot(X.T, (valid_y_pred - y_true_array))\n",
    "    db = (1 / n) * np.sum(valid_y_pred - y_true_array, axis=0, keepdims=True)\n",
    "    return dW, db"
   ]
  },
  {
   "cell_type": "code",
   "execution_count": 19,
   "id": "41d242fc",
   "metadata": {},
   "outputs": [],
   "source": [
    "# Prediction Function\n",
    "def predict(X, W, b):\n",
    "    z = np.dot(X, W) + b\n",
    "    y_pred = softmax(z)\n",
    "    return y_pred"
   ]
  },
  {
   "cell_type": "code",
   "execution_count": 20,
   "id": "91371d4b",
   "metadata": {},
   "outputs": [],
   "source": [
    "# Prediction Function to account for cases with invalid predictions\n",
    "# For example, [0, 0.1, 0.2, 0.4, 0.3] would become [0, 0.1, 0, 0, 0.3] if left and right were invalid, and then normalization would cause it to become [0, 0.25, 0, 0, 0.75]\n",
    "def predict_constrained(X, W, b, valid):\n",
    "    y_pred = predict(X, W, b)\n",
    "    \n",
    "    valid_y_pred = y_pred * valid\n",
    "    valid_y_pred_sum = valid_y_pred.sum(axis=1, keepdims=True)\n",
    "    valid_y_pred /= valid_y_pred_sum\n",
    "    \n",
    "    one_hot_pred = np.zeros_like(valid_y_pred, dtype=int)\n",
    "    one_hot_pred[np.arange(len(valid_y_pred)), np.argmax(valid_y_pred, axis=1)] = 1\n",
    "\n",
    "    return one_hot_pred"
   ]
  },
  {
   "cell_type": "code",
   "execution_count": 21,
   "id": "8ad6cb6f",
   "metadata": {},
   "outputs": [],
   "source": [
    "# Train Function that uses SGD and GD\n",
    "def train(X, y, valid, alpha, epochs, initial_batch_size, loss_threshold):\n",
    "    num_features = X.shape[1]\n",
    "    num_classes = 5\n",
    "    n = X.shape[0]\n",
    "\n",
    "    W, b = init_params(num_features, num_classes)\n",
    "#     print(W, b)\n",
    "\n",
    "    previous_loss = float('inf')  # Set starting loss to infinity\n",
    "    batch_size = initial_batch_size  # Start with SGD (smaller batch size)\n",
    "    switched_to_gd = False\n",
    "    loss_list = []  # Store loss values over time\n",
    "    \n",
    "    # Number of times iterated through entire dataset\n",
    "    for epoch in range(epochs):\n",
    "        current_loss = 0\n",
    "        \n",
    "        # Only iterate over batch size. In SGD, batch size is small, so iterate over smaller batches and update loss\n",
    "        for i in range(0, n, batch_size):\n",
    "            X_batch = X.iloc[i:i + batch_size]\n",
    "            y_batch = y.iloc[i:i + batch_size]\n",
    "            valid_batch = valid[i:i + batch_size]\n",
    "\n",
    "            y_pred = predict(X_batch, W, b)\n",
    "#             print(y_batch, y_pred, valid_batch)\n",
    "            batch_loss = loss_function(y_batch, y_pred, valid_batch)\n",
    "            current_loss += batch_loss\n",
    "\n",
    "            dW, db = compute_gradient(X_batch, y_batch, y_pred, valid_batch)\n",
    "            W -= alpha * dW\n",
    "            b -= alpha * db\n",
    "\n",
    "        current_loss /= (n // batch_size)\n",
    "        loss_list.append(current_loss)\n",
    "\n",
    "        # Check if loss threshold is met to switch to GD\n",
    "        if not switched_to_gd and abs(previous_loss - current_loss) < loss_threshold:\n",
    "            batch_size = n  # Set batch size to full dataset (switch to Gradient Descent)\n",
    "            switched_to_gd = True\n",
    "            print(f\"Switched to Gradient Descent. Epoch: {epoch}\")\n",
    "\n",
    "        previous_loss = current_loss\n",
    "        \n",
    "        print(f\"Epoch {epoch}, Loss: {current_loss}\")\n",
    "\n",
    "    return W, b, loss_list"
   ]
  },
  {
   "cell_type": "code",
   "execution_count": 22,
   "id": "58d2585d",
   "metadata": {},
   "outputs": [],
   "source": [
    "def is_valid(x, y, move, grid, open_cells):\n",
    "    if move == 'up' and (x, y + 1) in open_cells:\n",
    "        return 1\n",
    "    elif move == 'down' and (x, y - 1) in open_cells:\n",
    "        return 1\n",
    "    elif move == 'left' and (x - 1, y) in open_cells:\n",
    "        return 1\n",
    "    elif move == 'right' and (x + 1, y) in open_cells:\n",
    "        return 1\n",
    "    elif move == 'stay':\n",
    "        return 1\n",
    "    else:\n",
    "        return 0"
   ]
  },
  {
   "cell_type": "code",
   "execution_count": 23,
   "id": "679450e3",
   "metadata": {},
   "outputs": [],
   "source": [
    "grid, open_cells = reset_grid(grid, open_cells)\n",
    "\n",
    "def create_valid_matrix(X):\n",
    "    global grid, open_cells\n",
    "    directions = ['up', 'down', 'left', 'right', 'stay']\n",
    "    valid_list = []\n",
    "    for i in range(len(X)):\n",
    "        x, y = X.iloc[i, 0], X.iloc[i, 1]\n",
    "        validity_for_each_direction = [is_valid(x, y, move, grid, open_cells) for move in directions]\n",
    "        valid_list.append(validity_for_each_direction)\n",
    "\n",
    "    valid_array = np.array(valid_list)\n",
    "    return valid_array"
   ]
  },
  {
   "cell_type": "code",
   "execution_count": 24,
   "id": "8290a6d2",
   "metadata": {},
   "outputs": [],
   "source": [
    "def plot_training_loss(loss_list):\n",
    "    directory = \"Results/Model1\"\n",
    "    \n",
    "    if not os.path.exists(directory):\n",
    "        os.makedirs(directory)\n",
    "\n",
    "    filename = f\"loss_plot_{datetime.datetime.now().strftime('%Y%m%d_%H%M%S')}.png\"\n",
    "    filepath = os.path.join(directory, filename)\n",
    "    \n",
    "    plt.figure(figsize=(10, 6))\n",
    "    plt.plot(loss_list, label='Loss per Epoch')\n",
    "    plt.title('Model Loss over Epochs')\n",
    "    plt.xlabel('Epoch')\n",
    "    plt.ylabel('Loss')\n",
    "    plt.legend()\n",
    "    plt.grid(True)\n",
    "    \n",
    "    plt.savefig(filepath)\n",
    "    plt.show()"
   ]
  },
  {
   "cell_type": "markdown",
   "id": "997651bc",
   "metadata": {},
   "source": [
    "### Model 1 Testing Functions"
   ]
  },
  {
   "cell_type": "code",
   "execution_count": 25,
   "id": "ec2bd210",
   "metadata": {},
   "outputs": [],
   "source": [
    "def calculate_accuracy(y_true, y_pred):\n",
    "    correct_predictions = (y_true == y_pred)\n",
    "    accuracy = correct_predictions.sum() / correct_predictions.size\n",
    "    return accuracy"
   ]
  },
  {
   "cell_type": "code",
   "execution_count": 26,
   "id": "d7da8f1b",
   "metadata": {},
   "outputs": [],
   "source": [
    "def test(W, b, X_train, y_train, valid_train, X_test, y_test, valid_test): \n",
    "    y_train_df = y_train.squeeze()\n",
    "    y_test_df = y_test.squeeze()\n",
    "\n",
    "    y_train_true = np.array(y_train_df.apply(ast.literal_eval).tolist())\n",
    "    y_test_true = np.array(y_test_df.apply(ast.literal_eval).tolist())\n",
    "    \n",
    "    y_train_pred = predict_constrained(X_train, W, b, valid_train)\n",
    "    \n",
    "#     print(y_train_true, y_train_pred)\n",
    "    train_acc = calculate_accuracy(y_train_true, y_train_pred)\n",
    "\n",
    "    y_test_pred = predict_constrained(X_test, W, b, valid_test)\n",
    "    test_acc = calculate_accuracy(y_test_true, y_test_pred)\n",
    "    \n",
    "    print(f\"Training Accuracy: {train_acc}\\nTesting Accuracy: {test_acc}\")\n",
    "\n",
    "    return train_acc, test_acc"
   ]
  },
  {
   "cell_type": "markdown",
   "id": "a77c85fa",
   "metadata": {},
   "source": [
    "### Data Preprocessing"
   ]
  },
  {
   "cell_type": "code",
   "execution_count": 27,
   "id": "49718ed3",
   "metadata": {},
   "outputs": [],
   "source": [
    "data = pd.read_csv('Data/Model1/model1_data_raw.csv')"
   ]
  },
  {
   "cell_type": "code",
   "execution_count": 28,
   "id": "21688d19",
   "metadata": {},
   "outputs": [
    {
     "data": {
      "text/html": [
       "<div>\n",
       "<style scoped>\n",
       "    .dataframe tbody tr th:only-of-type {\n",
       "        vertical-align: middle;\n",
       "    }\n",
       "\n",
       "    .dataframe tbody tr th {\n",
       "        vertical-align: top;\n",
       "    }\n",
       "\n",
       "    .dataframe thead th {\n",
       "        text-align: right;\n",
       "    }\n",
       "</style>\n",
       "<table border=\"1\" class=\"dataframe\">\n",
       "  <thead>\n",
       "    <tr style=\"text-align: right;\">\n",
       "      <th></th>\n",
       "      <th>bot_x</th>\n",
       "      <th>bot_y</th>\n",
       "      <th>alien_up</th>\n",
       "      <th>alien_down</th>\n",
       "      <th>alien_left</th>\n",
       "      <th>alien_right</th>\n",
       "      <th>alien_stay</th>\n",
       "      <th>crew_up</th>\n",
       "      <th>crew_down</th>\n",
       "      <th>crew_left</th>\n",
       "      <th>crew_right</th>\n",
       "      <th>crew_stay</th>\n",
       "      <th>alien_detected</th>\n",
       "      <th>crew_detected</th>\n",
       "      <th>chosen_action</th>\n",
       "    </tr>\n",
       "  </thead>\n",
       "  <tbody>\n",
       "    <tr>\n",
       "      <th>0</th>\n",
       "      <td>10</td>\n",
       "      <td>9</td>\n",
       "      <td>0.0</td>\n",
       "      <td>0.0</td>\n",
       "      <td>0.0</td>\n",
       "      <td>0.0</td>\n",
       "      <td>0.0</td>\n",
       "      <td>0.000000</td>\n",
       "      <td>0.001634</td>\n",
       "      <td>0.0</td>\n",
       "      <td>0.001634</td>\n",
       "      <td>0.0</td>\n",
       "      <td>0</td>\n",
       "      <td>0</td>\n",
       "      <td>[0, 0, 0, 1, 0]</td>\n",
       "    </tr>\n",
       "    <tr>\n",
       "      <th>1</th>\n",
       "      <td>11</td>\n",
       "      <td>9</td>\n",
       "      <td>0.0</td>\n",
       "      <td>0.0</td>\n",
       "      <td>0.0</td>\n",
       "      <td>0.0</td>\n",
       "      <td>0.0</td>\n",
       "      <td>0.000000</td>\n",
       "      <td>0.000000</td>\n",
       "      <td>0.0</td>\n",
       "      <td>0.001758</td>\n",
       "      <td>0.0</td>\n",
       "      <td>0</td>\n",
       "      <td>1</td>\n",
       "      <td>[0, 0, 0, 1, 0]</td>\n",
       "    </tr>\n",
       "    <tr>\n",
       "      <th>2</th>\n",
       "      <td>12</td>\n",
       "      <td>9</td>\n",
       "      <td>0.0</td>\n",
       "      <td>0.0</td>\n",
       "      <td>0.0</td>\n",
       "      <td>0.0</td>\n",
       "      <td>0.0</td>\n",
       "      <td>0.001879</td>\n",
       "      <td>0.001879</td>\n",
       "      <td>0.0</td>\n",
       "      <td>0.000000</td>\n",
       "      <td>0.0</td>\n",
       "      <td>0</td>\n",
       "      <td>1</td>\n",
       "      <td>[1, 0, 0, 0, 0]</td>\n",
       "    </tr>\n",
       "    <tr>\n",
       "      <th>3</th>\n",
       "      <td>12</td>\n",
       "      <td>10</td>\n",
       "      <td>0.0</td>\n",
       "      <td>0.0</td>\n",
       "      <td>0.0</td>\n",
       "      <td>0.0</td>\n",
       "      <td>0.0</td>\n",
       "      <td>0.000000</td>\n",
       "      <td>0.001998</td>\n",
       "      <td>0.0</td>\n",
       "      <td>0.000000</td>\n",
       "      <td>0.0</td>\n",
       "      <td>0</td>\n",
       "      <td>1</td>\n",
       "      <td>[1, 0, 0, 0, 0]</td>\n",
       "    </tr>\n",
       "    <tr>\n",
       "      <th>4</th>\n",
       "      <td>12</td>\n",
       "      <td>11</td>\n",
       "      <td>0.0</td>\n",
       "      <td>0.0</td>\n",
       "      <td>0.0</td>\n",
       "      <td>0.0</td>\n",
       "      <td>0.0</td>\n",
       "      <td>0.000000</td>\n",
       "      <td>0.002111</td>\n",
       "      <td>0.0</td>\n",
       "      <td>0.002111</td>\n",
       "      <td>0.0</td>\n",
       "      <td>0</td>\n",
       "      <td>1</td>\n",
       "      <td>[1, 0, 0, 0, 0]</td>\n",
       "    </tr>\n",
       "  </tbody>\n",
       "</table>\n",
       "</div>"
      ],
      "text/plain": [
       "   bot_x  bot_y  alien_up  alien_down  alien_left  alien_right  alien_stay  \\\n",
       "0     10      9       0.0         0.0         0.0          0.0         0.0   \n",
       "1     11      9       0.0         0.0         0.0          0.0         0.0   \n",
       "2     12      9       0.0         0.0         0.0          0.0         0.0   \n",
       "3     12     10       0.0         0.0         0.0          0.0         0.0   \n",
       "4     12     11       0.0         0.0         0.0          0.0         0.0   \n",
       "\n",
       "    crew_up  crew_down  crew_left  crew_right  crew_stay  alien_detected  \\\n",
       "0  0.000000   0.001634        0.0    0.001634        0.0               0   \n",
       "1  0.000000   0.000000        0.0    0.001758        0.0               0   \n",
       "2  0.001879   0.001879        0.0    0.000000        0.0               0   \n",
       "3  0.000000   0.001998        0.0    0.000000        0.0               0   \n",
       "4  0.000000   0.002111        0.0    0.002111        0.0               0   \n",
       "\n",
       "   crew_detected    chosen_action  \n",
       "0              0  [0, 0, 0, 1, 0]  \n",
       "1              1  [0, 0, 0, 1, 0]  \n",
       "2              1  [1, 0, 0, 0, 0]  \n",
       "3              1  [1, 0, 0, 0, 0]  \n",
       "4              1  [1, 0, 0, 0, 0]  "
      ]
     },
     "execution_count": 28,
     "metadata": {},
     "output_type": "execute_result"
    }
   ],
   "source": [
    "data.head()"
   ]
  },
  {
   "cell_type": "code",
   "execution_count": 29,
   "id": "cfff62fc",
   "metadata": {},
   "outputs": [
    {
     "data": {
      "text/plain": [
       "(957870, 15)"
      ]
     },
     "execution_count": 29,
     "metadata": {},
     "output_type": "execute_result"
    }
   ],
   "source": [
    "data.shape"
   ]
  },
  {
   "cell_type": "code",
   "execution_count": 30,
   "id": "c468c196",
   "metadata": {},
   "outputs": [],
   "source": [
    "# data['alien_prob'] = data[['alien_up', 'alien_down', 'alien_left', 'alien_right', 'alien_stay']].values.tolist()\n",
    "# data['crew_prob'] = data[['crew_up', 'crew_down', 'crew_left', 'crew_right', 'crew_stay']].values.tolist()"
   ]
  },
  {
   "cell_type": "code",
   "execution_count": 31,
   "id": "0f80c609",
   "metadata": {},
   "outputs": [],
   "source": [
    "# data = data.drop(columns=['alien_up', 'alien_down', 'alien_left', 'alien_right', 'alien_stay', 'crew_up', 'crew_down', 'crew_left', 'crew_right', 'crew_stay'], axis=1)"
   ]
  },
  {
   "cell_type": "code",
   "execution_count": 32,
   "id": "ea0ebaf1",
   "metadata": {},
   "outputs": [],
   "source": [
    "# output = data.pop('chosen_action')\n",
    "# data.insert(len(data.columns), output.name, output)"
   ]
  },
  {
   "cell_type": "code",
   "execution_count": 33,
   "id": "97e85228",
   "metadata": {},
   "outputs": [],
   "source": [
    "# data.head()"
   ]
  },
  {
   "cell_type": "code",
   "execution_count": 34,
   "id": "c5a020ca",
   "metadata": {},
   "outputs": [
    {
     "data": {
      "text/plain": [
       "(234714, 15)"
      ]
     },
     "execution_count": 34,
     "metadata": {},
     "output_type": "execute_result"
    }
   ],
   "source": [
    "model1_df = data.drop_duplicates()\n",
    "model1_df.shape"
   ]
  },
  {
   "cell_type": "code",
   "execution_count": 35,
   "id": "0439e803",
   "metadata": {},
   "outputs": [],
   "source": [
    "# for col in model1_df.columns:\n",
    "#     if model1_df[col].apply(lambda x: isinstance(x, tuple)).any():\n",
    "#         model1_df[col] = model1_df[col].apply(list)"
   ]
  },
  {
   "cell_type": "code",
   "execution_count": 36,
   "id": "f2247946",
   "metadata": {},
   "outputs": [
    {
     "data": {
      "text/html": [
       "<div>\n",
       "<style scoped>\n",
       "    .dataframe tbody tr th:only-of-type {\n",
       "        vertical-align: middle;\n",
       "    }\n",
       "\n",
       "    .dataframe tbody tr th {\n",
       "        vertical-align: top;\n",
       "    }\n",
       "\n",
       "    .dataframe thead th {\n",
       "        text-align: right;\n",
       "    }\n",
       "</style>\n",
       "<table border=\"1\" class=\"dataframe\">\n",
       "  <thead>\n",
       "    <tr style=\"text-align: right;\">\n",
       "      <th></th>\n",
       "      <th>bot_x</th>\n",
       "      <th>bot_y</th>\n",
       "      <th>alien_up</th>\n",
       "      <th>alien_down</th>\n",
       "      <th>alien_left</th>\n",
       "      <th>alien_right</th>\n",
       "      <th>alien_stay</th>\n",
       "      <th>crew_up</th>\n",
       "      <th>crew_down</th>\n",
       "      <th>crew_left</th>\n",
       "      <th>crew_right</th>\n",
       "      <th>crew_stay</th>\n",
       "      <th>alien_detected</th>\n",
       "      <th>crew_detected</th>\n",
       "      <th>chosen_action</th>\n",
       "    </tr>\n",
       "  </thead>\n",
       "  <tbody>\n",
       "    <tr>\n",
       "      <th>0</th>\n",
       "      <td>10</td>\n",
       "      <td>9</td>\n",
       "      <td>0.0</td>\n",
       "      <td>0.0</td>\n",
       "      <td>0.0</td>\n",
       "      <td>0.0</td>\n",
       "      <td>0.0</td>\n",
       "      <td>0.000000</td>\n",
       "      <td>0.001634</td>\n",
       "      <td>0.0</td>\n",
       "      <td>0.001634</td>\n",
       "      <td>0.0</td>\n",
       "      <td>0</td>\n",
       "      <td>0</td>\n",
       "      <td>[0, 0, 0, 1, 0]</td>\n",
       "    </tr>\n",
       "    <tr>\n",
       "      <th>1</th>\n",
       "      <td>11</td>\n",
       "      <td>9</td>\n",
       "      <td>0.0</td>\n",
       "      <td>0.0</td>\n",
       "      <td>0.0</td>\n",
       "      <td>0.0</td>\n",
       "      <td>0.0</td>\n",
       "      <td>0.000000</td>\n",
       "      <td>0.000000</td>\n",
       "      <td>0.0</td>\n",
       "      <td>0.001758</td>\n",
       "      <td>0.0</td>\n",
       "      <td>0</td>\n",
       "      <td>1</td>\n",
       "      <td>[0, 0, 0, 1, 0]</td>\n",
       "    </tr>\n",
       "    <tr>\n",
       "      <th>2</th>\n",
       "      <td>12</td>\n",
       "      <td>9</td>\n",
       "      <td>0.0</td>\n",
       "      <td>0.0</td>\n",
       "      <td>0.0</td>\n",
       "      <td>0.0</td>\n",
       "      <td>0.0</td>\n",
       "      <td>0.001879</td>\n",
       "      <td>0.001879</td>\n",
       "      <td>0.0</td>\n",
       "      <td>0.000000</td>\n",
       "      <td>0.0</td>\n",
       "      <td>0</td>\n",
       "      <td>1</td>\n",
       "      <td>[1, 0, 0, 0, 0]</td>\n",
       "    </tr>\n",
       "    <tr>\n",
       "      <th>3</th>\n",
       "      <td>12</td>\n",
       "      <td>10</td>\n",
       "      <td>0.0</td>\n",
       "      <td>0.0</td>\n",
       "      <td>0.0</td>\n",
       "      <td>0.0</td>\n",
       "      <td>0.0</td>\n",
       "      <td>0.000000</td>\n",
       "      <td>0.001998</td>\n",
       "      <td>0.0</td>\n",
       "      <td>0.000000</td>\n",
       "      <td>0.0</td>\n",
       "      <td>0</td>\n",
       "      <td>1</td>\n",
       "      <td>[1, 0, 0, 0, 0]</td>\n",
       "    </tr>\n",
       "    <tr>\n",
       "      <th>4</th>\n",
       "      <td>12</td>\n",
       "      <td>11</td>\n",
       "      <td>0.0</td>\n",
       "      <td>0.0</td>\n",
       "      <td>0.0</td>\n",
       "      <td>0.0</td>\n",
       "      <td>0.0</td>\n",
       "      <td>0.000000</td>\n",
       "      <td>0.002111</td>\n",
       "      <td>0.0</td>\n",
       "      <td>0.002111</td>\n",
       "      <td>0.0</td>\n",
       "      <td>0</td>\n",
       "      <td>1</td>\n",
       "      <td>[1, 0, 0, 0, 0]</td>\n",
       "    </tr>\n",
       "  </tbody>\n",
       "</table>\n",
       "</div>"
      ],
      "text/plain": [
       "   bot_x  bot_y  alien_up  alien_down  alien_left  alien_right  alien_stay  \\\n",
       "0     10      9       0.0         0.0         0.0          0.0         0.0   \n",
       "1     11      9       0.0         0.0         0.0          0.0         0.0   \n",
       "2     12      9       0.0         0.0         0.0          0.0         0.0   \n",
       "3     12     10       0.0         0.0         0.0          0.0         0.0   \n",
       "4     12     11       0.0         0.0         0.0          0.0         0.0   \n",
       "\n",
       "    crew_up  crew_down  crew_left  crew_right  crew_stay  alien_detected  \\\n",
       "0  0.000000   0.001634        0.0    0.001634        0.0               0   \n",
       "1  0.000000   0.000000        0.0    0.001758        0.0               0   \n",
       "2  0.001879   0.001879        0.0    0.000000        0.0               0   \n",
       "3  0.000000   0.001998        0.0    0.000000        0.0               0   \n",
       "4  0.000000   0.002111        0.0    0.002111        0.0               0   \n",
       "\n",
       "   crew_detected    chosen_action  \n",
       "0              0  [0, 0, 0, 1, 0]  \n",
       "1              1  [0, 0, 0, 1, 0]  \n",
       "2              1  [1, 0, 0, 0, 0]  \n",
       "3              1  [1, 0, 0, 0, 0]  \n",
       "4              1  [1, 0, 0, 0, 0]  "
      ]
     },
     "execution_count": 36,
     "metadata": {},
     "output_type": "execute_result"
    }
   ],
   "source": [
    "model1_df.head()"
   ]
  },
  {
   "cell_type": "code",
   "execution_count": 37,
   "id": "990e4181",
   "metadata": {},
   "outputs": [],
   "source": [
    "model1_df.to_csv('Data/Model1/model1_data.csv', index=False)"
   ]
  },
  {
   "cell_type": "code",
   "execution_count": 38,
   "id": "97866f08",
   "metadata": {},
   "outputs": [],
   "source": [
    "train_size = int(0.8 * len(model1_df))\n",
    "\n",
    "train_df = model1_df[:train_size]\n",
    "test_df = model1_df[train_size:]"
   ]
  },
  {
   "cell_type": "code",
   "execution_count": 39,
   "id": "24978a6a",
   "metadata": {},
   "outputs": [
    {
     "data": {
      "text/plain": [
       "(187771, 15)"
      ]
     },
     "execution_count": 39,
     "metadata": {},
     "output_type": "execute_result"
    }
   ],
   "source": [
    "train_df.shape"
   ]
  },
  {
   "cell_type": "code",
   "execution_count": 40,
   "id": "6246fea5",
   "metadata": {},
   "outputs": [
    {
     "data": {
      "text/plain": [
       "(46943, 15)"
      ]
     },
     "execution_count": 40,
     "metadata": {},
     "output_type": "execute_result"
    }
   ],
   "source": [
    "test_df.shape"
   ]
  },
  {
   "cell_type": "code",
   "execution_count": 41,
   "id": "38998271",
   "metadata": {},
   "outputs": [],
   "source": [
    "train_df.to_csv('Data/Model1/model1_train.csv', index=False)\n",
    "test_df.to_csv('Data/Model1/model1_test.csv', index=False)"
   ]
  },
  {
   "cell_type": "code",
   "execution_count": 42,
   "id": "b3b91bce",
   "metadata": {},
   "outputs": [],
   "source": [
    "X_train = train_df.iloc[:,:-1]\n",
    "y_train = train_df.iloc[:,-1:]\n",
    "\n",
    "X_test = test_df.iloc[:,:-1]\n",
    "y_test = test_df.iloc[:,-1:]"
   ]
  },
  {
   "cell_type": "code",
   "execution_count": 43,
   "id": "85f81f56",
   "metadata": {},
   "outputs": [],
   "source": [
    "valid_train = create_valid_matrix(X_train)\n",
    "valid_test = create_valid_matrix(X_test)"
   ]
  },
  {
   "cell_type": "code",
   "execution_count": 44,
   "id": "e0a3c83c",
   "metadata": {},
   "outputs": [
    {
     "data": {
      "text/plain": [
       "(187771, 5)"
      ]
     },
     "execution_count": 44,
     "metadata": {},
     "output_type": "execute_result"
    }
   ],
   "source": [
    "valid_train.shape"
   ]
  },
  {
   "cell_type": "code",
   "execution_count": 45,
   "id": "57193da1",
   "metadata": {},
   "outputs": [
    {
     "data": {
      "text/plain": [
       "(46943, 5)"
      ]
     },
     "execution_count": 45,
     "metadata": {},
     "output_type": "execute_result"
    }
   ],
   "source": [
    "valid_test.shape"
   ]
  },
  {
   "cell_type": "code",
   "execution_count": 46,
   "id": "ec2ec0c4",
   "metadata": {},
   "outputs": [],
   "source": [
    "valid_train_df = pd.DataFrame(valid_train)\n",
    "valid_test_df = pd.DataFrame(valid_test)"
   ]
  },
  {
   "cell_type": "code",
   "execution_count": 47,
   "id": "44e7e501",
   "metadata": {},
   "outputs": [],
   "source": [
    "valid_train_df.to_csv('Data/Model1/valid_train.csv', index=False)\n",
    "valid_test_df.to_csv('Data/Model1/valid_test.csv', index=False)"
   ]
  },
  {
   "cell_type": "code",
   "execution_count": 48,
   "id": "adddee1e",
   "metadata": {},
   "outputs": [],
   "source": [
    "# valid_train_df = pd.read_csv('Data/Model1/valid_train.csv')\n",
    "# valid_test_df = pd.read_csv('Data/Model1/valid_test.csv')"
   ]
  },
  {
   "cell_type": "markdown",
   "id": "179316b0",
   "metadata": {},
   "source": [
    "## Model Training"
   ]
  },
  {
   "cell_type": "code",
   "execution_count": 49,
   "id": "c0963633",
   "metadata": {},
   "outputs": [],
   "source": [
    "alpha = 0.02\n",
    "epochs = 100\n",
    "initial_batch_size = 32\n",
    "loss_threshold = 0.0001"
   ]
  },
  {
   "cell_type": "code",
   "execution_count": 50,
   "id": "62e14ed9",
   "metadata": {},
   "outputs": [],
   "source": [
    "# X_train_small = X_train[:1000]\n",
    "# y_train_small = y_train[:1000]\n",
    "# valid_train_small = valid_train[:1000]\n",
    "\n",
    "# X_train_small.shape\n",
    "# y_train_small.shape\n",
    "\n",
    "# W, b, loss_list = train(X_train_small, y_train_small, valid_train_small, alpha, epochs, initial_batch_size, loss_threshold)"
   ]
  },
  {
   "cell_type": "code",
   "execution_count": 51,
   "id": "78a52251",
   "metadata": {},
   "outputs": [
    {
     "name": "stdout",
     "output_type": "stream",
     "text": [
      "Epoch 0, Loss: 12.679711691349391\n",
      "Epoch 1, Loss: 12.689912222571474\n",
      "Epoch 2, Loss: 12.683838190711386\n",
      "Epoch 3, Loss: 12.681328395372857\n",
      "Epoch 4, Loss: 12.680391025439066\n",
      "Epoch 5, Loss: 12.680143174603838\n",
      "Epoch 6, Loss: 12.680385361743923\n",
      "Epoch 7, Loss: 12.680896864827613\n",
      "Epoch 8, Loss: 12.681561446401073\n",
      "Epoch 9, Loss: 12.682162869723566\n",
      "Epoch 10, Loss: 12.682787848866596\n",
      "Epoch 11, Loss: 12.683751646784197\n",
      "Epoch 12, Loss: 12.684831704512565\n",
      "Epoch 13, Loss: 12.685796258166464\n",
      "Epoch 14, Loss: 12.686646595849174\n",
      "Epoch 15, Loss: 12.687402086855053\n",
      "Epoch 16, Loss: 12.688051892721267\n",
      "Epoch 17, Loss: 12.688736242024037\n",
      "Epoch 18, Loss: 12.689378676860306\n",
      "Epoch 19, Loss: 12.689903269192877\n",
      "Epoch 20, Loss: 12.690379206733088\n",
      "Epoch 21, Loss: 12.690822976349592\n",
      "Epoch 22, Loss: 12.691242388775978\n",
      "Epoch 23, Loss: 12.691642734216751\n",
      "Epoch 24, Loss: 12.692028840876192\n",
      "Epoch 25, Loss: 12.69240558176076\n",
      "Epoch 26, Loss: 12.69277611975111\n",
      "Epoch 27, Loss: 12.693140367292536\n",
      "Epoch 28, Loss: 12.693495975826982\n",
      "Epoch 29, Loss: 12.693839643495174\n",
      "Epoch 30, Loss: 12.694167931286065\n",
      "Epoch 31, Loss: 12.694477997727265\n",
      "Epoch 32, Loss: 12.69476758597951\n",
      "Epoch 33, Loss: 12.695034561689956\n",
      "Epoch 34, Loss: 12.695276801010738\n",
      "Epoch 35, Loss: 12.695492603234959\n",
      "Epoch 36, Loss: 12.695681339267582\n",
      "Epoch 37, Loss: 12.695843940777667\n",
      "Epoch 38, Loss: 12.695982777879076\n",
      "Epoch 39, Loss: 12.696101101331802\n",
      "Epoch 40, Loss: 12.696202639842372\n"
     ]
    },
    {
     "ename": "KeyboardInterrupt",
     "evalue": "",
     "output_type": "error",
     "traceback": [
      "\u001b[1;31m---------------------------------------------------------------------------\u001b[0m",
      "\u001b[1;31mKeyboardInterrupt\u001b[0m                         Traceback (most recent call last)",
      "\u001b[1;32m~\\AppData\\Local\\Temp\\ipykernel_14196\\4252038850.py\u001b[0m in \u001b[0;36m<module>\u001b[1;34m\u001b[0m\n\u001b[1;32m----> 1\u001b[1;33m \u001b[0mW\u001b[0m\u001b[1;33m,\u001b[0m \u001b[0mb\u001b[0m\u001b[1;33m,\u001b[0m \u001b[0mloss_list\u001b[0m \u001b[1;33m=\u001b[0m \u001b[0mtrain\u001b[0m\u001b[1;33m(\u001b[0m\u001b[0mX_train\u001b[0m\u001b[1;33m,\u001b[0m \u001b[0my_train\u001b[0m\u001b[1;33m,\u001b[0m \u001b[0mvalid_train\u001b[0m\u001b[1;33m,\u001b[0m \u001b[0malpha\u001b[0m\u001b[1;33m,\u001b[0m \u001b[0mepochs\u001b[0m\u001b[1;33m,\u001b[0m \u001b[0minitial_batch_size\u001b[0m\u001b[1;33m,\u001b[0m \u001b[0mloss_threshold\u001b[0m\u001b[1;33m)\u001b[0m\u001b[1;33m\u001b[0m\u001b[1;33m\u001b[0m\u001b[0m\n\u001b[0m",
      "\u001b[1;32m~\\AppData\\Local\\Temp\\ipykernel_14196\\3180862714.py\u001b[0m in \u001b[0;36mtrain\u001b[1;34m(X, y, valid, alpha, epochs, initial_batch_size, loss_threshold)\u001b[0m\n\u001b[0;32m     28\u001b[0m             \u001b[0mcurrent_loss\u001b[0m \u001b[1;33m+=\u001b[0m \u001b[0mbatch_loss\u001b[0m\u001b[1;33m\u001b[0m\u001b[1;33m\u001b[0m\u001b[0m\n\u001b[0;32m     29\u001b[0m \u001b[1;33m\u001b[0m\u001b[0m\n\u001b[1;32m---> 30\u001b[1;33m             \u001b[0mdW\u001b[0m\u001b[1;33m,\u001b[0m \u001b[0mdb\u001b[0m \u001b[1;33m=\u001b[0m \u001b[0mcompute_gradient\u001b[0m\u001b[1;33m(\u001b[0m\u001b[0mX_batch\u001b[0m\u001b[1;33m,\u001b[0m \u001b[0my_batch\u001b[0m\u001b[1;33m,\u001b[0m \u001b[0my_pred\u001b[0m\u001b[1;33m,\u001b[0m \u001b[0mvalid_batch\u001b[0m\u001b[1;33m)\u001b[0m\u001b[1;33m\u001b[0m\u001b[1;33m\u001b[0m\u001b[0m\n\u001b[0m\u001b[0;32m     31\u001b[0m             \u001b[0mW\u001b[0m \u001b[1;33m-=\u001b[0m \u001b[0malpha\u001b[0m \u001b[1;33m*\u001b[0m \u001b[0mdW\u001b[0m\u001b[1;33m\u001b[0m\u001b[1;33m\u001b[0m\u001b[0m\n\u001b[0;32m     32\u001b[0m             \u001b[0mb\u001b[0m \u001b[1;33m-=\u001b[0m \u001b[0malpha\u001b[0m \u001b[1;33m*\u001b[0m \u001b[0mdb\u001b[0m\u001b[1;33m\u001b[0m\u001b[1;33m\u001b[0m\u001b[0m\n",
      "\u001b[1;32m~\\AppData\\Local\\Temp\\ipykernel_14196\\151753708.py\u001b[0m in \u001b[0;36mcompute_gradient\u001b[1;34m(X, y_true, y_pred, valid)\u001b[0m\n\u001b[0;32m      9\u001b[0m     \u001b[0my_true_array\u001b[0m \u001b[1;33m=\u001b[0m \u001b[0mnp\u001b[0m\u001b[1;33m.\u001b[0m\u001b[0marray\u001b[0m\u001b[1;33m(\u001b[0m\u001b[0my_true\u001b[0m\u001b[1;33m[\u001b[0m\u001b[1;34m'chosen_action'\u001b[0m\u001b[1;33m]\u001b[0m\u001b[1;33m.\u001b[0m\u001b[0mapply\u001b[0m\u001b[1;33m(\u001b[0m\u001b[0mast\u001b[0m\u001b[1;33m.\u001b[0m\u001b[0mliteral_eval\u001b[0m\u001b[1;33m)\u001b[0m\u001b[1;33m.\u001b[0m\u001b[0mtolist\u001b[0m\u001b[1;33m(\u001b[0m\u001b[1;33m)\u001b[0m\u001b[1;33m)\u001b[0m\u001b[1;33m\u001b[0m\u001b[1;33m\u001b[0m\u001b[0m\n\u001b[0;32m     10\u001b[0m \u001b[1;33m\u001b[0m\u001b[0m\n\u001b[1;32m---> 11\u001b[1;33m     \u001b[0mdW\u001b[0m \u001b[1;33m=\u001b[0m \u001b[1;33m(\u001b[0m\u001b[1;36m1\u001b[0m \u001b[1;33m/\u001b[0m \u001b[0mn\u001b[0m\u001b[1;33m)\u001b[0m \u001b[1;33m*\u001b[0m \u001b[0mnp\u001b[0m\u001b[1;33m.\u001b[0m\u001b[0mdot\u001b[0m\u001b[1;33m(\u001b[0m\u001b[0mX\u001b[0m\u001b[1;33m.\u001b[0m\u001b[0mT\u001b[0m\u001b[1;33m,\u001b[0m \u001b[1;33m(\u001b[0m\u001b[0mvalid_y_pred\u001b[0m \u001b[1;33m-\u001b[0m \u001b[0my_true_array\u001b[0m\u001b[1;33m)\u001b[0m\u001b[1;33m)\u001b[0m\u001b[1;33m\u001b[0m\u001b[1;33m\u001b[0m\u001b[0m\n\u001b[0m\u001b[0;32m     12\u001b[0m     \u001b[0mdb\u001b[0m \u001b[1;33m=\u001b[0m \u001b[1;33m(\u001b[0m\u001b[1;36m1\u001b[0m \u001b[1;33m/\u001b[0m \u001b[0mn\u001b[0m\u001b[1;33m)\u001b[0m \u001b[1;33m*\u001b[0m \u001b[0mnp\u001b[0m\u001b[1;33m.\u001b[0m\u001b[0msum\u001b[0m\u001b[1;33m(\u001b[0m\u001b[0mvalid_y_pred\u001b[0m \u001b[1;33m-\u001b[0m \u001b[0my_true_array\u001b[0m\u001b[1;33m,\u001b[0m \u001b[0maxis\u001b[0m\u001b[1;33m=\u001b[0m\u001b[1;36m0\u001b[0m\u001b[1;33m,\u001b[0m \u001b[0mkeepdims\u001b[0m\u001b[1;33m=\u001b[0m\u001b[1;32mTrue\u001b[0m\u001b[1;33m)\u001b[0m\u001b[1;33m\u001b[0m\u001b[1;33m\u001b[0m\u001b[0m\n\u001b[0;32m     13\u001b[0m     \u001b[1;32mreturn\u001b[0m \u001b[0mdW\u001b[0m\u001b[1;33m,\u001b[0m \u001b[0mdb\u001b[0m\u001b[1;33m\u001b[0m\u001b[1;33m\u001b[0m\u001b[0m\n",
      "\u001b[1;32m~\\AppData\\Roaming\\Python\\Python39\\site-packages\\numpy\\core\\overrides.py\u001b[0m in \u001b[0;36mdot\u001b[1;34m(*args, **kwargs)\u001b[0m\n",
      "\u001b[1;31mKeyboardInterrupt\u001b[0m: "
     ]
    }
   ],
   "source": [
    "W, b, loss_list = train(X_train, y_train, valid_train, alpha, epochs, initial_batch_size, loss_threshold)"
   ]
  },
  {
   "cell_type": "code",
   "execution_count": null,
   "id": "697fd25e",
   "metadata": {},
   "outputs": [],
   "source": [
    "plot_training_loss(loss_list)"
   ]
  },
  {
   "cell_type": "markdown",
   "id": "6cdea11f",
   "metadata": {},
   "source": [
    "## Model Testing "
   ]
  },
  {
   "cell_type": "code",
   "execution_count": null,
   "id": "d15063b1",
   "metadata": {},
   "outputs": [],
   "source": [
    "train_acc, test_acc = test(W, b, X_train, y_train, valid_train, X_test, y_test, valid_test)"
   ]
  },
  {
   "cell_type": "markdown",
   "id": "0faf4a24",
   "metadata": {},
   "source": [
    "## Obsolete"
   ]
  },
  {
   "cell_type": "code",
   "execution_count": null,
   "id": "73a276e6",
   "metadata": {},
   "outputs": [],
   "source": [
    "# def Bot1(k, alpha, max_iter, timeout):\n",
    "#     global grid, open_cells\n",
    "#     bot, ship, open_cells = place_bot(grid, open_cells)\n",
    "\n",
    "#     crew_list = []\n",
    "#     alien_list = []\n",
    "#     d_lookup_table = {}\n",
    "\n",
    "#     crew_list, ship = place_crew(ship, open_cells, crew_list)\n",
    "#     alien_list, ship = place_alien(ship, open_cells, alien_list, bot, k)\n",
    "\n",
    "#     alien_matrix = initialize_alienmatrix(open_cells, bot, k)\n",
    "#     crew_matrix = initialize_crewmatrix(open_cells, crew_list, bot)\n",
    "\n",
    "#     win_count = 0\n",
    "#     loss_count = 0\n",
    "#     move = 0\n",
    "#     win_move_count = []\n",
    "#     marker = 0\n",
    "\n",
    "#     while (win_count + loss_count) < max_iter:\n",
    "#         neighbors = check_valid_neighbors(len(ship), bot[0], bot[1])\n",
    "#         open_moves = [neigh for neigh in neighbors if (grid[neigh] != 1)]\n",
    "#         open_moves.append(bot) # Bot can stay in place \n",
    "#         next_move = determine_move(open_moves, alien_matrix, crew_matrix)\n",
    "        \n",
    "#         prev_win_count = win_count\n",
    "#         bot, crew_list, ship, open_cells, win_count, marker = move_bot(ship, bot, next_move, crew_list, alien_list, open_cells, win_count, 1)\n",
    "#         move += 1\n",
    "\n",
    "#         if marker == 1 or move >= timeout:\n",
    "#             loss_count += 1\n",
    "#             print(f\"Bot captured! Win Count: {win_count}, Loss Count: {loss_count}\")\n",
    "\n",
    "#             grid, open_cells = reset_grid(grid, open_cells)\n",
    "#             bot, ship, open_cells = place_bot(grid, open_cells)\n",
    "#             crew_list = []\n",
    "#             alien_list = []\n",
    "#             d_lookup_table = {}\n",
    "\n",
    "#             crew_list, ship = place_crew(ship, open_cells, crew_list)\n",
    "#             alien_list, ship = place_alien(ship, open_cells, alien_list, bot, k)\n",
    "\n",
    "#             alien_matrix = initialize_alienmatrix(open_cells, bot, k)\n",
    "#             crew_matrix = initialize_crewmatrix(open_cells, crew_list, bot)\n",
    "#             marker = 0\n",
    "#             move = 0\n",
    "\n",
    "#             continue\n",
    "\n",
    "#         if win_count > prev_win_count:\n",
    "#             print(f\"Crew saved! Win Count: {win_count}, Loss Count: {loss_count}\")\n",
    "#             win_move_count.append(move)\n",
    "#             move = 0\n",
    "#             d_lookup_table = {}\n",
    "#             alien_matrix = initialize_alienmatrix(open_cells, bot, k)\n",
    "#             crew_matrix = initialize_crewmatrix(open_cells, crew_list, bot)\n",
    "        \n",
    "#         print(f\"Bot: {bot}, Crew: {crew_list}, Aliens: {alien_list}\")\n",
    "\n",
    "#         alien_matrix, crew_matrix = update_afterbotmove(bot, alien_matrix, crew_matrix)\n",
    "\n",
    "#         # Move bot to optimal neighbor\n",
    "#         marker, alien_list, ship = move_aliens(ship, alien_list, bot) # Move alien randomly\n",
    "\n",
    "#         if marker == 1 or move >= timeout:\n",
    "#             loss_count += 1\n",
    "#             print(f\"Bot captured! Win Count: {win_count}, Loss Count: {loss_count}\")\n",
    "\n",
    "#             grid, open_cells = reset_grid(grid, open_cells)\n",
    "#             bot, ship, open_cells = place_bot(grid, open_cells)\n",
    "#             crew_list = []\n",
    "#             alien_list = []\n",
    "#             d_lookup_table = {}\n",
    "\n",
    "#             crew_list, ship = place_crew(ship, open_cells, crew_list)\n",
    "#             alien_list, ship = place_alien(ship, open_cells, alien_list, bot, k)\n",
    "\n",
    "#             alien_matrix = initialize_alienmatrix(open_cells, bot, k)\n",
    "#             crew_matrix = initialize_crewmatrix(open_cells, crew_list, bot)\n",
    "#             marker = 0\n",
    "#             move = 0\n",
    "\n",
    "#             continue\n",
    "        \n",
    "#         alien_matrix = update_afteralienmove(ship, alien_list, alien_matrix) # Update after alien move\n",
    "        \n",
    "#         alien_detected = alien_sensor(alien_list, bot, k) # Run Alien Sensor\n",
    "#         crew_detected, d_lookup_table = crew_sensor(ship, bot, alpha, d_lookup_table, crew_list) # Run Crew Sensor\n",
    "        \n",
    "#         alien_matrix = update_alienmatrix(alien_matrix, alien_detected, bot, k) # Update based on alien sensor\n",
    "\n",
    "#         crew_matrix = update_crewmatrix(crew_matrix, crew_detected, d_lookup_table, bot, alpha) # Update based on crew sensor\n",
    "\n",
    "#     return sum(win_move_count) // max(1, len(win_move_count)), (win_count / max(1, (win_count + loss_count))), win_count"
   ]
  },
  {
   "cell_type": "code",
   "execution_count": null,
   "id": "1b7f2f66",
   "metadata": {},
   "outputs": [],
   "source": [
    "# def plot_Bot1(alpha_values, k_values, bot1_data, title, metric_num):\n",
    "#     # Generate a plot for each k-value\n",
    "#     for k in k_values:\n",
    "#         plt.figure(figsize=(10, 6))\n",
    "#         plt.plot(alpha_values, bot1_data[k], label=f'Bot 1, k={k}')\n",
    "#         plt.title(f'{title} (k={k})')\n",
    "#         plt.xlabel('alpha')\n",
    "#         plt.ylabel(title)\n",
    "\n",
    "#         # Set x-axis ticks\n",
    "#         plt.xticks(alpha_values, labels=[str(alpha) for alpha in alpha_values])\n",
    "\n",
    "#         plt.legend()\n",
    "#         plt.grid(True)\n",
    "        \n",
    "#         plt.show()"
   ]
  },
  {
   "cell_type": "code",
   "execution_count": null,
   "id": "79f3bc44",
   "metadata": {},
   "outputs": [],
   "source": [
    "# def one_alien_one_crew(alpha_values, k_values, max_iter, timeout, num_simulations):\n",
    "#     bot1_avg_rescue_moves, bot1_prob_crew_rescue, bot1_avg_crew_saved = Bot1_simulation(alpha_values, k_values, max_iter, timeout, num_simulations)\n",
    "\n",
    "#     bot1_prob_crew_rescue = {k: [round(prob, 3) for prob in probs] for k, probs in bot1_prob_crew_rescue.items()}\n",
    "\n",
    "#     print(bot1_avg_rescue_moves, bot1_prob_crew_rescue, bot1_avg_crew_saved, \"\\n\")\n",
    "\n",
    "#     plot_Bot1(alpha_values, k_values, bot1_avg_rescue_moves, 'Average Rescue Moves', 1)\n",
    "#     plot_Bot1(alpha_values, k_values, bot1_prob_crew_rescue, 'Probability of Crew Rescue', 2)\n",
    "#     plot_Bot1(alpha_values, k_values, bot1_avg_crew_saved, 'Average Crew Saved', 3)"
   ]
  }
 ],
 "metadata": {
  "kernelspec": {
   "display_name": "Python 3 (ipykernel)",
   "language": "python",
   "name": "python3"
  },
  "language_info": {
   "codemirror_mode": {
    "name": "ipython",
    "version": 3
   },
   "file_extension": ".py",
   "mimetype": "text/x-python",
   "name": "python",
   "nbconvert_exporter": "python",
   "pygments_lexer": "ipython3",
   "version": "3.9.13"
  }
 },
 "nbformat": 4,
 "nbformat_minor": 5
}
