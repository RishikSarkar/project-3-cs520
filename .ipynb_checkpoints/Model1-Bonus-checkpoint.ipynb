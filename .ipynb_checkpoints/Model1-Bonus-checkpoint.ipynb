{
 "cells": [
  {
   "cell_type": "markdown",
   "id": "b9ef4437",
   "metadata": {},
   "source": [
    "# Model 1 Bonus: Modeling Selected Actions (Using scikit-learn)"
   ]
  },
  {
   "cell_type": "markdown",
   "id": "a948f47d",
   "metadata": {},
   "source": [
    "The purpose of this model is to predict the action that the bot will select for a given state of the simulation."
   ]
  },
  {
   "cell_type": "markdown",
   "id": "968dc924",
   "metadata": {},
   "source": [
    "## Preliminary Setup"
   ]
  },
  {
   "cell_type": "markdown",
   "id": "956b6c02",
   "metadata": {},
   "source": [
    "### Imports"
   ]
  },
  {
   "cell_type": "code",
   "execution_count": 1,
   "id": "19864ca6",
   "metadata": {},
   "outputs": [],
   "source": [
    "import os\n",
    "import numpy as np\n",
    "import random\n",
    "import math\n",
    "import json\n",
    "import pandas as pd\n",
    "import ast\n",
    "import datetime\n",
    "import pickle"
   ]
  },
  {
   "cell_type": "code",
   "execution_count": 2,
   "id": "c24f8985",
   "metadata": {},
   "outputs": [],
   "source": [
    "# %pip install scikit-learn"
   ]
  },
  {
   "cell_type": "code",
   "execution_count": 3,
   "id": "490bd53b",
   "metadata": {},
   "outputs": [],
   "source": [
    "import nbimporter"
   ]
  },
  {
   "cell_type": "markdown",
   "id": "2b1f15c9",
   "metadata": {},
   "source": [
    "### Additional Bot Config"
   ]
  },
  {
   "cell_type": "code",
   "execution_count": 4,
   "id": "9517466d",
   "metadata": {},
   "outputs": [],
   "source": [
    "import Bot1"
   ]
  },
  {
   "cell_type": "code",
   "execution_count": 5,
   "id": "cc40f06f",
   "metadata": {},
   "outputs": [],
   "source": [
    "file_name = 'Data/Model1_Bonus/model1_data_raw.csv'"
   ]
  },
  {
   "cell_type": "code",
   "execution_count": 6,
   "id": "40117790",
   "metadata": {},
   "outputs": [],
   "source": [
    "%run Bot1.ipynb"
   ]
  },
  {
   "cell_type": "code",
   "execution_count": 7,
   "id": "4b5f4c11",
   "metadata": {},
   "outputs": [],
   "source": [
    "grid, open_cells = create_grid() # Fixed grid orientation"
   ]
  },
  {
   "cell_type": "code",
   "execution_count": 8,
   "id": "95408f3f",
   "metadata": {},
   "outputs": [],
   "source": [
    "def determine_probabilities(bot, matrix):\n",
    "    directions = {'up': (bot[0], bot[1] - 1), \n",
    "                  'down': (bot[0], bot[1] + 1), \n",
    "                  'left': (bot[0] - 1, bot[1]), \n",
    "                  'right': (bot[0] + 1, bot[1]),\n",
    "                  'stay': bot}\n",
    "    return [matrix.get(directions[direction], 0) for direction in ['up', 'down', 'left', 'right', 'stay']]"
   ]
  },
  {
   "cell_type": "code",
   "execution_count": 9,
   "id": "946fbf3f",
   "metadata": {},
   "outputs": [],
   "source": [
    "def determine_d_crew(ship, bot, alpha, d_lookup_table, crew_list, crew_matrix, open_cells):\n",
    "    directions = {'up': (bot[0], bot[1] - 1), \n",
    "                  'down': (bot[0], bot[1] + 1), \n",
    "                  'left': (bot[0] - 1, bot[1]), \n",
    "                  'right': (bot[0] + 1, bot[1]),\n",
    "                  'stay': bot}\n",
    "    \n",
    "    direction_values = set(directions.values())\n",
    "    \n",
    "    filtered_crew_matrix = {k: v for k, v in crew_matrix.items() if k not in direction_values}\n",
    "    \n",
    "    if filtered_crew_matrix:\n",
    "        max_crew_cell = max(filtered_crew_matrix, key=filtered_crew_matrix.get)\n",
    "    else:\n",
    "        return [0] * 5, d_lookup_table\n",
    "        \n",
    "    d_list = []\n",
    "    \n",
    "    for direction in ['up', 'down', 'left', 'right', 'stay']:\n",
    "        if (directions[direction] in open_cells or directions[direction] == bot) and directions[direction] not in crew_list:\n",
    "            _, d_lookup_table = crew_sensor(ship, directions[direction], alpha, d_lookup_table, crew_list)\n",
    "            d_dict = d_lookup_table.get(directions[direction])\n",
    "            d_list.append(1 / d_dict[max_crew_cell[0], max_crew_cell[1]])\n",
    "        else:\n",
    "            d_list.append(0)\n",
    "    \n",
    "    return d_list, d_lookup_table"
   ]
  },
  {
   "cell_type": "code",
   "execution_count": 10,
   "id": "05d6ad37",
   "metadata": {},
   "outputs": [],
   "source": [
    "def determine_d_alien(ship, bot, alpha, d_lookup_table, alien_list, crew_list, alien_matrix, open_cells):\n",
    "    directions = {'up': (bot[0], bot[1] - 1), \n",
    "                  'down': (bot[0], bot[1] + 1), \n",
    "                  'left': (bot[0] - 1, bot[1]), \n",
    "                  'right': (bot[0] + 1, bot[1]),\n",
    "                  'stay': bot}\n",
    "    \n",
    "    direction_values = set(directions.values())\n",
    "    \n",
    "    filtered_alien_matrix = {k: v for k, v in alien_matrix.items() if k not in direction_values}\n",
    "    \n",
    "    if filtered_alien_matrix:\n",
    "        max_alien_cell = max(filtered_alien_matrix, key=filtered_alien_matrix.get)\n",
    "    else:\n",
    "        return [0] * 5, d_lookup_table\n",
    "        \n",
    "    d_list = []\n",
    "    \n",
    "    for direction in ['up', 'down', 'left', 'right', 'stay']:\n",
    "        if (directions[direction] in open_cells or directions[direction] == bot) and directions[direction] not in crew_list and directions[direction] not in alien_list:\n",
    "            _, d_lookup_table = crew_sensor(ship, directions[direction], alpha, d_lookup_table, crew_list)\n",
    "            d_dict = d_lookup_table.get(directions[direction])\n",
    "            d_list.append(1 / d_dict[max_alien_cell[0], max_alien_cell[1]])\n",
    "        else:\n",
    "            d_list.append(0)\n",
    "    \n",
    "    return d_list, d_lookup_table"
   ]
  },
  {
   "cell_type": "code",
   "execution_count": 11,
   "id": "7a364980",
   "metadata": {},
   "outputs": [],
   "source": [
    "def Bot1_collect_data(k, alpha, max_iter, timeout):\n",
    "    global grid, open_cells\n",
    "    \n",
    "    grid, open_cells = reset_grid(grid, open_cells)\n",
    "    bot, ship, open_cells = place_bot(grid, open_cells)\n",
    "\n",
    "    crew_list = []\n",
    "    alien_list = []\n",
    "    d_lookup_table = {}\n",
    "    \n",
    "    data_log = [] # Data Log Initialization\n",
    "\n",
    "    crew_list, ship = place_crew(ship, open_cells, crew_list)\n",
    "    alien_list, ship = place_alien(ship, open_cells, alien_list, bot, k)\n",
    "\n",
    "    alien_matrix = initialize_alienmatrix(open_cells, bot, k)\n",
    "    crew_matrix = initialize_crewmatrix(open_cells, crew_list, bot)\n",
    "    \n",
    "    alien_detected = alien_sensor(alien_list, bot, k) # Initially Run Alien Sensor\n",
    "    crew_detected, d_lookup_table = crew_sensor(ship, bot, alpha, d_lookup_table, crew_list) # Initially Run Crew Sensor\n",
    "    \n",
    "    next_move_str = 'stay'\n",
    "\n",
    "    win_count = 0\n",
    "    loss_count = 0\n",
    "    move = 0\n",
    "    win_move_count = []\n",
    "    marker = 0\n",
    "\n",
    "    while (win_count + loss_count) < max_iter:\n",
    "        neighbors = check_valid_neighbors(len(ship), bot[0], bot[1])\n",
    "        open_moves = [neigh for neigh in neighbors if (grid[neigh] != 1)]\n",
    "        open_moves.append(bot) # Bot can stay in place \n",
    "        next_move = determine_move(open_moves, alien_matrix, crew_matrix)\n",
    "\n",
    "        alien_probs = determine_probabilities(bot, alien_matrix)\n",
    "        crew_probs = determine_probabilities(bot, crew_matrix)\n",
    "        d_crew, d_lookup_table = determine_d_crew(ship, bot, alpha, d_lookup_table, crew_list, crew_matrix, open_cells) # Find shortest distance from highest probability crew cell to all neighbors\n",
    "        d_alien, d_lookup_table = determine_d_alien(ship, bot, alpha, d_lookup_table, alien_list, crew_list, alien_matrix, open_cells) # Find shortest distance from highest probability alien cell to all neighbors\n",
    "        \n",
    "        # Convert relative move to string      \n",
    "        if next_move[0] > bot[0]:\n",
    "            next_move_str = 'right'\n",
    "        elif next_move[0] < bot[0]:\n",
    "            next_move_str = 'left'\n",
    "        elif next_move[1] > bot[1]:\n",
    "            next_move_str = 'up'\n",
    "        elif next_move[1] < bot[1]:\n",
    "            next_move_str = 'down'\n",
    "        else:\n",
    "            next_move_str = 'stay'\n",
    "        \n",
    "        # One-Hot Encoding\n",
    "        actions = {'up': [1, 0, 0, 0, 0], 'down': [0, 1, 0, 0, 0], 'left': [0, 0, 1, 0, 0], 'right': [0, 0, 0, 1, 0], 'stay': [0, 0, 0, 0, 1]}\n",
    "        best_move_encoded = actions[next_move_str]\n",
    "        \n",
    "        log_entry = {\n",
    "            'bot_x': bot[0],\n",
    "            'bot_y': bot[1],\n",
    "            \n",
    "            'alien_up': alien_probs[0],\n",
    "            'alien_down': alien_probs[1],\n",
    "            'alien_left': alien_probs[2],\n",
    "            'alien_right': alien_probs[3],\n",
    "            'alien_stay': alien_probs[4],\n",
    "            \n",
    "            'crew_up': crew_probs[0],\n",
    "            'crew_down': crew_probs[1],\n",
    "            'crew_left': crew_probs[2],\n",
    "            'crew_right': crew_probs[3],\n",
    "            \n",
    "            'd_crew_up': np.float32(d_crew[0]),\n",
    "            'd_crew_down': np.float32(d_crew[1]),\n",
    "            'd_crew_left': np.float32(d_crew[2]),\n",
    "            'd_crew_right': np.float32(d_crew[3]),\n",
    "            'd_crew_stay': np.float32(d_crew[4]),\n",
    "            \n",
    "            'd_alien_up': np.float32(d_alien[0]),\n",
    "            'd_alien_down': np.float32(d_alien[1]),\n",
    "            'd_alien_left': np.float32(d_alien[2]),\n",
    "            'd_alien_right': np.float32(d_alien[3]),\n",
    "            'd_alien_stay': np.float32(d_alien[4]),\n",
    "            \n",
    "            'alien_detected': 1 if alien_detected else 0,\n",
    "            'crew_detected': 1 if crew_detected else 0,\n",
    "            \n",
    "            'chosen_action': best_move_encoded\n",
    "        }\n",
    "        data_log.append(log_entry)\n",
    "        \n",
    "        prev_win_count = win_count\n",
    "        bot, crew_list, ship, open_cells, win_count, marker = move_bot(ship, bot, next_move, crew_list, alien_list, open_cells, win_count, 1)\n",
    "        move += 1\n",
    "\n",
    "        if marker == 1 or move >= timeout:\n",
    "            loss_count += 1\n",
    "            print(f\"Bot captured! Win Count: {win_count}, Loss Count: {loss_count}\")\n",
    "\n",
    "            grid, open_cells = reset_grid(grid, open_cells)\n",
    "            bot, ship, open_cells = place_bot(grid, open_cells)\n",
    "            crew_list = []\n",
    "            alien_list = []\n",
    "            d_lookup_table = {}\n",
    "\n",
    "            crew_list, ship = place_crew(ship, open_cells, crew_list)\n",
    "            alien_list, ship = place_alien(ship, open_cells, alien_list, bot, k)\n",
    "\n",
    "            alien_matrix = initialize_alienmatrix(open_cells, bot, k)\n",
    "            crew_matrix = initialize_crewmatrix(open_cells, crew_list, bot)\n",
    "            marker = 0\n",
    "            move = 0\n",
    "\n",
    "            continue\n",
    "\n",
    "        if win_count > prev_win_count:\n",
    "            print(f\"Crew saved! Win Count: {win_count}, Loss Count: {loss_count}\")\n",
    "            win_move_count.append(move)\n",
    "            move = 0\n",
    "            d_lookup_table = {}\n",
    "            alien_matrix = initialize_alienmatrix(open_cells, bot, k)\n",
    "            crew_matrix = initialize_crewmatrix(open_cells, crew_list, bot)\n",
    "        \n",
    "        print(f\"Bot: {bot}, Crew: {crew_list}, Aliens: {alien_list}\")\n",
    "\n",
    "        alien_matrix, crew_matrix = update_afterbotmove(bot, alien_matrix, crew_matrix)\n",
    "        \n",
    "        marker, alien_list, ship = move_aliens(ship, alien_list, bot) # Move alien randomly\n",
    "\n",
    "        if marker == 1 or move >= timeout:\n",
    "            loss_count += 1\n",
    "            print(f\"Bot captured! Win Count: {win_count}, Loss Count: {loss_count}\")\n",
    "\n",
    "            grid, open_cells = reset_grid(grid, open_cells)\n",
    "            bot, ship, open_cells = place_bot(grid, open_cells)\n",
    "            crew_list = []\n",
    "            alien_list = []\n",
    "            d_lookup_table = {}\n",
    "\n",
    "            crew_list, ship = place_crew(ship, open_cells, crew_list)\n",
    "            alien_list, ship = place_alien(ship, open_cells, alien_list, bot, k)\n",
    "\n",
    "            alien_matrix = initialize_alienmatrix(open_cells, bot, k)\n",
    "            crew_matrix = initialize_crewmatrix(open_cells, crew_list, bot)\n",
    "            marker = 0\n",
    "            move = 0\n",
    "\n",
    "            continue\n",
    "        \n",
    "        alien_matrix = update_afteralienmove(ship, alien_list, alien_matrix) # Update after alien move\n",
    "        \n",
    "        alien_detected = alien_sensor(alien_list, bot, k) # Run Alien Sensor\n",
    "        crew_detected, d_lookup_table = crew_sensor(ship, bot, alpha, d_lookup_table, crew_list) # Run Crew Sensor\n",
    "        \n",
    "        alien_matrix = update_alienmatrix(alien_matrix, alien_detected, bot, k) # Update based on alien sensor\n",
    "\n",
    "        crew_matrix = update_crewmatrix(crew_matrix, crew_detected, d_lookup_table, bot, alpha) # Update based on crew sensor\n",
    "    \n",
    "    df = pd.DataFrame(data_log)\n",
    "    \n",
    "    if os.path.isfile(file_name):\n",
    "        df.to_csv(file_name, mode='a', index=False, header=False)\n",
    "    else:\n",
    "        df.to_csv(file_name, mode='w', index=False, header=True)\n",
    "\n",
    "    return sum(win_move_count) // max(1, len(win_move_count)), (win_count / max(1, (win_count + loss_count))), win_count"
   ]
  },
  {
   "cell_type": "code",
   "execution_count": 12,
   "id": "9b563458",
   "metadata": {},
   "outputs": [],
   "source": [
    "def Bot1_simulation(alpha_values, k_values, max_iter, timeout, num_simulations):\n",
    "    avg_rescue_moves = {k: [] for k in k_values}\n",
    "    prob_crew_rescue = {k: [] for k in k_values}\n",
    "    avg_crew_saved = {k: [] for k in k_values}\n",
    "\n",
    "    for k in k_values:\n",
    "        for alpha in alpha_values:\n",
    "            total_metric1, total_metric2, total_metric3 = 0, 0, 0\n",
    "            \n",
    "            for i in range(num_simulations):\n",
    "                metric1, metric2, metric3 = Bot1_collect_data(k, alpha, max_iter, timeout)\n",
    "                total_metric1 += metric1\n",
    "                total_metric2 += metric2\n",
    "                total_metric3 += metric3\n",
    "\n",
    "            avg_metric1 = total_metric1 / num_simulations\n",
    "            avg_metric2 = total_metric2 / num_simulations\n",
    "            avg_metric3 = total_metric3 / num_simulations\n",
    "\n",
    "            print(f\"k: {k}, Alpha: {alpha}\\nAverage Rescue Moves: {avg_metric1}\\nProbability of Crew Rescue: {avg_metric2}\\nAverage Crew Saved: {avg_metric3}\\n\")\n",
    "\n",
    "            avg_rescue_moves[k].append(avg_metric1)\n",
    "            prob_crew_rescue[k].append(avg_metric2)\n",
    "            avg_crew_saved[k].append(avg_metric3)\n",
    "\n",
    "    return avg_rescue_moves, prob_crew_rescue, avg_crew_saved"
   ]
  },
  {
   "cell_type": "code",
   "execution_count": 13,
   "id": "fd94d814",
   "metadata": {},
   "outputs": [],
   "source": [
    "def one_alien_one_crew(alpha_values, k_values, max_iter, timeout, num_simulations):\n",
    "    bot1_avg_rescue_moves, bot1_prob_crew_rescue, bot1_avg_crew_saved = Bot1_simulation(alpha_values, k_values, max_iter, timeout, num_simulations)\n",
    "\n",
    "    bot1_prob_crew_rescue = {k: [round(prob, 3) for prob in probs] for k, probs in bot1_prob_crew_rescue.items()}\n",
    "\n",
    "    print(bot1_avg_rescue_moves, bot1_prob_crew_rescue, bot1_avg_crew_saved, \"\\n\")"
   ]
  },
  {
   "cell_type": "code",
   "execution_count": 14,
   "id": "a78e4b3a",
   "metadata": {},
   "outputs": [],
   "source": [
    "alpha_values = [0.004]\n",
    "k_values = [3]\n",
    "max_iter = 30\n",
    "timeout = 10000\n",
    "num_simulations = 100"
   ]
  },
  {
   "cell_type": "code",
   "execution_count": 15,
   "id": "ec1db10e",
   "metadata": {},
   "outputs": [],
   "source": [
    "# one_alien_one_crew(alpha_values, k_values, max_iter, timeout, num_simulations)"
   ]
  },
  {
   "cell_type": "markdown",
   "id": "5496cb95",
   "metadata": {},
   "source": [
    "### Model 1 Training Functions"
   ]
  },
  {
   "cell_type": "code",
   "execution_count": null,
   "id": "73d437a0",
   "metadata": {},
   "outputs": [],
   "source": [
    "from sklearn.linear_model import LogisticRegression"
   ]
  },
  {
   "cell_type": "code",
   "execution_count": null,
   "id": "becee560",
   "metadata": {},
   "outputs": [],
   "source": [
    "def is_valid(x, y, move, grid, open_cells):\n",
    "    if move == 'up' and (x, y + 1) in open_cells:\n",
    "        return True\n",
    "    elif move == 'down' and (x, y - 1) in open_cells:\n",
    "        return True\n",
    "    elif move == 'left' and (x - 1, y) in open_cells:\n",
    "        return True\n",
    "    elif move == 'right' and (x + 1, y) in open_cells:\n",
    "        return True\n",
    "    elif move == 'stay':\n",
    "        return True\n",
    "    else:\n",
    "        return False"
   ]
  },
  {
   "cell_type": "code",
   "execution_count": null,
   "id": "fa2cb73f",
   "metadata": {},
   "outputs": [],
   "source": [
    "grid, open_cells = reset_grid(grid, open_cells)\n",
    "\n",
    "def create_valid_matrix(X):\n",
    "    global grid, open_cells\n",
    "    directions = ['up', 'down', 'left', 'right', 'stay']\n",
    "    valid_list = []\n",
    "    for i in range(len(X)):\n",
    "        x, y = X.iloc[i, 0], X.iloc[i, 1]\n",
    "        validity_for_each_direction = [is_valid(x, y, move, grid, open_cells) for move in directions]\n",
    "        valid_list.append(validity_for_each_direction)\n",
    "\n",
    "    valid_array = np.array(valid_list)\n",
    "    return valid_array"
   ]
  },
  {
   "cell_type": "markdown",
   "id": "af6ad9b8",
   "metadata": {},
   "source": [
    "### Model 1 Testing Functions"
   ]
  },
  {
   "cell_type": "code",
   "execution_count": null,
   "id": "e02e4f90",
   "metadata": {},
   "outputs": [],
   "source": [
    "def predict_with_probabilities(model1, X):\n",
    "    return model1.predict_proba(X)"
   ]
  },
  {
   "cell_type": "code",
   "execution_count": null,
   "id": "12d4e8fc",
   "metadata": {},
   "outputs": [],
   "source": [
    "def predict_valid(prob, valid):\n",
    "    new_prob = prob * valid - (1 - valid) * 1e6\n",
    "    next_move = np.argmax(new_prob, axis = 1)\n",
    "    \n",
    "    return next_move"
   ]
  },
  {
   "cell_type": "markdown",
   "id": "c0c23c2b",
   "metadata": {},
   "source": [
    "### Data Preprocessing"
   ]
  },
  {
   "cell_type": "code",
   "execution_count": null,
   "id": "64e999b5",
   "metadata": {},
   "outputs": [],
   "source": [
    "from sklearn.model_selection import train_test_split\n",
    "from sklearn.preprocessing import StandardScaler"
   ]
  },
  {
   "cell_type": "markdown",
   "id": "3865fb16",
   "metadata": {},
   "source": [
    "#### data"
   ]
  },
  {
   "cell_type": "code",
   "execution_count": null,
   "id": "f12b693e",
   "metadata": {},
   "outputs": [],
   "source": [
    "data = pd.read_csv('Data/Model1_Bonus/model1_data_raw.csv')"
   ]
  },
  {
   "cell_type": "code",
   "execution_count": null,
   "id": "244335a2",
   "metadata": {},
   "outputs": [],
   "source": [
    "data.head()"
   ]
  },
  {
   "cell_type": "code",
   "execution_count": null,
   "id": "2da4ab85",
   "metadata": {},
   "outputs": [],
   "source": [
    "data.shape"
   ]
  },
  {
   "cell_type": "code",
   "execution_count": null,
   "id": "b6877383",
   "metadata": {},
   "outputs": [],
   "source": [
    "model1_df = data.drop_duplicates()\n",
    "model1_df.shape"
   ]
  },
  {
   "cell_type": "markdown",
   "id": "147ecb8e",
   "metadata": {},
   "source": [
    "#### model1_df"
   ]
  },
  {
   "cell_type": "code",
   "execution_count": null,
   "id": "08ba3bab",
   "metadata": {},
   "outputs": [],
   "source": [
    "model1_df.head()"
   ]
  },
  {
   "cell_type": "code",
   "execution_count": null,
   "id": "ae80f94a",
   "metadata": {},
   "outputs": [],
   "source": [
    "model1_df.shape"
   ]
  },
  {
   "cell_type": "code",
   "execution_count": null,
   "id": "1a428aa5",
   "metadata": {},
   "outputs": [],
   "source": [
    "class_labels = model1_df['chosen_action'].apply(ast.literal_eval)\n",
    "class_counts = class_labels.value_counts()\n",
    "class_counts"
   ]
  },
  {
   "cell_type": "code",
   "execution_count": null,
   "id": "7e359ba2",
   "metadata": {},
   "outputs": [],
   "source": [
    "model1_df.to_csv('Data/Model1_Bonus/model1_data.csv', index=False)"
   ]
  },
  {
   "cell_type": "markdown",
   "id": "571138e2",
   "metadata": {},
   "source": [
    "#### X_train + y_train"
   ]
  },
  {
   "cell_type": "code",
   "execution_count": null,
   "id": "0da7180f",
   "metadata": {},
   "outputs": [],
   "source": [
    "X = model1_df.drop('chosen_action', axis=1)\n",
    "y = model1_df['chosen_action']"
   ]
  },
  {
   "cell_type": "code",
   "execution_count": null,
   "id": "7c458512",
   "metadata": {},
   "outputs": [],
   "source": [
    "X_train, X_test, y_train, y_test = train_test_split(X, y, test_size=0.2, random_state=42)"
   ]
  },
  {
   "cell_type": "code",
   "execution_count": null,
   "id": "b3f473d5",
   "metadata": {},
   "outputs": [],
   "source": [
    "scaler = StandardScaler()\n",
    "X_train_scaled = scaler.fit_transform(X_train)\n",
    "X_test_scaled = scaler.transform(X_test)"
   ]
  },
  {
   "cell_type": "code",
   "execution_count": null,
   "id": "64bc9756",
   "metadata": {},
   "outputs": [],
   "source": [
    "X_train = pd.DataFrame(X_train_scaled, index = X_train.index, columns = X_train.columns)\n",
    "X_test = pd.DataFrame(X_test_scaled, index = X_test.index, columns = X_test.columns)"
   ]
  },
  {
   "cell_type": "code",
   "execution_count": null,
   "id": "c4dd958d",
   "metadata": {},
   "outputs": [],
   "source": [
    "X_train.head()"
   ]
  },
  {
   "cell_type": "code",
   "execution_count": null,
   "id": "cec82272",
   "metadata": {},
   "outputs": [],
   "source": [
    "y_train = y_train.apply(ast.literal_eval)\n",
    "y_train = y_train.apply(lambda x: x.index(1))\n",
    "\n",
    "y_test = y_test.apply(ast.literal_eval)\n",
    "y_test = y_test.apply(lambda x: x.index(1))"
   ]
  },
  {
   "cell_type": "code",
   "execution_count": null,
   "id": "3d876b4e",
   "metadata": {},
   "outputs": [],
   "source": [
    "y_train.head()"
   ]
  },
  {
   "cell_type": "code",
   "execution_count": null,
   "id": "4bb5daf7",
   "metadata": {},
   "outputs": [],
   "source": [
    "X_train.to_csv('Data/Model1_Bonus/X_train.csv', index=False)\n",
    "y_train.to_csv('Data/Model1_Bonus/y_train.csv', index=False)\n",
    "\n",
    "X_test.to_csv('Data/Model1_Bonus/X_test.csv', index=False)\n",
    "y_test.to_csv('Data/Model1_Bonus/y_test.csv', index=False)"
   ]
  },
  {
   "cell_type": "markdown",
   "id": "f1610144",
   "metadata": {},
   "source": [
    "#### valid_train + valid_test"
   ]
  },
  {
   "cell_type": "code",
   "execution_count": null,
   "id": "e9a1175d",
   "metadata": {},
   "outputs": [],
   "source": [
    "valid_train = create_valid_matrix(X_train)\n",
    "valid_test = create_valid_matrix(X_test)"
   ]
  },
  {
   "cell_type": "code",
   "execution_count": null,
   "id": "bd9ca87b",
   "metadata": {},
   "outputs": [],
   "source": [
    "valid_train_df = pd.DataFrame(valid_train)\n",
    "valid_test_df = pd.DataFrame(valid_test)"
   ]
  },
  {
   "cell_type": "code",
   "execution_count": null,
   "id": "529c196b",
   "metadata": {},
   "outputs": [],
   "source": [
    "valid_train_df.to_csv('Data/Model1_Bonus/valid_train.csv', index=False)\n",
    "valid_test_df.to_csv('Data/Model1_Bonus/valid_test.csv', index=False)"
   ]
  },
  {
   "cell_type": "markdown",
   "id": "675b4df5",
   "metadata": {},
   "source": [
    "#### valid_train_df + valid_test_df"
   ]
  },
  {
   "cell_type": "code",
   "execution_count": null,
   "id": "1fff6305",
   "metadata": {},
   "outputs": [],
   "source": [
    "valid_train.shape"
   ]
  },
  {
   "cell_type": "code",
   "execution_count": null,
   "id": "367e66a5",
   "metadata": {},
   "outputs": [],
   "source": [
    "valid_test.shape"
   ]
  },
  {
   "cell_type": "markdown",
   "id": "b1eb6870",
   "metadata": {},
   "source": [
    "## Model Training"
   ]
  },
  {
   "cell_type": "code",
   "execution_count": null,
   "id": "bdf0af2a",
   "metadata": {},
   "outputs": [],
   "source": [
    "model1 = LogisticRegression(multi_class = 'multinomial', solver='saga', penalty='l2', max_iter=1000, verbose=1)"
   ]
  },
  {
   "cell_type": "code",
   "execution_count": null,
   "id": "f9665e49",
   "metadata": {},
   "outputs": [],
   "source": [
    "model1.fit(X_train, y_train)"
   ]
  },
  {
   "cell_type": "markdown",
   "id": "0f26ff11",
   "metadata": {},
   "source": [
    "## Model Testing "
   ]
  },
  {
   "cell_type": "code",
   "execution_count": null,
   "id": "7a013892",
   "metadata": {},
   "outputs": [],
   "source": [
    "from sklearn.metrics import accuracy_score"
   ]
  },
  {
   "cell_type": "code",
   "execution_count": null,
   "id": "7d424cf8",
   "metadata": {},
   "outputs": [],
   "source": [
    "y_pred_train = model1.predict(X_train)\n",
    "y_pred_test = model1.predict(X_test)"
   ]
  },
  {
   "cell_type": "code",
   "execution_count": null,
   "id": "4c760cbb",
   "metadata": {},
   "outputs": [],
   "source": [
    "train_accuracy = accuracy_score(y_train, y_pred_train)\n",
    "test_accuracy = accuracy_score(y_test, y_pred_test)\n",
    "print(f\"Train Accuracy: {train_accuracy}\\nTest Accuracy: {test_accuracy}\")"
   ]
  },
  {
   "cell_type": "markdown",
   "id": "7e6804ab",
   "metadata": {},
   "source": [
    "## Saving Model Architecture"
   ]
  },
  {
   "cell_type": "code",
   "execution_count": null,
   "id": "29b7fd31",
   "metadata": {},
   "outputs": [],
   "source": [
    "pickle_filename = 'Results/Model1_Bonus/model1.sav'"
   ]
  },
  {
   "cell_type": "code",
   "execution_count": null,
   "id": "47420d21",
   "metadata": {},
   "outputs": [],
   "source": [
    "pickle.dump(model1, open(pickle_filename, 'wb'))"
   ]
  },
  {
   "cell_type": "markdown",
   "id": "79c2610d",
   "metadata": {},
   "source": [
    "## Loading Model Architecture"
   ]
  },
  {
   "cell_type": "code",
   "execution_count": null,
   "id": "bf07279c",
   "metadata": {},
   "outputs": [],
   "source": [
    "model1 = pickle.load(open(pickle_filename, 'rb'))"
   ]
  },
  {
   "cell_type": "markdown",
   "id": "5ddbde9d",
   "metadata": {},
   "source": [
    "## Simulation Testing Setup"
   ]
  },
  {
   "cell_type": "code",
   "execution_count": null,
   "id": "3ae81f7e",
   "metadata": {},
   "outputs": [],
   "source": [
    "def predict_to_move(bot, prediction):\n",
    "    next_move = bot\n",
    "    \n",
    "    if prediction == 0:\n",
    "        next_move = (bot[0], bot[1] + 1)\n",
    "    elif prediction == 1:\n",
    "        next_move = (bot[0], bot[1] - 1)\n",
    "    elif prediction == 2:\n",
    "        next_move = (bot[0] - 1, bot[1])\n",
    "    elif prediction == 3:\n",
    "        next_move = (bot[0] + 1, bot[1])\n",
    "    else:\n",
    "        next_move = bot\n",
    "        \n",
    "    return next_move"
   ]
  },
  {
   "cell_type": "code",
   "execution_count": null,
   "id": "0081121e",
   "metadata": {},
   "outputs": [],
   "source": [
    "def predict_with_params(model1, bot, alien_matrix, crew_matrix, d_crew, d_alien, alien_detected, crew_detected):\n",
    "    alien_probs = determine_probabilities(bot, alien_matrix)\n",
    "    crew_probs = determine_probabilities(bot, crew_matrix)\n",
    "    \n",
    "    X = pd.DataFrame([{\n",
    "        'bot_x': bot[0],\n",
    "        'bot_y': bot[1],\n",
    "            \n",
    "        'alien_up': alien_probs[0],\n",
    "        'alien_down': alien_probs[1],\n",
    "        'alien_left': alien_probs[2],\n",
    "        'alien_right': alien_probs[3],\n",
    "        'alien_stay': alien_probs[4],\n",
    "            \n",
    "        'crew_up': crew_probs[0],\n",
    "        'crew_down': crew_probs[1],\n",
    "        'crew_left': crew_probs[2],\n",
    "        'crew_right': crew_probs[3],\n",
    "            \n",
    "        'd_crew_up': np.float32(d_crew[0]),\n",
    "        'd_crew_down': np.float32(d_crew[1]),\n",
    "        'd_crew_left': np.float32(d_crew[2]),\n",
    "        'd_crew_right': np.float32(d_crew[3]),\n",
    "        'd_crew_stay': np.float32(d_crew[4]),\n",
    "        \n",
    "        'd_alien_up': np.float32(d_alien[0]),\n",
    "        'd_alien_down': np.float32(d_alien[1]),\n",
    "        'd_alien_left': np.float32(d_alien[2]),\n",
    "        'd_alien_right': np.float32(d_alien[3]),\n",
    "        'd_alien_stay': np.float32(d_alien[4]),\n",
    "            \n",
    "        'alien_detected': 1 if alien_detected else 0,\n",
    "        'crew_detected': 1 if crew_detected else 0,\n",
    "    }])\n",
    "    \n",
    "    valid = create_valid_matrix(X)\n",
    "    \n",
    "    crew_columns = ['crew_up', 'crew_down', 'crew_left', 'crew_right']\n",
    "    X['sum_crew'] = X[crew_columns].sum(axis=1)\n",
    "\n",
    "    for col in crew_columns:\n",
    "        X.loc[X['sum_crew'] != 0, col] = X[col] / X['sum_crew']\n",
    "\n",
    "    X.drop('sum_crew', axis=1, inplace=True)\n",
    "    \n",
    "    prediction = model1.predict_proba(X)\n",
    "    next_move = predict_valid(prediction, valid)\n",
    "    \n",
    "    return next_move"
   ]
  },
  {
   "cell_type": "markdown",
   "id": "91f29f2e",
   "metadata": {},
   "source": [
    "## Bot1 vs. Mimic-Bot1"
   ]
  },
  {
   "cell_type": "code",
   "execution_count": null,
   "id": "275b9356",
   "metadata": {},
   "outputs": [],
   "source": [
    "def Bot1(k, alpha, max_iter, timeout):\n",
    "    global grid, open_cells\n",
    "    \n",
    "    grid, open_cells = reset_grid(grid, open_cells)\n",
    "    bot, ship, open_cells = place_bot(grid, open_cells)\n",
    "\n",
    "    crew_list = []\n",
    "    alien_list = []\n",
    "    d_lookup_table = {}\n",
    "\n",
    "    crew_list, ship = place_crew(ship, open_cells, crew_list)\n",
    "    alien_list, ship = place_alien(ship, open_cells, alien_list, bot, k)\n",
    "\n",
    "    alien_matrix = initialize_alienmatrix(open_cells, bot, k)\n",
    "    crew_matrix = initialize_crewmatrix(open_cells, crew_list, bot)\n",
    "\n",
    "    win_count = 0\n",
    "    loss_count = 0\n",
    "    move = 0\n",
    "    win_move_count = []\n",
    "    marker = 0\n",
    "    \n",
    "    while (win_count + loss_count) < max_iter:\n",
    "        neighbors = check_valid_neighbors(len(ship), bot[0], bot[1])\n",
    "        open_moves = [neigh for neigh in neighbors if (grid[neigh] != 1)]\n",
    "        open_moves.append(bot)\n",
    "        next_move = determine_move(open_moves, alien_matrix, crew_matrix) # Determine move deterministically as in Project 2\n",
    "        \n",
    "        prev_win_count = win_count\n",
    "        bot, crew_list, ship, open_cells, win_count, marker = move_bot(ship, bot, next_move, crew_list, alien_list, open_cells, win_count, 1)\n",
    "        move += 1\n",
    "\n",
    "        if marker == 1 or move >= timeout:\n",
    "            loss_count += 1\n",
    "            print(f\"Bot1 captured! Win Count: {win_count}, Loss Count: {loss_count}\")\n",
    "\n",
    "            grid, open_cells = reset_grid(grid, open_cells)\n",
    "            bot, ship, open_cells = place_bot(grid, open_cells)\n",
    "            crew_list = []\n",
    "            alien_list = []\n",
    "            d_lookup_table = {}\n",
    "\n",
    "            crew_list, ship = place_crew(ship, open_cells, crew_list)\n",
    "            alien_list, ship = place_alien(ship, open_cells, alien_list, bot, k)\n",
    "\n",
    "            alien_matrix = initialize_alienmatrix(open_cells, bot, k)\n",
    "            crew_matrix = initialize_crewmatrix(open_cells, crew_list, bot)\n",
    "            marker = 0\n",
    "            move = 0\n",
    "\n",
    "            continue\n",
    "\n",
    "        if win_count > prev_win_count:\n",
    "            print(f\"Crew saved! Win Count: {win_count}, Loss Count: {loss_count}\")\n",
    "            win_move_count.append(move)\n",
    "            move = 0\n",
    "            d_lookup_table = {}\n",
    "            alien_matrix = initialize_alienmatrix(open_cells, bot, k)\n",
    "            crew_matrix = initialize_crewmatrix(open_cells, crew_list, bot)\n",
    "        \n",
    "        print(f\"Bot1: {bot}, Crew: {crew_list}, Aliens: {alien_list}\")\n",
    "\n",
    "        alien_matrix, crew_matrix = update_afterbotmove(bot, alien_matrix, crew_matrix)\n",
    "\n",
    "        # Move bot to optimal neighbor\n",
    "        marker, alien_list, ship = move_aliens(ship, alien_list, bot) # Move alien randomly\n",
    "\n",
    "        if marker == 1 or move >= timeout:\n",
    "            loss_count += 1\n",
    "            print(f\"Bot1 captured! Win Count: {win_count}, Loss Count: {loss_count}\")\n",
    "\n",
    "            grid, open_cells = reset_grid(grid, open_cells)\n",
    "            bot, ship, open_cells = place_bot(grid, open_cells)\n",
    "            crew_list = []\n",
    "            alien_list = []\n",
    "            d_lookup_table = {}\n",
    "\n",
    "            crew_list, ship = place_crew(ship, open_cells, crew_list)\n",
    "            alien_list, ship = place_alien(ship, open_cells, alien_list, bot, k)\n",
    "\n",
    "            alien_matrix = initialize_alienmatrix(open_cells, bot, k)\n",
    "            crew_matrix = initialize_crewmatrix(open_cells, crew_list, bot)\n",
    "            marker = 0\n",
    "            move = 0\n",
    "\n",
    "            continue\n",
    "        \n",
    "        alien_matrix = update_afteralienmove(ship, alien_list, alien_matrix) # Update after alien move\n",
    "        \n",
    "        alien_detected = alien_sensor(alien_list, bot, k) # Run Alien Sensor\n",
    "        crew_detected, d_lookup_table = crew_sensor(ship, bot, alpha, d_lookup_table, crew_list) # Run Crew Sensor\n",
    "        \n",
    "        alien_matrix = update_alienmatrix(alien_matrix, alien_detected, bot, k) # Update based on alien sensor\n",
    "\n",
    "        crew_matrix = update_crewmatrix(crew_matrix, crew_detected, d_lookup_table, bot, alpha) # Update based on crew sensor\n",
    "\n",
    "    return sum(win_move_count) // max(1, len(win_move_count)), (win_count / max(1, (win_count + loss_count))), win_count"
   ]
  },
  {
   "cell_type": "code",
   "execution_count": null,
   "id": "7596de05",
   "metadata": {},
   "outputs": [],
   "source": [
    "def Mimic_Bot1(k, alpha, max_iter, timeout, model1):\n",
    "    global grid, open_cells\n",
    "    \n",
    "    grid, open_cells = reset_grid(grid, open_cells)\n",
    "    bot, ship, open_cells = place_bot(grid, open_cells)\n",
    "\n",
    "    crew_list = []\n",
    "    alien_list = []\n",
    "    d_lookup_table = {}\n",
    "\n",
    "    crew_list, ship = place_crew(ship, open_cells, crew_list)\n",
    "    alien_list, ship = place_alien(ship, open_cells, alien_list, bot, k)\n",
    "\n",
    "    alien_matrix = initialize_alienmatrix(open_cells, bot, k)\n",
    "    crew_matrix = initialize_crewmatrix(open_cells, crew_list, bot)\n",
    "    \n",
    "    alien_detected = alien_sensor(alien_list, bot, k) # Initially Run Alien Sensor\n",
    "    crew_detected, d_lookup_table = crew_sensor(ship, bot, alpha, d_lookup_table, crew_list) # Initially Run Crew Sensor\n",
    "\n",
    "    win_count = 0\n",
    "    loss_count = 0\n",
    "    move = 0\n",
    "    win_move_count = []\n",
    "    marker = 0\n",
    "    \n",
    "    while (win_count + loss_count) < max_iter:\n",
    "        neighbors = check_valid_neighbors(len(ship), bot[0], bot[1])\n",
    "        open_moves = [neigh for neigh in neighbors if (grid[neigh] != 1)]\n",
    "        open_moves.append(bot)\n",
    "        \n",
    "        d_crew, d_lookup_table = determine_d_crew(ship, bot, alpha, d_lookup_table, crew_list, crew_matrix, open_cells)\n",
    "        d_alien, d_lookup_table = determine_d_alien(ship, bot, alpha, d_lookup_table, alien_list, crew_list, alien_matrix, open_cells)\n",
    "        \n",
    "        next_move = predict_with_params(model1, bot, alien_matrix, crew_matrix, d_crew, d_alien, alien_detected, crew_detected) # Predict using optimal W, b for Model 1\n",
    "        \n",
    "        prev_win_count = win_count\n",
    "        bot, crew_list, ship, open_cells, win_count, marker = move_bot(ship, bot, next_move, crew_list, alien_list, open_cells, win_count, 1)\n",
    "        move += 1\n",
    "\n",
    "        if marker == 1 or move >= timeout:\n",
    "            loss_count += 1\n",
    "            print(f\"Mimic-Bot1 captured! Win Count: {win_count}, Loss Count: {loss_count}\")\n",
    "\n",
    "            grid, open_cells = reset_grid(grid, open_cells)\n",
    "            bot, ship, open_cells = place_bot(grid, open_cells)\n",
    "            crew_list = []\n",
    "            alien_list = []\n",
    "            d_lookup_table = {}\n",
    "\n",
    "            crew_list, ship = place_crew(ship, open_cells, crew_list)\n",
    "            alien_list, ship = place_alien(ship, open_cells, alien_list, bot, k)\n",
    "\n",
    "            alien_matrix = initialize_alienmatrix(open_cells, bot, k)\n",
    "            crew_matrix = initialize_crewmatrix(open_cells, crew_list, bot)\n",
    "            marker = 0\n",
    "            move = 0\n",
    "\n",
    "            continue\n",
    "\n",
    "        if win_count > prev_win_count:\n",
    "            print(f\"Crew saved! Win Count: {win_count}, Loss Count: {loss_count}\")\n",
    "            win_move_count.append(move)\n",
    "            move = 0\n",
    "            d_lookup_table = {}\n",
    "            alien_matrix = initialize_alienmatrix(open_cells, bot, k)\n",
    "            crew_matrix = initialize_crewmatrix(open_cells, crew_list, bot)\n",
    "        \n",
    "        print(f\"Mimic-Bot1: {bot}, Crew: {crew_list}, Aliens: {alien_list}\")\n",
    "\n",
    "        alien_matrix, crew_matrix = update_afterbotmove(bot, alien_matrix, crew_matrix)\n",
    "\n",
    "        # Move bot to optimal neighbor\n",
    "        marker, alien_list, ship = move_aliens(ship, alien_list, bot) # Move alien randomly\n",
    "\n",
    "        if marker == 1 or move >= timeout:\n",
    "            loss_count += 1\n",
    "            print(f\"Mimic-Bot1 captured! Win Count: {win_count}, Loss Count: {loss_count}\")\n",
    "\n",
    "            grid, open_cells = reset_grid(grid, open_cells)\n",
    "            bot, ship, open_cells = place_bot(grid, open_cells)\n",
    "            crew_list = []\n",
    "            alien_list = []\n",
    "            d_lookup_table = {}\n",
    "\n",
    "            crew_list, ship = place_crew(ship, open_cells, crew_list)\n",
    "            alien_list, ship = place_alien(ship, open_cells, alien_list, bot, k)\n",
    "\n",
    "            alien_matrix = initialize_alienmatrix(open_cells, bot, k)\n",
    "            crew_matrix = initialize_crewmatrix(open_cells, crew_list, bot)\n",
    "            marker = 0\n",
    "            move = 0\n",
    "\n",
    "            continue\n",
    "        \n",
    "        alien_matrix = update_afteralienmove(ship, alien_list, alien_matrix) # Update after alien move\n",
    "        \n",
    "        alien_detected = alien_sensor(alien_list, bot, k) # Run Alien Sensor\n",
    "        crew_detected, d_lookup_table = crew_sensor(ship, bot, alpha, d_lookup_table, crew_list) # Run Crew Sensor\n",
    "        \n",
    "        alien_matrix = update_alienmatrix(alien_matrix, alien_detected, bot, k) # Update based on alien sensor\n",
    "\n",
    "        crew_matrix = update_crewmatrix(crew_matrix, crew_detected, d_lookup_table, bot, alpha) # Update based on crew sensor\n",
    "\n",
    "    return sum(win_move_count) // max(1, len(win_move_count)), (win_count / max(1, (win_count + loss_count))), win_count"
   ]
  },
  {
   "cell_type": "code",
   "execution_count": null,
   "id": "8ff5bb0d",
   "metadata": {},
   "outputs": [],
   "source": [
    "def Bot1_vs_MimicBot1(alpha_values, k_values, max_iter, timeout, num_simulations, model1):\n",
    "    avg_rescue_moves_bot1 = {k: [] for k in k_values}\n",
    "    prob_crew_rescue_bot1 = {k: [] for k in k_values}\n",
    "    avg_crew_saved_bot1 = {k: [] for k in k_values}\n",
    "    \n",
    "    avg_rescue_moves_mbot1 = {k: [] for k in k_values}\n",
    "    prob_crew_rescue_mbot1 = {k: [] for k in k_values}\n",
    "    avg_crew_saved_mbot1 = {k: [] for k in k_values}\n",
    "\n",
    "    for k in k_values:\n",
    "        for alpha in alpha_values:\n",
    "            total_metric1_bot1, total_metric2_bot1, total_metric3_bot1 = 0, 0, 0\n",
    "            total_metric1_mbot1, total_metric2_mbot1, total_metric3_mbot1 = 0, 0, 0\n",
    "            \n",
    "            for i in range(num_simulations):\n",
    "                metric1_bot1, metric2_bot1, metric3_bot1 = Bot1(k, alpha, max_iter, timeout)\n",
    "                metric1_mbot1, metric2_mbot1, metric3_mbot1 = Mimic_Bot1(k, alpha, max_iter, timeout, model1)\n",
    "                \n",
    "                total_metric1_bot1 += metric1_bot1\n",
    "                total_metric2_bot1 += metric2_bot1\n",
    "                total_metric3_bot1 += metric3_bot1\n",
    "                \n",
    "                total_metric1_mbot1 += metric1_mbot1\n",
    "                total_metric2_mbot1 += metric2_mbot1\n",
    "                total_metric3_mbot1 += metric3_mbot1\n",
    "\n",
    "            avg_metric1_bot1 = total_metric1_bot1 / num_simulations\n",
    "            avg_metric2_bot1 = total_metric2_bot1 / num_simulations\n",
    "            avg_metric3_bot1 = total_metric3_bot1 / num_simulations\n",
    "            \n",
    "            avg_metric1_mbot1 = total_metric1_mbot1 / num_simulations\n",
    "            avg_metric2_mbot1 = total_metric2_mbot1 / num_simulations\n",
    "            avg_metric3_mbot1 = total_metric3_mbot1 / num_simulations\n",
    "\n",
    "            print(f\"Bot1: k={k}, Alpha={alpha}\\nAverage Rescue Moves={avg_metric1_bot1}\\nProbability of Crew Rescue={avg_metric2_bot1}\\nAverage Crew Saved={avg_metric3_bot1}\\n\")\n",
    "            print(f\"Mimic-Bot1: k={k}, Alpha={alpha}\\nAverage Rescue Moves={avg_metric1_mbot1}\\nProbability of Crew Rescue={avg_metric2_mbot1}\\nAverage Crew Saved={avg_metric3_mbot1}\\n\")\n",
    "\n",
    "            avg_rescue_moves_bot1[k].append(avg_metric1_bot1)\n",
    "            prob_crew_rescue_bot1[k].append(avg_metric2_bot1)\n",
    "            avg_crew_saved_bot1[k].append(avg_metric3_bot1)\n",
    "            \n",
    "            avg_rescue_moves_mbot1[k].append(avg_metric1_mbot1)\n",
    "            prob_crew_rescue_mbot1[k].append(avg_metric2_mbot1)\n",
    "            avg_crew_saved_mbot1[k].append(avg_metric3_mbot1)\n",
    "\n",
    "    return avg_rescue_moves_bot1, prob_crew_rescue_bot1, avg_crew_saved_bot1, avg_rescue_moves_mbot1, prob_crew_rescue_mbot1, avg_crew_saved_mbot1"
   ]
  },
  {
   "cell_type": "code",
   "execution_count": null,
   "id": "aa7cfa15",
   "metadata": {},
   "outputs": [],
   "source": [
    "def test_simulation_model1(alpha_values, k_values, max_iter, timeout, num_simulations, model1):\n",
    "    avg_rescue_moves_bot1, prob_crew_rescue_bot1, avg_crew_saved_bot1, avg_rescue_moves_mbot1, prob_crew_rescue_mbot1, avg_crew_saved_mbot1 = Bot1_vs_MimicBot1(alpha_values, k_values, max_iter, timeout, num_simulations, model1)\n",
    "\n",
    "    prob_crew_rescue_bot1 = {k: [round(prob, 3) for prob in probs] for k, probs in prob_crew_rescue_bot1.items()}\n",
    "    prob_crew_rescue_mbot1 = {k: [round(prob, 3) for prob in probs] for k, probs in prob_crew_rescue_mbot1.items()}\n",
    "\n",
    "    print(f\"Bot1:\\nAverage Rescue Moves = {avg_rescue_moves_bot1}\\nProbability of Crew Rescue = {prob_crew_rescue_bot1}\\nAverage Crew Saved = {avg_crew_saved_bot1}\\n\\n\")\n",
    "    print(f\"Mimic-Bot1:\\nAverage Rescue Moves = {avg_rescue_moves_mbot1}\\nProbability of Crew Rescue = {prob_crew_rescue_mbot1}\\nAverage Crew Saved = {avg_crew_saved_mbot1}\\n\")\n",
    "    \n",
    "    return avg_rescue_moves_bot1, prob_crew_rescue_bot1, avg_crew_saved_bot1, avg_rescue_moves_mbot1, prob_crew_rescue_mbot1, avg_crew_saved_mbot1"
   ]
  },
  {
   "cell_type": "code",
   "execution_count": null,
   "id": "39904a90",
   "metadata": {},
   "outputs": [],
   "source": [
    "alpha_values = [0.004]\n",
    "k_values = [3]\n",
    "max_iter = 20\n",
    "timeout = 10000\n",
    "num_simulations = 20"
   ]
  },
  {
   "cell_type": "code",
   "execution_count": null,
   "id": "7da57aab",
   "metadata": {},
   "outputs": [],
   "source": [
    "# metric1_bot1, metric2_bot1, metric3_bot1, metric1_mbot1, metric2_mbot1, metric3_mbot1 = test_simulation_model1(alpha_values, k_values, max_iter, timeout, num_simulations, model1)"
   ]
  },
  {
   "cell_type": "code",
   "execution_count": null,
   "id": "da5bdbea",
   "metadata": {},
   "outputs": [],
   "source": [
    "# print(metric1_bot1, metric2_bot1, metric3_bot1)\n",
    "# print(metric1_mbot1, metric2_mbot1, metric3_mbot1)"
   ]
  }
 ],
 "metadata": {
  "kernelspec": {
   "display_name": "Python 3 (ipykernel)",
   "language": "python",
   "name": "python3"
  },
  "language_info": {
   "codemirror_mode": {
    "name": "ipython",
    "version": 3
   },
   "file_extension": ".py",
   "mimetype": "text/x-python",
   "name": "python",
   "nbconvert_exporter": "python",
   "pygments_lexer": "ipython3",
   "version": "3.9.13"
  }
 },
 "nbformat": 4,
 "nbformat_minor": 5
}
