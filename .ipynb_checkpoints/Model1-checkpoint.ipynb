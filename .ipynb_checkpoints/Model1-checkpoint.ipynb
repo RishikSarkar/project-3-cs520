{
 "cells": [
  {
   "cell_type": "markdown",
   "id": "b9ef4437",
   "metadata": {},
   "source": [
    "# Model 1: Modeling Selected Actions"
   ]
  },
  {
   "cell_type": "markdown",
   "id": "a948f47d",
   "metadata": {},
   "source": [
    "The purpose of this model is to predict the action that the bot will select for a given state of the simulation."
   ]
  },
  {
   "cell_type": "markdown",
   "id": "968dc924",
   "metadata": {},
   "source": [
    "## Preliminary Setup"
   ]
  },
  {
   "cell_type": "markdown",
   "id": "956b6c02",
   "metadata": {},
   "source": [
    "### Imports"
   ]
  },
  {
   "cell_type": "code",
   "execution_count": 1,
   "id": "19864ca6",
   "metadata": {},
   "outputs": [],
   "source": [
    "import os\n",
    "import numpy as np\n",
    "import random\n",
    "import math\n",
    "import json\n",
    "import pandas as pd\n",
    "import ast"
   ]
  },
  {
   "cell_type": "code",
   "execution_count": 2,
   "id": "c24f8985",
   "metadata": {},
   "outputs": [],
   "source": [
    "# %pip install json"
   ]
  },
  {
   "cell_type": "code",
   "execution_count": 3,
   "id": "490bd53b",
   "metadata": {},
   "outputs": [],
   "source": [
    "import nbimporter"
   ]
  },
  {
   "cell_type": "markdown",
   "id": "2b1f15c9",
   "metadata": {},
   "source": [
    "### Additional Bot Config"
   ]
  },
  {
   "cell_type": "code",
   "execution_count": 4,
   "id": "9517466d",
   "metadata": {},
   "outputs": [],
   "source": [
    "import Bot1"
   ]
  },
  {
   "cell_type": "code",
   "execution_count": 5,
   "id": "66caae62",
   "metadata": {},
   "outputs": [],
   "source": [
    "file_name = 'Data/Model1/model1_data_raw.csv'"
   ]
  },
  {
   "cell_type": "code",
   "execution_count": 6,
   "id": "40117790",
   "metadata": {},
   "outputs": [],
   "source": [
    "%run Bot1.ipynb"
   ]
  },
  {
   "cell_type": "code",
   "execution_count": 7,
   "id": "4b5f4c11",
   "metadata": {},
   "outputs": [],
   "source": [
    "grid, open_cells = create_grid() # Fixed grid orientation"
   ]
  },
  {
   "cell_type": "code",
   "execution_count": 8,
   "id": "62b7e77c",
   "metadata": {},
   "outputs": [],
   "source": [
    "def determine_probabilities(bot, matrix):\n",
    "    directions = {'up': (bot[0], bot[1] - 1), \n",
    "                  'down': (bot[0], bot[1] + 1), \n",
    "                  'left': (bot[0] - 1, bot[1]), \n",
    "                  'right': (bot[0] + 1, bot[1]),\n",
    "                  'stay': bot}\n",
    "    return [matrix.get(directions[direction], 0) for direction in ['up', 'down', 'left', 'right', 'stay']]"
   ]
  },
  {
   "cell_type": "code",
   "execution_count": 9,
   "id": "7a364980",
   "metadata": {},
   "outputs": [],
   "source": [
    "def Bot1_collect_data(k, alpha, max_iter, timeout):\n",
    "    global grid, open_cells\n",
    "    \n",
    "    grid, open_cells = reset_grid(grid, open_cells)\n",
    "    bot, ship, open_cells = place_bot(grid, open_cells)\n",
    "\n",
    "    crew_list = []\n",
    "    alien_list = []\n",
    "    d_lookup_table = {}\n",
    "    \n",
    "    data_log = [] # Data Log Initialization\n",
    "\n",
    "    crew_list, ship = place_crew(ship, open_cells, crew_list)\n",
    "    alien_list, ship = place_alien(ship, open_cells, alien_list, bot, k)\n",
    "\n",
    "    alien_matrix = initialize_alienmatrix(open_cells, bot, k)\n",
    "    crew_matrix = initialize_crewmatrix(open_cells, crew_list, bot)\n",
    "    \n",
    "    alien_detected = False\n",
    "    crew_detected = False\n",
    "    \n",
    "    next_move_str = 'stay'\n",
    "\n",
    "    win_count = 0\n",
    "    loss_count = 0\n",
    "    move = 0\n",
    "    win_move_count = []\n",
    "    marker = 0\n",
    "\n",
    "    while (win_count + loss_count) < max_iter:\n",
    "        neighbors = check_valid_neighbors(len(ship), bot[0], bot[1])\n",
    "        open_moves = [neigh for neigh in neighbors if (grid[neigh] != 1)]\n",
    "        open_moves.append(bot) # Bot can stay in place \n",
    "        next_move = determine_move(open_moves, alien_matrix, crew_matrix)\n",
    "        \n",
    "#         alien_matrix_str_keys = {str(key): round(value, 5) for key, value in alien_matrix.items()}\n",
    "#         crew_matrix_str_keys = {str(key): round(value, 5) for key, value in crew_matrix.items()}\n",
    "\n",
    "#         alien_matrix_json = json.dumps(alien_matrix_str_keys)\n",
    "#         crew_matrix_json = json.dumps(crew_matrix_str_keys)\n",
    "\n",
    "#         alien_matrix_flat = [round(alien_matrix.get((x, y), 0), 5) for x in range(30) for y in range(30)]\n",
    "#         crew_matrix_flat = [round(crew_matrix.get((x, y), 0), 5) for x in range(30) for y in range(30)]\n",
    "\n",
    "        alien_probs = determine_probabilities(bot, alien_matrix)\n",
    "        crew_probs = determine_probabilities(bot, crew_matrix)\n",
    "        \n",
    "        # Convert relative move to string      \n",
    "        if next_move[0] > bot[0]:\n",
    "            next_move_str = 'right'\n",
    "        elif next_move[0] < bot[0]:\n",
    "            next_move_str = 'left'\n",
    "        elif next_move[1] > bot[1]:\n",
    "            next_move_str = 'up'\n",
    "        elif next_move[1] < bot[1]:\n",
    "            next_move_str = 'down'\n",
    "        else:\n",
    "            next_move_str = 'stay'\n",
    "        \n",
    "        # One-Hot Encoding\n",
    "        actions = {'up': [1, 0, 0, 0, 0], 'down': [0, 1, 0, 0, 0], 'left': [0, 0, 1, 0, 0], 'right': [0, 0, 0, 1, 0], 'stay': [0, 0, 0, 0, 1]}\n",
    "        best_move_encoded = actions[next_move_str]\n",
    "        \n",
    "        log_entry = {\n",
    "            'bot_x': bot[0],\n",
    "            'bot_y': bot[1],\n",
    "            \n",
    "            'alien_up': alien_probs[0],\n",
    "            'alien_down': alien_probs[1],\n",
    "            'alien_left': alien_probs[2],\n",
    "            'alien_right': alien_probs[3],\n",
    "            'alien_stay': alien_probs[4],\n",
    "            \n",
    "            'crew_up': crew_probs[0],\n",
    "            'crew_down': crew_probs[1],\n",
    "            'crew_left': crew_probs[2],\n",
    "            'crew_right': crew_probs[3],\n",
    "            'crew_stay': crew_probs[4],\n",
    "            \n",
    "            'alien_detected': 1 if alien_detected else 0,\n",
    "            'crew_detected': 1 if crew_detected else 0,\n",
    "            \n",
    "            'chosen_action': best_move_encoded\n",
    "        }\n",
    "        data_log.append(log_entry)\n",
    "        \n",
    "        prev_win_count = win_count\n",
    "        bot, crew_list, ship, open_cells, win_count, marker = move_bot(ship, bot, next_move, crew_list, alien_list, open_cells, win_count, 1)\n",
    "        move += 1\n",
    "\n",
    "        if marker == 1 or move >= timeout:\n",
    "            loss_count += 1\n",
    "            print(f\"Bot captured! Win Count: {win_count}, Loss Count: {loss_count}\")\n",
    "\n",
    "            grid, open_cells = reset_grid(grid, open_cells)\n",
    "            bot, ship, open_cells = place_bot(grid, open_cells)\n",
    "            crew_list = []\n",
    "            alien_list = []\n",
    "            d_lookup_table = {}\n",
    "\n",
    "            crew_list, ship = place_crew(ship, open_cells, crew_list)\n",
    "            alien_list, ship = place_alien(ship, open_cells, alien_list, bot, k)\n",
    "\n",
    "            alien_matrix = initialize_alienmatrix(open_cells, bot, k)\n",
    "            crew_matrix = initialize_crewmatrix(open_cells, crew_list, bot)\n",
    "            marker = 0\n",
    "            move = 0\n",
    "\n",
    "            continue\n",
    "\n",
    "        if win_count > prev_win_count:\n",
    "            print(f\"Crew saved! Win Count: {win_count}, Loss Count: {loss_count}\")\n",
    "            win_move_count.append(move)\n",
    "            move = 0\n",
    "            d_lookup_table = {}\n",
    "            alien_matrix = initialize_alienmatrix(open_cells, bot, k)\n",
    "            crew_matrix = initialize_crewmatrix(open_cells, crew_list, bot)\n",
    "        \n",
    "        print(f\"Bot: {bot}, Crew: {crew_list}, Aliens: {alien_list}\")\n",
    "\n",
    "        alien_matrix, crew_matrix = update_afterbotmove(bot, alien_matrix, crew_matrix)\n",
    "\n",
    "        # Move bot to optimal neighbor\n",
    "        marker, alien_list, ship = move_aliens(ship, alien_list, bot) # Move alien randomly\n",
    "\n",
    "        if marker == 1 or move >= timeout:\n",
    "            loss_count += 1\n",
    "            print(f\"Bot captured! Win Count: {win_count}, Loss Count: {loss_count}\")\n",
    "\n",
    "            grid, open_cells = reset_grid(grid, open_cells)\n",
    "            bot, ship, open_cells = place_bot(grid, open_cells)\n",
    "            crew_list = []\n",
    "            alien_list = []\n",
    "            d_lookup_table = {}\n",
    "\n",
    "            crew_list, ship = place_crew(ship, open_cells, crew_list)\n",
    "            alien_list, ship = place_alien(ship, open_cells, alien_list, bot, k)\n",
    "\n",
    "            alien_matrix = initialize_alienmatrix(open_cells, bot, k)\n",
    "            crew_matrix = initialize_crewmatrix(open_cells, crew_list, bot)\n",
    "            marker = 0\n",
    "            move = 0\n",
    "\n",
    "            continue\n",
    "        \n",
    "        alien_matrix = update_afteralienmove(ship, alien_list, alien_matrix) # Update after alien move\n",
    "        \n",
    "        alien_detected = alien_sensor(alien_list, bot, k) # Run Alien Sensor\n",
    "        crew_detected, d_lookup_table = crew_sensor(ship, bot, alpha, d_lookup_table, crew_list) # Run Crew Sensor\n",
    "        \n",
    "        alien_matrix = update_alienmatrix(alien_matrix, alien_detected, bot, k) # Update based on alien sensor\n",
    "\n",
    "        crew_matrix = update_crewmatrix(crew_matrix, crew_detected, d_lookup_table, bot, alpha) # Update based on crew sensor\n",
    "    \n",
    "    df = pd.DataFrame(data_log)\n",
    "    \n",
    "    if os.path.isfile(file_name):\n",
    "        df.to_csv(file_name, mode='a', index=False, header=False)\n",
    "    else:\n",
    "        df.to_csv(file_name, mode='w', index=False, header=True)\n",
    "\n",
    "    return sum(win_move_count) // max(1, len(win_move_count)), (win_count / max(1, (win_count + loss_count))), win_count"
   ]
  },
  {
   "cell_type": "code",
   "execution_count": 10,
   "id": "9b563458",
   "metadata": {},
   "outputs": [],
   "source": [
    "def Bot1_simulation(alpha_values, k_values, max_iter, timeout, num_simulations):\n",
    "    avg_rescue_moves = {k: [] for k in k_values}\n",
    "    prob_crew_rescue = {k: [] for k in k_values}\n",
    "    avg_crew_saved = {k: [] for k in k_values}\n",
    "\n",
    "    for k in k_values:\n",
    "        for alpha in alpha_values:\n",
    "            total_metric1, total_metric2, total_metric3 = 0, 0, 0\n",
    "            \n",
    "            for i in range(num_simulations):\n",
    "                metric1, metric2, metric3 = Bot1_collect_data(k, alpha, max_iter, timeout)\n",
    "                total_metric1 += metric1\n",
    "                total_metric2 += metric2\n",
    "                total_metric3 += metric3\n",
    "\n",
    "            avg_metric1 = total_metric1 / num_simulations\n",
    "            avg_metric2 = total_metric2 / num_simulations\n",
    "            avg_metric3 = total_metric3 / num_simulations\n",
    "\n",
    "            print(f\"k: {k}, Alpha: {alpha}\\nAverage Rescue Moves: {avg_metric1}\\nProbability of Crew Rescue: {avg_metric2}\\nAverage Crew Saved: {avg_metric3}\\n\")\n",
    "\n",
    "            avg_rescue_moves[k].append(avg_metric1)\n",
    "            prob_crew_rescue[k].append(avg_metric2)\n",
    "            avg_crew_saved[k].append(avg_metric3)\n",
    "\n",
    "    return avg_rescue_moves, prob_crew_rescue, avg_crew_saved"
   ]
  },
  {
   "cell_type": "code",
   "execution_count": 11,
   "id": "fd94d814",
   "metadata": {},
   "outputs": [],
   "source": [
    "def one_alien_one_crew(alpha_values, k_values, max_iter, timeout, num_simulations):\n",
    "    bot1_avg_rescue_moves, bot1_prob_crew_rescue, bot1_avg_crew_saved = Bot1_simulation(alpha_values, k_values, max_iter, timeout, num_simulations)\n",
    "\n",
    "    bot1_prob_crew_rescue = {k: [round(prob, 3) for prob in probs] for k, probs in bot1_prob_crew_rescue.items()}\n",
    "\n",
    "    print(bot1_avg_rescue_moves, bot1_prob_crew_rescue, bot1_avg_crew_saved, \"\\n\")"
   ]
  },
  {
   "cell_type": "code",
   "execution_count": 12,
   "id": "a78e4b3a",
   "metadata": {},
   "outputs": [],
   "source": [
    "alpha_values = [0.004] # 0.004 > 0.01\n",
    "k_values = [3]\n",
    "max_iter = 30\n",
    "timeout = 10000\n",
    "num_simulations = 50"
   ]
  },
  {
   "cell_type": "code",
   "execution_count": 13,
   "id": "ec1db10e",
   "metadata": {},
   "outputs": [],
   "source": [
    "# one_alien_one_crew(alpha_values, k_values, max_iter, timeout, num_simulations)"
   ]
  },
  {
   "cell_type": "code",
   "execution_count": 14,
   "id": "eec7c173",
   "metadata": {},
   "outputs": [],
   "source": [
    "# k: 3, Alpha: 0.004\n",
    "# Average Rescue Moves: 585.05\n",
    "# Probability of Crew Rescue: 0.71\n",
    "# Average Crew Saved: 21.3\n",
    "\n",
    "# {3: [585.05]} {3: [0.71]} {3: [21.3]} "
   ]
  },
  {
   "cell_type": "markdown",
   "id": "fbcc525f",
   "metadata": {},
   "source": [
    "### Model 1 Training Functions"
   ]
  },
  {
   "cell_type": "code",
   "execution_count": 15,
   "id": "098f4a0c",
   "metadata": {},
   "outputs": [],
   "source": [
    "# Softmax Function\n",
    "def softmax(z):\n",
    "    e_z = np.exp(z - np.max(z, axis=1, keepdims=True))\n",
    "    return e_z / np.sum(e_z, axis=1, keepdims=True)"
   ]
  },
  {
   "cell_type": "code",
   "execution_count": 16,
   "id": "264fae45",
   "metadata": {},
   "outputs": [],
   "source": [
    "# Initialize weights and biases\n",
    "def init_params(num_features, num_classes):\n",
    "    W = np.random.randn(num_features, num_classes) * 0.01 # Initialize to a small random number\n",
    "    b = np.zeros((1, num_classes))\n",
    "#     print(W, b, W.shape, b.shape)\n",
    "    return W, b"
   ]
  },
  {
   "cell_type": "code",
   "execution_count": 17,
   "id": "4664ecec",
   "metadata": {},
   "outputs": [],
   "source": [
    "# Loss Function\n",
    "def loss_function(y_true, y_pred, valid):\n",
    "    n = y_true.shape[0]\n",
    "\n",
    "    valid_y_pred = y_pred * valid\n",
    "    valid_y_pred_sum = valid_y_pred.sum(axis=1, keepdims=True)\n",
    "    valid_y_pred /= valid_y_pred_sum\n",
    "    \n",
    "    y_true_array = np.array(y_true['chosen_action'].apply(ast.literal_eval).tolist())\n",
    "#     print(y_true_array, y_true_array.shape, valid_y_pred, valid_y_pred.shape)\n",
    "\n",
    "    loss = -np.sum(y_true_array * np.log(valid_y_pred + 1e-15)) / n  # Add a small number to prevent log(0)\n",
    "    return loss"
   ]
  },
  {
   "cell_type": "code",
   "execution_count": 18,
   "id": "aaeb4d1c",
   "metadata": {},
   "outputs": [],
   "source": [
    "# Calculate the gradient\n",
    "def compute_gradient(X, y_true, y_pred, valid):\n",
    "    n = X.shape[0]\n",
    "    \n",
    "    valid_y_pred = y_pred * valid\n",
    "    valid_y_pred_sum = valid_y_pred.sum(axis=1, keepdims=True)\n",
    "    valid_y_pred /= valid_y_pred_sum\n",
    "    \n",
    "    y_true_array = np.array(y_true['chosen_action'].apply(ast.literal_eval).tolist())\n",
    "    \n",
    "    dW = (1 / n) * np.dot(X.T, (valid_y_pred - y_true_array))\n",
    "    db = (1 / n) * np.sum(valid_y_pred - y_true_array, axis=0, keepdims=True)\n",
    "    return dW, db"
   ]
  },
  {
   "cell_type": "code",
   "execution_count": 19,
   "id": "383b2490",
   "metadata": {},
   "outputs": [],
   "source": [
    "# Prediction Function\n",
    "def predict(X, W, b):\n",
    "    z = np.dot(X, W) + b\n",
    "    y_pred = softmax(z)\n",
    "    return y_pred"
   ]
  },
  {
   "cell_type": "code",
   "execution_count": 20,
   "id": "e38fa296",
   "metadata": {},
   "outputs": [],
   "source": [
    "# Prediction Function to account for cases with invalid predictions\n",
    "# For example, [0, 0.1, 0.2, 0.4, 0.3] would become [0, 0.1, 0, 0, 0.3] if left and right were invalid, and then normalization would cause it to become [0, 0.25, 0, 0, 0.75]\n",
    "def predict_constrained(X, W, b, valid):\n",
    "    y_pred = predict(X, W, b)\n",
    "    \n",
    "    valid_y_pred = y_pred * valid\n",
    "    valid_y_pred_sum = valid_y_pred.sum(axis=1, keepdims=True)\n",
    "    valid_y_pred /= valid_y_pred_sum\n",
    "    \n",
    "    return valid_y_pred"
   ]
  },
  {
   "cell_type": "code",
   "execution_count": 21,
   "id": "886a06a2",
   "metadata": {},
   "outputs": [],
   "source": [
    "# Train Function that uses SGD and GD\n",
    "def train(X, y, valid, alpha, epochs, initial_batch_size, loss_threshold):\n",
    "    num_features = X.shape[1]\n",
    "    num_classes = 5\n",
    "    n = X.shape[0]\n",
    "\n",
    "    W, b = init_params(num_features, num_classes)\n",
    "#     print(W, b)\n",
    "\n",
    "    previous_loss = float('inf')  # Set starting loss to infinity\n",
    "    batch_size = initial_batch_size  # Start with SGD (smaller batch size)\n",
    "    switched_to_gd = False\n",
    "    loss_list = []  # Store loss values over time\n",
    "    \n",
    "    # Number of times iterated through entire dataset\n",
    "    for epoch in range(epochs):\n",
    "        current_loss = 0\n",
    "        \n",
    "        # Only iterate over batch size. In SGD, batch size is small, so iterate over smaller batches and update loss\n",
    "        for i in range(0, n, batch_size):\n",
    "            X_batch = X.iloc[i:i + batch_size]\n",
    "            y_batch = y.iloc[i:i + batch_size]\n",
    "            valid_batch = valid[i:i + batch_size]\n",
    "\n",
    "            y_pred = predict(X_batch, W, b)\n",
    "#             print(y_batch, y_pred, valid_batch)\n",
    "            batch_loss = loss_function(y_batch, y_pred, valid_batch)\n",
    "            current_loss += batch_loss\n",
    "\n",
    "            dW, db = compute_gradient(X_batch, y_batch, y_pred, valid_batch)\n",
    "            W -= alpha * dW\n",
    "            b -= alpha * db\n",
    "\n",
    "        current_loss /= (n // batch_size)\n",
    "        loss_list.append(current_loss)\n",
    "\n",
    "        # Check if loss threshold is met to switch to GD\n",
    "        if not switched_to_gd and abs(previous_loss - current_loss) < loss_threshold:\n",
    "            batch_size = n  # Set batch size to full dataset (switch to Gradient Descent)\n",
    "            switched_to_gd = True\n",
    "            print(f\"Switched to Gradient Descent. Epoch: {epoch}\")\n",
    "\n",
    "        previous_loss = current_loss\n",
    "        \n",
    "        print(f\"Epoch {epoch}, Loss: {current_loss}\")\n",
    "\n",
    "    return W, b, loss_list"
   ]
  },
  {
   "cell_type": "code",
   "execution_count": 22,
   "id": "d02026c2",
   "metadata": {},
   "outputs": [],
   "source": [
    "def is_valid(x, y, move, grid, open_cells):\n",
    "    if move == 'up' and (x, y + 1) in open_cells:\n",
    "        return 1\n",
    "    elif move == 'down' and (x, y - 1) in open_cells:\n",
    "        return 1\n",
    "    elif move == 'left' and (x - 1, y) in open_cells:\n",
    "        return 1\n",
    "    elif move == 'right' and (x + 1, y) in open_cells:\n",
    "        return 1\n",
    "    elif move == 'stay':\n",
    "        return 1\n",
    "    else:\n",
    "        return 0"
   ]
  },
  {
   "cell_type": "code",
   "execution_count": 23,
   "id": "4ae541c4",
   "metadata": {},
   "outputs": [],
   "source": [
    "grid, open_cells = reset_grid(grid, open_cells)\n",
    "\n",
    "def create_valid_matrix(X):\n",
    "    global grid, open_cells\n",
    "    directions = ['up', 'down', 'left', 'right', 'stay']\n",
    "    valid_list = []\n",
    "    for i in range(len(X)):\n",
    "        x, y = X.iloc[i, 0], X.iloc[i, 1]\n",
    "        validity_for_each_direction = [is_valid(x, y, move, grid, open_cells) for move in directions]\n",
    "        valid_list.append(validity_for_each_direction)\n",
    "\n",
    "    valid_array = np.array(valid_list)\n",
    "    return valid_array"
   ]
  },
  {
   "cell_type": "code",
   "execution_count": 24,
   "id": "21671bf8",
   "metadata": {},
   "outputs": [],
   "source": [
    "def plot_training_loss(loss_list):\n",
    "    plt.figure(figsize=(10, 6))\n",
    "    plt.plot(losses, label='Loss per Epoch')\n",
    "    plt.title('Model Loss over Epochs')\n",
    "    plt.xlabel('Epoch')\n",
    "    plt.ylabel('Loss')\n",
    "    plt.legend()\n",
    "    plt.grid(True)\n",
    "    plt.show()"
   ]
  },
  {
   "cell_type": "markdown",
   "id": "0a5896e3",
   "metadata": {},
   "source": [
    "### Model 1 Testing Functions"
   ]
  },
  {
   "cell_type": "code",
   "execution_count": 25,
   "id": "48d8b77e",
   "metadata": {},
   "outputs": [],
   "source": [
    "def calculate_accuracy(y_true, y_pred):\n",
    "    correct_predictions = (y_true == y_pred)\n",
    "    accuracy = correct_predictions.sum() / correct_predictions.size\n",
    "    return accuracy"
   ]
  },
  {
   "cell_type": "code",
   "execution_count": 26,
   "id": "427bcf1b",
   "metadata": {},
   "outputs": [],
   "source": [
    "def test(W, b, X_train, y_train, valid_train, X_test, y_test, valid_test):\n",
    "    y_pred_train = predict_constrained(X_train, W, b, valid_train).argmax(axis=1)\n",
    "    train_acc = calculate_accuracy(y_train, y_pred_train)\n",
    "    \n",
    "    y_pred_test = predict_constrained(X_test, W, b, valid_test).argmax(axis=1)\n",
    "    test_acc = calculate_accuracy(y_test, y_pred_test)\n",
    "    \n",
    "    print(\"Train Accuracy:\", train_acc)\n",
    "    print(\"Test Accuracy:\", test_acc)\n",
    "    \n",
    "    if train_acc > test_acc:\n",
    "        print(\"Model1 overfitted on Training Data\")"
   ]
  },
  {
   "cell_type": "markdown",
   "id": "31d756a9",
   "metadata": {},
   "source": [
    "### Data Preprocessing"
   ]
  },
  {
   "cell_type": "code",
   "execution_count": 27,
   "id": "3476c985",
   "metadata": {},
   "outputs": [],
   "source": [
    "data = pd.read_csv('Data/Model1/model1_data_raw.csv')"
   ]
  },
  {
   "cell_type": "code",
   "execution_count": 28,
   "id": "d0cf651f",
   "metadata": {},
   "outputs": [
    {
     "data": {
      "text/html": [
       "<div>\n",
       "<style scoped>\n",
       "    .dataframe tbody tr th:only-of-type {\n",
       "        vertical-align: middle;\n",
       "    }\n",
       "\n",
       "    .dataframe tbody tr th {\n",
       "        vertical-align: top;\n",
       "    }\n",
       "\n",
       "    .dataframe thead th {\n",
       "        text-align: right;\n",
       "    }\n",
       "</style>\n",
       "<table border=\"1\" class=\"dataframe\">\n",
       "  <thead>\n",
       "    <tr style=\"text-align: right;\">\n",
       "      <th></th>\n",
       "      <th>bot_x</th>\n",
       "      <th>bot_y</th>\n",
       "      <th>alien_up</th>\n",
       "      <th>alien_down</th>\n",
       "      <th>alien_left</th>\n",
       "      <th>alien_right</th>\n",
       "      <th>alien_stay</th>\n",
       "      <th>crew_up</th>\n",
       "      <th>crew_down</th>\n",
       "      <th>crew_left</th>\n",
       "      <th>crew_right</th>\n",
       "      <th>crew_stay</th>\n",
       "      <th>alien_detected</th>\n",
       "      <th>crew_detected</th>\n",
       "      <th>chosen_action</th>\n",
       "    </tr>\n",
       "  </thead>\n",
       "  <tbody>\n",
       "    <tr>\n",
       "      <th>0</th>\n",
       "      <td>10</td>\n",
       "      <td>9</td>\n",
       "      <td>0.0</td>\n",
       "      <td>0.0</td>\n",
       "      <td>0.0</td>\n",
       "      <td>0.0</td>\n",
       "      <td>0.0</td>\n",
       "      <td>0.000000</td>\n",
       "      <td>0.001634</td>\n",
       "      <td>0.0</td>\n",
       "      <td>0.001634</td>\n",
       "      <td>0.0</td>\n",
       "      <td>0</td>\n",
       "      <td>0</td>\n",
       "      <td>[0, 0, 0, 1, 0]</td>\n",
       "    </tr>\n",
       "    <tr>\n",
       "      <th>1</th>\n",
       "      <td>11</td>\n",
       "      <td>9</td>\n",
       "      <td>0.0</td>\n",
       "      <td>0.0</td>\n",
       "      <td>0.0</td>\n",
       "      <td>0.0</td>\n",
       "      <td>0.0</td>\n",
       "      <td>0.000000</td>\n",
       "      <td>0.000000</td>\n",
       "      <td>0.0</td>\n",
       "      <td>0.001758</td>\n",
       "      <td>0.0</td>\n",
       "      <td>0</td>\n",
       "      <td>1</td>\n",
       "      <td>[0, 0, 0, 1, 0]</td>\n",
       "    </tr>\n",
       "    <tr>\n",
       "      <th>2</th>\n",
       "      <td>12</td>\n",
       "      <td>9</td>\n",
       "      <td>0.0</td>\n",
       "      <td>0.0</td>\n",
       "      <td>0.0</td>\n",
       "      <td>0.0</td>\n",
       "      <td>0.0</td>\n",
       "      <td>0.001879</td>\n",
       "      <td>0.001879</td>\n",
       "      <td>0.0</td>\n",
       "      <td>0.000000</td>\n",
       "      <td>0.0</td>\n",
       "      <td>0</td>\n",
       "      <td>1</td>\n",
       "      <td>[1, 0, 0, 0, 0]</td>\n",
       "    </tr>\n",
       "    <tr>\n",
       "      <th>3</th>\n",
       "      <td>12</td>\n",
       "      <td>10</td>\n",
       "      <td>0.0</td>\n",
       "      <td>0.0</td>\n",
       "      <td>0.0</td>\n",
       "      <td>0.0</td>\n",
       "      <td>0.0</td>\n",
       "      <td>0.000000</td>\n",
       "      <td>0.001998</td>\n",
       "      <td>0.0</td>\n",
       "      <td>0.000000</td>\n",
       "      <td>0.0</td>\n",
       "      <td>0</td>\n",
       "      <td>1</td>\n",
       "      <td>[1, 0, 0, 0, 0]</td>\n",
       "    </tr>\n",
       "    <tr>\n",
       "      <th>4</th>\n",
       "      <td>12</td>\n",
       "      <td>11</td>\n",
       "      <td>0.0</td>\n",
       "      <td>0.0</td>\n",
       "      <td>0.0</td>\n",
       "      <td>0.0</td>\n",
       "      <td>0.0</td>\n",
       "      <td>0.000000</td>\n",
       "      <td>0.002111</td>\n",
       "      <td>0.0</td>\n",
       "      <td>0.002111</td>\n",
       "      <td>0.0</td>\n",
       "      <td>0</td>\n",
       "      <td>1</td>\n",
       "      <td>[1, 0, 0, 0, 0]</td>\n",
       "    </tr>\n",
       "  </tbody>\n",
       "</table>\n",
       "</div>"
      ],
      "text/plain": [
       "   bot_x  bot_y  alien_up  alien_down  alien_left  alien_right  alien_stay  \\\n",
       "0     10      9       0.0         0.0         0.0          0.0         0.0   \n",
       "1     11      9       0.0         0.0         0.0          0.0         0.0   \n",
       "2     12      9       0.0         0.0         0.0          0.0         0.0   \n",
       "3     12     10       0.0         0.0         0.0          0.0         0.0   \n",
       "4     12     11       0.0         0.0         0.0          0.0         0.0   \n",
       "\n",
       "    crew_up  crew_down  crew_left  crew_right  crew_stay  alien_detected  \\\n",
       "0  0.000000   0.001634        0.0    0.001634        0.0               0   \n",
       "1  0.000000   0.000000        0.0    0.001758        0.0               0   \n",
       "2  0.001879   0.001879        0.0    0.000000        0.0               0   \n",
       "3  0.000000   0.001998        0.0    0.000000        0.0               0   \n",
       "4  0.000000   0.002111        0.0    0.002111        0.0               0   \n",
       "\n",
       "   crew_detected    chosen_action  \n",
       "0              0  [0, 0, 0, 1, 0]  \n",
       "1              1  [0, 0, 0, 1, 0]  \n",
       "2              1  [1, 0, 0, 0, 0]  \n",
       "3              1  [1, 0, 0, 0, 0]  \n",
       "4              1  [1, 0, 0, 0, 0]  "
      ]
     },
     "execution_count": 28,
     "metadata": {},
     "output_type": "execute_result"
    }
   ],
   "source": [
    "data.head()"
   ]
  },
  {
   "cell_type": "code",
   "execution_count": 29,
   "id": "6de45293",
   "metadata": {},
   "outputs": [
    {
     "data": {
      "text/plain": [
       "(957870, 15)"
      ]
     },
     "execution_count": 29,
     "metadata": {},
     "output_type": "execute_result"
    }
   ],
   "source": [
    "data.shape"
   ]
  },
  {
   "cell_type": "code",
   "execution_count": 30,
   "id": "88bd731d",
   "metadata": {},
   "outputs": [],
   "source": [
    "# data['alien_prob'] = data[['alien_up', 'alien_down', 'alien_left', 'alien_right', 'alien_stay']].values.tolist()\n",
    "# data['crew_prob'] = data[['crew_up', 'crew_down', 'crew_left', 'crew_right', 'crew_stay']].values.tolist()"
   ]
  },
  {
   "cell_type": "code",
   "execution_count": 31,
   "id": "00591e89",
   "metadata": {},
   "outputs": [],
   "source": [
    "# data = data.drop(columns=['alien_up', 'alien_down', 'alien_left', 'alien_right', 'alien_stay', 'crew_up', 'crew_down', 'crew_left', 'crew_right', 'crew_stay'], axis=1)"
   ]
  },
  {
   "cell_type": "code",
   "execution_count": 32,
   "id": "a95a4a17",
   "metadata": {},
   "outputs": [],
   "source": [
    "# output = data.pop('chosen_action')\n",
    "# data.insert(len(data.columns), output.name, output)"
   ]
  },
  {
   "cell_type": "code",
   "execution_count": 33,
   "id": "297c0ea3",
   "metadata": {},
   "outputs": [],
   "source": [
    "# data.head()"
   ]
  },
  {
   "cell_type": "code",
   "execution_count": 34,
   "id": "dc4ce0d6",
   "metadata": {},
   "outputs": [
    {
     "data": {
      "text/plain": [
       "(234714, 15)"
      ]
     },
     "execution_count": 34,
     "metadata": {},
     "output_type": "execute_result"
    }
   ],
   "source": [
    "model1_df = data.drop_duplicates()\n",
    "model1_df.shape"
   ]
  },
  {
   "cell_type": "code",
   "execution_count": 35,
   "id": "c7b827f5",
   "metadata": {},
   "outputs": [],
   "source": [
    "# for col in model1_df.columns:\n",
    "#     if model1_df[col].apply(lambda x: isinstance(x, tuple)).any():\n",
    "#         model1_df[col] = model1_df[col].apply(list)"
   ]
  },
  {
   "cell_type": "code",
   "execution_count": 36,
   "id": "41623e64",
   "metadata": {},
   "outputs": [
    {
     "data": {
      "text/html": [
       "<div>\n",
       "<style scoped>\n",
       "    .dataframe tbody tr th:only-of-type {\n",
       "        vertical-align: middle;\n",
       "    }\n",
       "\n",
       "    .dataframe tbody tr th {\n",
       "        vertical-align: top;\n",
       "    }\n",
       "\n",
       "    .dataframe thead th {\n",
       "        text-align: right;\n",
       "    }\n",
       "</style>\n",
       "<table border=\"1\" class=\"dataframe\">\n",
       "  <thead>\n",
       "    <tr style=\"text-align: right;\">\n",
       "      <th></th>\n",
       "      <th>bot_x</th>\n",
       "      <th>bot_y</th>\n",
       "      <th>alien_up</th>\n",
       "      <th>alien_down</th>\n",
       "      <th>alien_left</th>\n",
       "      <th>alien_right</th>\n",
       "      <th>alien_stay</th>\n",
       "      <th>crew_up</th>\n",
       "      <th>crew_down</th>\n",
       "      <th>crew_left</th>\n",
       "      <th>crew_right</th>\n",
       "      <th>crew_stay</th>\n",
       "      <th>alien_detected</th>\n",
       "      <th>crew_detected</th>\n",
       "      <th>chosen_action</th>\n",
       "    </tr>\n",
       "  </thead>\n",
       "  <tbody>\n",
       "    <tr>\n",
       "      <th>0</th>\n",
       "      <td>10</td>\n",
       "      <td>9</td>\n",
       "      <td>0.0</td>\n",
       "      <td>0.0</td>\n",
       "      <td>0.0</td>\n",
       "      <td>0.0</td>\n",
       "      <td>0.0</td>\n",
       "      <td>0.000000</td>\n",
       "      <td>0.001634</td>\n",
       "      <td>0.0</td>\n",
       "      <td>0.001634</td>\n",
       "      <td>0.0</td>\n",
       "      <td>0</td>\n",
       "      <td>0</td>\n",
       "      <td>[0, 0, 0, 1, 0]</td>\n",
       "    </tr>\n",
       "    <tr>\n",
       "      <th>1</th>\n",
       "      <td>11</td>\n",
       "      <td>9</td>\n",
       "      <td>0.0</td>\n",
       "      <td>0.0</td>\n",
       "      <td>0.0</td>\n",
       "      <td>0.0</td>\n",
       "      <td>0.0</td>\n",
       "      <td>0.000000</td>\n",
       "      <td>0.000000</td>\n",
       "      <td>0.0</td>\n",
       "      <td>0.001758</td>\n",
       "      <td>0.0</td>\n",
       "      <td>0</td>\n",
       "      <td>1</td>\n",
       "      <td>[0, 0, 0, 1, 0]</td>\n",
       "    </tr>\n",
       "    <tr>\n",
       "      <th>2</th>\n",
       "      <td>12</td>\n",
       "      <td>9</td>\n",
       "      <td>0.0</td>\n",
       "      <td>0.0</td>\n",
       "      <td>0.0</td>\n",
       "      <td>0.0</td>\n",
       "      <td>0.0</td>\n",
       "      <td>0.001879</td>\n",
       "      <td>0.001879</td>\n",
       "      <td>0.0</td>\n",
       "      <td>0.000000</td>\n",
       "      <td>0.0</td>\n",
       "      <td>0</td>\n",
       "      <td>1</td>\n",
       "      <td>[1, 0, 0, 0, 0]</td>\n",
       "    </tr>\n",
       "    <tr>\n",
       "      <th>3</th>\n",
       "      <td>12</td>\n",
       "      <td>10</td>\n",
       "      <td>0.0</td>\n",
       "      <td>0.0</td>\n",
       "      <td>0.0</td>\n",
       "      <td>0.0</td>\n",
       "      <td>0.0</td>\n",
       "      <td>0.000000</td>\n",
       "      <td>0.001998</td>\n",
       "      <td>0.0</td>\n",
       "      <td>0.000000</td>\n",
       "      <td>0.0</td>\n",
       "      <td>0</td>\n",
       "      <td>1</td>\n",
       "      <td>[1, 0, 0, 0, 0]</td>\n",
       "    </tr>\n",
       "    <tr>\n",
       "      <th>4</th>\n",
       "      <td>12</td>\n",
       "      <td>11</td>\n",
       "      <td>0.0</td>\n",
       "      <td>0.0</td>\n",
       "      <td>0.0</td>\n",
       "      <td>0.0</td>\n",
       "      <td>0.0</td>\n",
       "      <td>0.000000</td>\n",
       "      <td>0.002111</td>\n",
       "      <td>0.0</td>\n",
       "      <td>0.002111</td>\n",
       "      <td>0.0</td>\n",
       "      <td>0</td>\n",
       "      <td>1</td>\n",
       "      <td>[1, 0, 0, 0, 0]</td>\n",
       "    </tr>\n",
       "  </tbody>\n",
       "</table>\n",
       "</div>"
      ],
      "text/plain": [
       "   bot_x  bot_y  alien_up  alien_down  alien_left  alien_right  alien_stay  \\\n",
       "0     10      9       0.0         0.0         0.0          0.0         0.0   \n",
       "1     11      9       0.0         0.0         0.0          0.0         0.0   \n",
       "2     12      9       0.0         0.0         0.0          0.0         0.0   \n",
       "3     12     10       0.0         0.0         0.0          0.0         0.0   \n",
       "4     12     11       0.0         0.0         0.0          0.0         0.0   \n",
       "\n",
       "    crew_up  crew_down  crew_left  crew_right  crew_stay  alien_detected  \\\n",
       "0  0.000000   0.001634        0.0    0.001634        0.0               0   \n",
       "1  0.000000   0.000000        0.0    0.001758        0.0               0   \n",
       "2  0.001879   0.001879        0.0    0.000000        0.0               0   \n",
       "3  0.000000   0.001998        0.0    0.000000        0.0               0   \n",
       "4  0.000000   0.002111        0.0    0.002111        0.0               0   \n",
       "\n",
       "   crew_detected    chosen_action  \n",
       "0              0  [0, 0, 0, 1, 0]  \n",
       "1              1  [0, 0, 0, 1, 0]  \n",
       "2              1  [1, 0, 0, 0, 0]  \n",
       "3              1  [1, 0, 0, 0, 0]  \n",
       "4              1  [1, 0, 0, 0, 0]  "
      ]
     },
     "execution_count": 36,
     "metadata": {},
     "output_type": "execute_result"
    }
   ],
   "source": [
    "model1_df.head()"
   ]
  },
  {
   "cell_type": "code",
   "execution_count": 37,
   "id": "4cb9b32d",
   "metadata": {},
   "outputs": [],
   "source": [
    "model1_df.to_csv('Data/Model1/model1_data.csv', index=False)"
   ]
  },
  {
   "cell_type": "code",
   "execution_count": 38,
   "id": "51c57935",
   "metadata": {},
   "outputs": [],
   "source": [
    "train_size = int(0.8 * len(model1_df))\n",
    "\n",
    "train_df = model1_df[:train_size]\n",
    "test_df = model1_df[train_size:]"
   ]
  },
  {
   "cell_type": "code",
   "execution_count": 39,
   "id": "07825eb8",
   "metadata": {},
   "outputs": [
    {
     "data": {
      "text/plain": [
       "(187771, 15)"
      ]
     },
     "execution_count": 39,
     "metadata": {},
     "output_type": "execute_result"
    }
   ],
   "source": [
    "train_df.shape"
   ]
  },
  {
   "cell_type": "code",
   "execution_count": 40,
   "id": "15c3907a",
   "metadata": {},
   "outputs": [
    {
     "data": {
      "text/plain": [
       "(46943, 15)"
      ]
     },
     "execution_count": 40,
     "metadata": {},
     "output_type": "execute_result"
    }
   ],
   "source": [
    "test_df.shape"
   ]
  },
  {
   "cell_type": "code",
   "execution_count": 41,
   "id": "fdb3225b",
   "metadata": {},
   "outputs": [],
   "source": [
    "train_df.to_csv('Data/Model1/model1_train.csv', index=False)\n",
    "test_df.to_csv('Data/Model1/model1_test.csv', index=False)"
   ]
  },
  {
   "cell_type": "code",
   "execution_count": 42,
   "id": "dfa36f93",
   "metadata": {},
   "outputs": [],
   "source": [
    "X_train = train_df.iloc[:,:-1]\n",
    "y_train = train_df.iloc[:,-1:]\n",
    "\n",
    "X_test = test_df.iloc[:,:-1]\n",
    "y_test = test_df.iloc[:,-1:]"
   ]
  },
  {
   "cell_type": "code",
   "execution_count": null,
   "id": "9e34b5c2",
   "metadata": {},
   "outputs": [],
   "source": [
    "valid_train = create_valid_matrix(X_train)\n",
    "valid_test = create_valid_matrix(X_test)"
   ]
  },
  {
   "cell_type": "code",
   "execution_count": null,
   "id": "1ac1b5dc",
   "metadata": {},
   "outputs": [],
   "source": [
    "valid_train.shape"
   ]
  },
  {
   "cell_type": "code",
   "execution_count": null,
   "id": "70d9056d",
   "metadata": {},
   "outputs": [],
   "source": [
    "valid_test.shape"
   ]
  },
  {
   "cell_type": "code",
   "execution_count": null,
   "id": "8c0f0ffa",
   "metadata": {},
   "outputs": [],
   "source": [
    "valid_train_df = pd.DataFrame(valid_train)\n",
    "valid_test_df = pd.DataFrame(valid_test)"
   ]
  },
  {
   "cell_type": "code",
   "execution_count": null,
   "id": "40fface9",
   "metadata": {},
   "outputs": [],
   "source": [
    "valid_train_df.to_csv('Data/Model1/valid_train.csv', index=False)\n",
    "valid_test_df.to_csv('Data/Model1/valid_test.csv', index=False)"
   ]
  },
  {
   "cell_type": "code",
   "execution_count": null,
   "id": "843428c2",
   "metadata": {},
   "outputs": [],
   "source": [
    "# valid_train_df = pd.read_csv('Data/Model1/valid_train.csv')\n",
    "# valid_test_df = pd.read_csv('Data/Model1/valid_test.csv')"
   ]
  },
  {
   "cell_type": "markdown",
   "id": "f397afca",
   "metadata": {},
   "source": [
    "## Model Training"
   ]
  },
  {
   "cell_type": "code",
   "execution_count": null,
   "id": "1500bb80",
   "metadata": {},
   "outputs": [],
   "source": [
    "alpha = 0.02\n",
    "epochs = 100\n",
    "initial_batch_size = 32\n",
    "loss_threshold = 0.0001"
   ]
  },
  {
   "cell_type": "code",
   "execution_count": null,
   "id": "a0fe1332",
   "metadata": {},
   "outputs": [],
   "source": [
    "# X_train_small = X_train[:1000]\n",
    "# y_train_small = y_train[:1000]\n",
    "# valid_train_small = valid_train[:1000]"
   ]
  },
  {
   "cell_type": "code",
   "execution_count": null,
   "id": "81aab6e0",
   "metadata": {},
   "outputs": [],
   "source": [
    "# X_train_small.shape"
   ]
  },
  {
   "cell_type": "code",
   "execution_count": null,
   "id": "11a7d63e",
   "metadata": {},
   "outputs": [],
   "source": [
    "# y_train_small.shape"
   ]
  },
  {
   "cell_type": "code",
   "execution_count": null,
   "id": "40517b2f",
   "metadata": {},
   "outputs": [],
   "source": [
    "# W, b, loss_list = train(X_train_small, y_train_small, valid_train_small, alpha, epochs, initial_batch_size, loss_threshold)"
   ]
  },
  {
   "cell_type": "code",
   "execution_count": null,
   "id": "5c0891dd",
   "metadata": {},
   "outputs": [],
   "source": [
    "W, b, loss_list = train(X_train, y_train, valid_train, alpha, epochs, initial_batch_size, loss_threshold)"
   ]
  },
  {
   "cell_type": "code",
   "execution_count": null,
   "id": "14309b70",
   "metadata": {},
   "outputs": [],
   "source": [
    "plot_training_loss(loss_list)"
   ]
  },
  {
   "cell_type": "markdown",
   "id": "7cff8aeb",
   "metadata": {},
   "source": [
    "## Model Testing "
   ]
  },
  {
   "cell_type": "code",
   "execution_count": null,
   "id": "7b7b2b57",
   "metadata": {},
   "outputs": [],
   "source": [
    "test(W, b, X_train, y_train, valid_train, X_test, y_test, valid_test)"
   ]
  },
  {
   "cell_type": "markdown",
   "id": "bb754261",
   "metadata": {},
   "source": [
    "## Obsolete"
   ]
  },
  {
   "cell_type": "code",
   "execution_count": null,
   "id": "b8518588",
   "metadata": {},
   "outputs": [],
   "source": [
    "# def Bot1(k, alpha, max_iter, timeout):\n",
    "#     global grid, open_cells\n",
    "#     bot, ship, open_cells = place_bot(grid, open_cells)\n",
    "\n",
    "#     crew_list = []\n",
    "#     alien_list = []\n",
    "#     d_lookup_table = {}\n",
    "\n",
    "#     crew_list, ship = place_crew(ship, open_cells, crew_list)\n",
    "#     alien_list, ship = place_alien(ship, open_cells, alien_list, bot, k)\n",
    "\n",
    "#     alien_matrix = initialize_alienmatrix(open_cells, bot, k)\n",
    "#     crew_matrix = initialize_crewmatrix(open_cells, crew_list, bot)\n",
    "\n",
    "#     win_count = 0\n",
    "#     loss_count = 0\n",
    "#     move = 0\n",
    "#     win_move_count = []\n",
    "#     marker = 0\n",
    "\n",
    "#     while (win_count + loss_count) < max_iter:\n",
    "#         neighbors = check_valid_neighbors(len(ship), bot[0], bot[1])\n",
    "#         open_moves = [neigh for neigh in neighbors if (grid[neigh] != 1)]\n",
    "#         open_moves.append(bot) # Bot can stay in place \n",
    "#         next_move = determine_move(open_moves, alien_matrix, crew_matrix)\n",
    "        \n",
    "#         prev_win_count = win_count\n",
    "#         bot, crew_list, ship, open_cells, win_count, marker = move_bot(ship, bot, next_move, crew_list, alien_list, open_cells, win_count, 1)\n",
    "#         move += 1\n",
    "\n",
    "#         if marker == 1 or move >= timeout:\n",
    "#             loss_count += 1\n",
    "#             print(f\"Bot captured! Win Count: {win_count}, Loss Count: {loss_count}\")\n",
    "\n",
    "#             grid, open_cells = reset_grid(grid, open_cells)\n",
    "#             bot, ship, open_cells = place_bot(grid, open_cells)\n",
    "#             crew_list = []\n",
    "#             alien_list = []\n",
    "#             d_lookup_table = {}\n",
    "\n",
    "#             crew_list, ship = place_crew(ship, open_cells, crew_list)\n",
    "#             alien_list, ship = place_alien(ship, open_cells, alien_list, bot, k)\n",
    "\n",
    "#             alien_matrix = initialize_alienmatrix(open_cells, bot, k)\n",
    "#             crew_matrix = initialize_crewmatrix(open_cells, crew_list, bot)\n",
    "#             marker = 0\n",
    "#             move = 0\n",
    "\n",
    "#             continue\n",
    "\n",
    "#         if win_count > prev_win_count:\n",
    "#             print(f\"Crew saved! Win Count: {win_count}, Loss Count: {loss_count}\")\n",
    "#             win_move_count.append(move)\n",
    "#             move = 0\n",
    "#             d_lookup_table = {}\n",
    "#             alien_matrix = initialize_alienmatrix(open_cells, bot, k)\n",
    "#             crew_matrix = initialize_crewmatrix(open_cells, crew_list, bot)\n",
    "        \n",
    "#         print(f\"Bot: {bot}, Crew: {crew_list}, Aliens: {alien_list}\")\n",
    "\n",
    "#         alien_matrix, crew_matrix = update_afterbotmove(bot, alien_matrix, crew_matrix)\n",
    "\n",
    "#         # Move bot to optimal neighbor\n",
    "#         marker, alien_list, ship = move_aliens(ship, alien_list, bot) # Move alien randomly\n",
    "\n",
    "#         if marker == 1 or move >= timeout:\n",
    "#             loss_count += 1\n",
    "#             print(f\"Bot captured! Win Count: {win_count}, Loss Count: {loss_count}\")\n",
    "\n",
    "#             grid, open_cells = reset_grid(grid, open_cells)\n",
    "#             bot, ship, open_cells = place_bot(grid, open_cells)\n",
    "#             crew_list = []\n",
    "#             alien_list = []\n",
    "#             d_lookup_table = {}\n",
    "\n",
    "#             crew_list, ship = place_crew(ship, open_cells, crew_list)\n",
    "#             alien_list, ship = place_alien(ship, open_cells, alien_list, bot, k)\n",
    "\n",
    "#             alien_matrix = initialize_alienmatrix(open_cells, bot, k)\n",
    "#             crew_matrix = initialize_crewmatrix(open_cells, crew_list, bot)\n",
    "#             marker = 0\n",
    "#             move = 0\n",
    "\n",
    "#             continue\n",
    "        \n",
    "#         alien_matrix = update_afteralienmove(ship, alien_list, alien_matrix) # Update after alien move\n",
    "        \n",
    "#         alien_detected = alien_sensor(alien_list, bot, k) # Run Alien Sensor\n",
    "#         crew_detected, d_lookup_table = crew_sensor(ship, bot, alpha, d_lookup_table, crew_list) # Run Crew Sensor\n",
    "        \n",
    "#         alien_matrix = update_alienmatrix(alien_matrix, alien_detected, bot, k) # Update based on alien sensor\n",
    "\n",
    "#         crew_matrix = update_crewmatrix(crew_matrix, crew_detected, d_lookup_table, bot, alpha) # Update based on crew sensor\n",
    "\n",
    "#     return sum(win_move_count) // max(1, len(win_move_count)), (win_count / max(1, (win_count + loss_count))), win_count"
   ]
  },
  {
   "cell_type": "code",
   "execution_count": null,
   "id": "1b7f2f66",
   "metadata": {},
   "outputs": [],
   "source": [
    "# def plot_Bot1(alpha_values, k_values, bot1_data, title, metric_num):\n",
    "#     # Generate a plot for each k-value\n",
    "#     for k in k_values:\n",
    "#         plt.figure(figsize=(10, 6))\n",
    "#         plt.plot(alpha_values, bot1_data[k], label=f'Bot 1, k={k}')\n",
    "#         plt.title(f'{title} (k={k})')\n",
    "#         plt.xlabel('alpha')\n",
    "#         plt.ylabel(title)\n",
    "\n",
    "#         # Set x-axis ticks\n",
    "#         plt.xticks(alpha_values, labels=[str(alpha) for alpha in alpha_values])\n",
    "\n",
    "#         plt.legend()\n",
    "#         plt.grid(True)\n",
    "        \n",
    "#         plt.show()"
   ]
  },
  {
   "cell_type": "code",
   "execution_count": null,
   "id": "914f54c6",
   "metadata": {},
   "outputs": [],
   "source": [
    "# def one_alien_one_crew(alpha_values, k_values, max_iter, timeout, num_simulations):\n",
    "#     bot1_avg_rescue_moves, bot1_prob_crew_rescue, bot1_avg_crew_saved = Bot1_simulation(alpha_values, k_values, max_iter, timeout, num_simulations)\n",
    "\n",
    "#     bot1_prob_crew_rescue = {k: [round(prob, 3) for prob in probs] for k, probs in bot1_prob_crew_rescue.items()}\n",
    "\n",
    "#     print(bot1_avg_rescue_moves, bot1_prob_crew_rescue, bot1_avg_crew_saved, \"\\n\")\n",
    "\n",
    "#     plot_Bot1(alpha_values, k_values, bot1_avg_rescue_moves, 'Average Rescue Moves', 1)\n",
    "#     plot_Bot1(alpha_values, k_values, bot1_prob_crew_rescue, 'Probability of Crew Rescue', 2)\n",
    "#     plot_Bot1(alpha_values, k_values, bot1_avg_crew_saved, 'Average Crew Saved', 3)"
   ]
  }
 ],
 "metadata": {
  "kernelspec": {
   "display_name": "Python 3 (ipykernel)",
   "language": "python",
   "name": "python3"
  },
  "language_info": {
   "codemirror_mode": {
    "name": "ipython",
    "version": 3
   },
   "file_extension": ".py",
   "mimetype": "text/x-python",
   "name": "python",
   "nbconvert_exporter": "python",
   "pygments_lexer": "ipython3",
   "version": "3.9.13"
  }
 },
 "nbformat": 4,
 "nbformat_minor": 5
}
