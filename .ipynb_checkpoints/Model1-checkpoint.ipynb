{
 "cells": [
  {
   "cell_type": "markdown",
   "id": "b9ef4437",
   "metadata": {},
   "source": [
    "# Model 1: Modeling Selected Actions"
   ]
  },
  {
   "cell_type": "markdown",
   "id": "a948f47d",
   "metadata": {},
   "source": [
    "The purpose of this model is to predict the action that the bot will select for a given state of the simulation."
   ]
  },
  {
   "cell_type": "markdown",
   "id": "968dc924",
   "metadata": {},
   "source": [
    "## Preliminary Setup"
   ]
  },
  {
   "cell_type": "markdown",
   "id": "956b6c02",
   "metadata": {},
   "source": [
    "### Imports"
   ]
  },
  {
   "cell_type": "code",
   "execution_count": null,
   "id": "19864ca6",
   "metadata": {},
   "outputs": [],
   "source": [
    "import os\n",
    "import numpy as np\n",
    "import random\n",
    "import math\n",
    "import json\n",
    "import pandas as pd\n",
    "import ast\n",
    "import datetime\n",
    "import pickle"
   ]
  },
  {
   "cell_type": "code",
   "execution_count": null,
   "id": "c24f8985",
   "metadata": {},
   "outputs": [],
   "source": [
    "# %pip install json"
   ]
  },
  {
   "cell_type": "code",
   "execution_count": null,
   "id": "490bd53b",
   "metadata": {},
   "outputs": [],
   "source": [
    "import nbimporter"
   ]
  },
  {
   "cell_type": "markdown",
   "id": "2b1f15c9",
   "metadata": {},
   "source": [
    "### Additional Bot Config"
   ]
  },
  {
   "cell_type": "code",
   "execution_count": null,
   "id": "9517466d",
   "metadata": {},
   "outputs": [],
   "source": [
    "import Bot1"
   ]
  },
  {
   "cell_type": "code",
   "execution_count": null,
   "id": "b86592a3",
   "metadata": {},
   "outputs": [],
   "source": [
    "file_name = 'Data/Model1/model1_data_raw.csv'"
   ]
  },
  {
   "cell_type": "code",
   "execution_count": null,
   "id": "40117790",
   "metadata": {},
   "outputs": [],
   "source": [
    "%run Bot1.ipynb"
   ]
  },
  {
   "cell_type": "code",
   "execution_count": null,
   "id": "4b5f4c11",
   "metadata": {},
   "outputs": [],
   "source": [
    "grid, open_cells = create_grid() # Fixed grid orientation"
   ]
  },
  {
   "cell_type": "code",
   "execution_count": null,
   "id": "578bd657",
   "metadata": {},
   "outputs": [],
   "source": [
    "def determine_probabilities(bot, matrix):\n",
    "    directions = {'up': (bot[0], bot[1] - 1), \n",
    "                  'down': (bot[0], bot[1] + 1), \n",
    "                  'left': (bot[0] - 1, bot[1]), \n",
    "                  'right': (bot[0] + 1, bot[1]),\n",
    "                  'stay': bot}\n",
    "    return [matrix.get(directions[direction], 0) for direction in ['up', 'down', 'left', 'right', 'stay']]"
   ]
  },
  {
   "cell_type": "code",
   "execution_count": null,
   "id": "7a364980",
   "metadata": {},
   "outputs": [],
   "source": [
    "def Bot1_collect_data(k, alpha, max_iter, timeout):\n",
    "    global grid, open_cells\n",
    "    \n",
    "    grid, open_cells = reset_grid(grid, open_cells)\n",
    "    bot, ship, open_cells = place_bot(grid, open_cells)\n",
    "\n",
    "    crew_list = []\n",
    "    alien_list = []\n",
    "    d_lookup_table = {}\n",
    "    \n",
    "    data_log = [] # Data Log Initialization\n",
    "\n",
    "    crew_list, ship = place_crew(ship, open_cells, crew_list)\n",
    "    alien_list, ship = place_alien(ship, open_cells, alien_list, bot, k)\n",
    "\n",
    "    alien_matrix = initialize_alienmatrix(open_cells, bot, k)\n",
    "    crew_matrix = initialize_crewmatrix(open_cells, crew_list, bot)\n",
    "    \n",
    "    alien_detected = False\n",
    "    crew_detected = False\n",
    "    \n",
    "    next_move_str = 'stay'\n",
    "\n",
    "    win_count = 0\n",
    "    loss_count = 0\n",
    "    move = 0\n",
    "    win_move_count = []\n",
    "    marker = 0\n",
    "\n",
    "    while (win_count + loss_count) < max_iter:\n",
    "        neighbors = check_valid_neighbors(len(ship), bot[0], bot[1])\n",
    "        open_moves = [neigh for neigh in neighbors if (grid[neigh] != 1)]\n",
    "        open_moves.append(bot) # Bot can stay in place \n",
    "        next_move = determine_move(open_moves, alien_matrix, crew_matrix)\n",
    "        \n",
    "#         alien_matrix_str_keys = {str(key): round(value, 5) for key, value in alien_matrix.items()}\n",
    "#         crew_matrix_str_keys = {str(key): round(value, 5) for key, value in crew_matrix.items()}\n",
    "\n",
    "#         alien_matrix_json = json.dumps(alien_matrix_str_keys)\n",
    "#         crew_matrix_json = json.dumps(crew_matrix_str_keys)\n",
    "\n",
    "#         alien_matrix_flat = [round(alien_matrix.get((x, y), 0), 5) for x in range(30) for y in range(30)]\n",
    "#         crew_matrix_flat = [round(crew_matrix.get((x, y), 0), 5) for x in range(30) for y in range(30)]\n",
    "\n",
    "        alien_probs = determine_probabilities(bot, alien_matrix)\n",
    "        crew_probs = determine_probabilities(bot, crew_matrix)\n",
    "        \n",
    "        # Convert relative move to string      \n",
    "        if next_move[0] > bot[0]:\n",
    "            next_move_str = 'right'\n",
    "        elif next_move[0] < bot[0]:\n",
    "            next_move_str = 'left'\n",
    "        elif next_move[1] > bot[1]:\n",
    "            next_move_str = 'up'\n",
    "        elif next_move[1] < bot[1]:\n",
    "            next_move_str = 'down'\n",
    "        else:\n",
    "            next_move_str = 'stay'\n",
    "        \n",
    "        # One-Hot Encoding\n",
    "        actions = {'up': [1, 0, 0, 0, 0], 'down': [0, 1, 0, 0, 0], 'left': [0, 0, 1, 0, 0], 'right': [0, 0, 0, 1, 0], 'stay': [0, 0, 0, 0, 1]}\n",
    "        best_move_encoded = actions[next_move_str]\n",
    "        \n",
    "        log_entry = {\n",
    "            'bot_x': bot[0],\n",
    "            'bot_y': bot[1],\n",
    "            \n",
    "            'alien_up': alien_probs[0],\n",
    "            'alien_down': alien_probs[1],\n",
    "            'alien_left': alien_probs[2],\n",
    "            'alien_right': alien_probs[3],\n",
    "            'alien_stay': alien_probs[4],\n",
    "            \n",
    "            'crew_up': crew_probs[0],\n",
    "            'crew_down': crew_probs[1],\n",
    "            'crew_left': crew_probs[2],\n",
    "            'crew_right': crew_probs[3],\n",
    "            'crew_stay': crew_probs[4],\n",
    "            \n",
    "            'alien_detected': 1 if alien_detected else 0,\n",
    "            'crew_detected': 1 if crew_detected else 0,\n",
    "            \n",
    "            'chosen_action': best_move_encoded\n",
    "        }\n",
    "        data_log.append(log_entry)\n",
    "\n",
    "#         log_entry = {\n",
    "#             'bot_x': bot[0],\n",
    "#             'bot_y': bot[1],\n",
    "#             **{'alien_' + str(key): value for key, value in alien_matrix.items()},\n",
    "#             **{'crew_' + str(key): value for key, value in crew_matrix.items()},\n",
    "#             'alien_detected': 1 if alien_detected else 0,\n",
    "#             'crew_detected': 1 if crew_detected else 0,\n",
    "#             'chosen_action': best_move_encoded\n",
    "#         }\n",
    "#         data_log.append(log_entry)\n",
    "        \n",
    "        prev_win_count = win_count\n",
    "        bot, crew_list, ship, open_cells, win_count, marker = move_bot(ship, bot, next_move, crew_list, alien_list, open_cells, win_count, 1)\n",
    "        move += 1\n",
    "\n",
    "        if marker == 1 or move >= timeout:\n",
    "            loss_count += 1\n",
    "            print(f\"Bot captured! Win Count: {win_count}, Loss Count: {loss_count}\")\n",
    "\n",
    "            grid, open_cells = reset_grid(grid, open_cells)\n",
    "            bot, ship, open_cells = place_bot(grid, open_cells)\n",
    "            crew_list = []\n",
    "            alien_list = []\n",
    "            d_lookup_table = {}\n",
    "\n",
    "            crew_list, ship = place_crew(ship, open_cells, crew_list)\n",
    "            alien_list, ship = place_alien(ship, open_cells, alien_list, bot, k)\n",
    "\n",
    "            alien_matrix = initialize_alienmatrix(open_cells, bot, k)\n",
    "            crew_matrix = initialize_crewmatrix(open_cells, crew_list, bot)\n",
    "            marker = 0\n",
    "            move = 0\n",
    "\n",
    "            continue\n",
    "\n",
    "        if win_count > prev_win_count:\n",
    "            print(f\"Crew saved! Win Count: {win_count}, Loss Count: {loss_count}\")\n",
    "            win_move_count.append(move)\n",
    "            move = 0\n",
    "            d_lookup_table = {}\n",
    "            alien_matrix = initialize_alienmatrix(open_cells, bot, k)\n",
    "            crew_matrix = initialize_crewmatrix(open_cells, crew_list, bot)\n",
    "        \n",
    "        print(f\"Bot: {bot}, Crew: {crew_list}, Aliens: {alien_list}\")\n",
    "\n",
    "        alien_matrix, crew_matrix = update_afterbotmove(bot, alien_matrix, crew_matrix)\n",
    "        \n",
    "        marker, alien_list, ship = move_aliens(ship, alien_list, bot) # Move alien randomly\n",
    "\n",
    "        if marker == 1 or move >= timeout:\n",
    "            loss_count += 1\n",
    "            print(f\"Bot captured! Win Count: {win_count}, Loss Count: {loss_count}\")\n",
    "\n",
    "            grid, open_cells = reset_grid(grid, open_cells)\n",
    "            bot, ship, open_cells = place_bot(grid, open_cells)\n",
    "            crew_list = []\n",
    "            alien_list = []\n",
    "            d_lookup_table = {}\n",
    "\n",
    "            crew_list, ship = place_crew(ship, open_cells, crew_list)\n",
    "            alien_list, ship = place_alien(ship, open_cells, alien_list, bot, k)\n",
    "\n",
    "            alien_matrix = initialize_alienmatrix(open_cells, bot, k)\n",
    "            crew_matrix = initialize_crewmatrix(open_cells, crew_list, bot)\n",
    "            marker = 0\n",
    "            move = 0\n",
    "\n",
    "            continue\n",
    "        \n",
    "        alien_matrix = update_afteralienmove(ship, alien_list, alien_matrix) # Update after alien move\n",
    "        \n",
    "        alien_detected = alien_sensor(alien_list, bot, k) # Run Alien Sensor\n",
    "        crew_detected, d_lookup_table = crew_sensor(ship, bot, alpha, d_lookup_table, crew_list) # Run Crew Sensor\n",
    "        \n",
    "        alien_matrix = update_alienmatrix(alien_matrix, alien_detected, bot, k) # Update based on alien sensor\n",
    "\n",
    "        crew_matrix = update_crewmatrix(crew_matrix, crew_detected, d_lookup_table, bot, alpha) # Update based on crew sensor\n",
    "    \n",
    "    df = pd.DataFrame(data_log)\n",
    "    \n",
    "    if os.path.isfile(file_name):\n",
    "        df.to_csv(file_name, mode='a', index=False, header=False)\n",
    "    else:\n",
    "        df.to_csv(file_name, mode='w', index=False, header=True)\n",
    "\n",
    "    return sum(win_move_count) // max(1, len(win_move_count)), (win_count / max(1, (win_count + loss_count))), win_count"
   ]
  },
  {
   "cell_type": "code",
   "execution_count": null,
   "id": "9b563458",
   "metadata": {},
   "outputs": [],
   "source": [
    "def Bot1_simulation(alpha_values, k_values, max_iter, timeout, num_simulations):\n",
    "    avg_rescue_moves = {k: [] for k in k_values}\n",
    "    prob_crew_rescue = {k: [] for k in k_values}\n",
    "    avg_crew_saved = {k: [] for k in k_values}\n",
    "\n",
    "    for k in k_values:\n",
    "        for alpha in alpha_values:\n",
    "            total_metric1, total_metric2, total_metric3 = 0, 0, 0\n",
    "            \n",
    "            for i in range(num_simulations):\n",
    "                metric1, metric2, metric3 = Bot1_collect_data(k, alpha, max_iter, timeout)\n",
    "                total_metric1 += metric1\n",
    "                total_metric2 += metric2\n",
    "                total_metric3 += metric3\n",
    "\n",
    "            avg_metric1 = total_metric1 / num_simulations\n",
    "            avg_metric2 = total_metric2 / num_simulations\n",
    "            avg_metric3 = total_metric3 / num_simulations\n",
    "\n",
    "            print(f\"k: {k}, Alpha: {alpha}\\nAverage Rescue Moves: {avg_metric1}\\nProbability of Crew Rescue: {avg_metric2}\\nAverage Crew Saved: {avg_metric3}\\n\")\n",
    "\n",
    "            avg_rescue_moves[k].append(avg_metric1)\n",
    "            prob_crew_rescue[k].append(avg_metric2)\n",
    "            avg_crew_saved[k].append(avg_metric3)\n",
    "\n",
    "    return avg_rescue_moves, prob_crew_rescue, avg_crew_saved"
   ]
  },
  {
   "cell_type": "code",
   "execution_count": null,
   "id": "fd94d814",
   "metadata": {},
   "outputs": [],
   "source": [
    "def one_alien_one_crew(alpha_values, k_values, max_iter, timeout, num_simulations):\n",
    "    bot1_avg_rescue_moves, bot1_prob_crew_rescue, bot1_avg_crew_saved = Bot1_simulation(alpha_values, k_values, max_iter, timeout, num_simulations)\n",
    "\n",
    "    bot1_prob_crew_rescue = {k: [round(prob, 3) for prob in probs] for k, probs in bot1_prob_crew_rescue.items()}\n",
    "\n",
    "    print(bot1_avg_rescue_moves, bot1_prob_crew_rescue, bot1_avg_crew_saved, \"\\n\")"
   ]
  },
  {
   "cell_type": "code",
   "execution_count": null,
   "id": "a78e4b3a",
   "metadata": {},
   "outputs": [],
   "source": [
    "alpha_values = [0.004]\n",
    "k_values = [3]\n",
    "max_iter = 30\n",
    "timeout = 10000\n",
    "num_simulations = 50"
   ]
  },
  {
   "cell_type": "code",
   "execution_count": null,
   "id": "ec1db10e",
   "metadata": {},
   "outputs": [],
   "source": [
    "# one_alien_one_crew(alpha_values, k_values, max_iter, timeout, num_simulations)"
   ]
  },
  {
   "cell_type": "code",
   "execution_count": null,
   "id": "0e447348",
   "metadata": {},
   "outputs": [],
   "source": [
    "# k: 3, Alpha: 0.004\n",
    "# Average Rescue Moves: 585.05\n",
    "# Probability of Crew Rescue: 0.71\n",
    "# Average Crew Saved: 21.3\n",
    "\n",
    "# {3: [585.05]} {3: [0.71]} {3: [21.3]} "
   ]
  },
  {
   "cell_type": "markdown",
   "id": "8cbcdebe",
   "metadata": {},
   "source": [
    "### Model 1 Training Functions"
   ]
  },
  {
   "cell_type": "code",
   "execution_count": null,
   "id": "5c311842",
   "metadata": {},
   "outputs": [],
   "source": [
    "# Softmax Function\n",
    "def softmax(z):\n",
    "    e_z = np.exp(z - np.max(z, axis=1, keepdims=True))\n",
    "    return e_z / np.sum(e_z, axis=1, keepdims=True)"
   ]
  },
  {
   "cell_type": "code",
   "execution_count": null,
   "id": "c730f760",
   "metadata": {},
   "outputs": [],
   "source": [
    "# Initialize weights and biases\n",
    "def init_params(num_features, num_classes):\n",
    "    W = np.random.randn(num_features, num_classes) * 0.01 # Initialize to a small random number\n",
    "    b = np.zeros((1, num_classes))\n",
    "#     print(W, b, W.shape, b.shape)\n",
    "    return W, b"
   ]
  },
  {
   "cell_type": "code",
   "execution_count": null,
   "id": "5a282e53",
   "metadata": {},
   "outputs": [],
   "source": [
    "# Loss Function\n",
    "def loss_function(y_true, y_pred, valid):\n",
    "    n = y_true.shape[0]\n",
    "\n",
    "    valid_y_pred = y_pred * valid\n",
    "    valid_y_pred_sum = valid_y_pred.sum(axis=1, keepdims=True)\n",
    "    valid_y_pred /= valid_y_pred_sum\n",
    "    \n",
    "    y_true_array = np.array(y_true['chosen_action'].apply(ast.literal_eval).tolist())\n",
    "#     print(y_true_array, y_true_array.shape, valid_y_pred, valid_y_pred.shape)\n",
    "\n",
    "    loss = -np.sum(y_true_array * np.log(valid_y_pred + 1e-15)) / n  # Add a small number to prevent log(0)\n",
    "    return loss"
   ]
  },
  {
   "cell_type": "code",
   "execution_count": null,
   "id": "4332ac19",
   "metadata": {},
   "outputs": [],
   "source": [
    "# Calculate the gradient\n",
    "def compute_gradient(X, y_true, y_pred, valid):\n",
    "    n = X.shape[0]\n",
    "    \n",
    "    valid_y_pred = y_pred * valid\n",
    "    valid_y_pred_sum = valid_y_pred.sum(axis=1, keepdims=True)\n",
    "    valid_y_pred /= valid_y_pred_sum\n",
    "    \n",
    "    y_true_array = np.array(y_true['chosen_action'].apply(ast.literal_eval).tolist())\n",
    "    \n",
    "    dW = (1 / n) * np.dot(X.T, (valid_y_pred - y_true_array))\n",
    "    db = (1 / n) * np.sum(valid_y_pred - y_true_array, axis=0, keepdims=True)\n",
    "    return dW, db"
   ]
  },
  {
   "cell_type": "code",
   "execution_count": null,
   "id": "3231afd4",
   "metadata": {},
   "outputs": [],
   "source": [
    "# Prediction Function\n",
    "def predict(X, W, b):\n",
    "    z = np.dot(X, W) + b\n",
    "    y_pred = softmax(z)\n",
    "    return y_pred"
   ]
  },
  {
   "cell_type": "code",
   "execution_count": null,
   "id": "cdd8899f",
   "metadata": {},
   "outputs": [],
   "source": [
    "# Prediction Function to account for cases with invalid predictions\n",
    "# For example, [0, 0.1, 0.2, 0.4, 0.3] would become [0, 0.1, 0, 0, 0.3] if left and right were invalid, and then normalization would cause it to become [0, 0.25, 0, 0, 0.75]\n",
    "def predict_constrained(X, W, b, valid):\n",
    "    y_pred = predict(X, W, b)\n",
    "    \n",
    "    valid_y_pred = y_pred * valid\n",
    "    valid_y_pred_sum = valid_y_pred.sum(axis=1, keepdims=True)\n",
    "    valid_y_pred /= valid_y_pred_sum\n",
    "    \n",
    "    one_hot_pred = np.zeros_like(valid_y_pred, dtype=int)\n",
    "    one_hot_pred[np.arange(len(valid_y_pred)), np.argmax(valid_y_pred, axis=1)] = 1\n",
    "\n",
    "    return one_hot_pred"
   ]
  },
  {
   "cell_type": "code",
   "execution_count": null,
   "id": "58ff64ca",
   "metadata": {},
   "outputs": [],
   "source": [
    "# Train Function that uses only GD\n",
    "def train(X, y, valid, alpha, epochs):\n",
    "    num_features = X.shape[1]\n",
    "    num_classes = 5\n",
    "    n = X.shape[0]\n",
    "\n",
    "    W, b = init_params(num_features, num_classes)\n",
    "\n",
    "    previous_loss = float('inf')\n",
    "    loss_list = []\n",
    "\n",
    "    for epoch in range(epochs):\n",
    "        current_loss = 0\n",
    "\n",
    "        X_batch = X\n",
    "        y_batch = y\n",
    "        valid_batch = valid\n",
    "\n",
    "        y_pred = predict(X_batch, W, b)\n",
    "        batch_loss = loss_function(y_batch, y_pred, valid_batch)\n",
    "        current_loss += batch_loss\n",
    "\n",
    "        dW, db = compute_gradient(X_batch, y_batch, y_pred, valid_batch)\n",
    "        W -= alpha * dW\n",
    "        b -= alpha * db\n",
    "        \n",
    "        current_loss /= n\n",
    "        loss_list.append(current_loss)\n",
    "\n",
    "        previous_loss = current_loss\n",
    "\n",
    "        print(f\"Epoch {epoch}, Loss: {current_loss}\")\n",
    "\n",
    "    return W, b, loss_list"
   ]
  },
  {
   "cell_type": "code",
   "execution_count": null,
   "id": "153142a7",
   "metadata": {},
   "outputs": [],
   "source": [
    "def is_valid(x, y, move, grid, open_cells):\n",
    "    if move == 'up' and (x, y + 1) in open_cells:\n",
    "        return 1\n",
    "    elif move == 'down' and (x, y - 1) in open_cells:\n",
    "        return 1\n",
    "    elif move == 'left' and (x - 1, y) in open_cells:\n",
    "        return 1\n",
    "    elif move == 'right' and (x + 1, y) in open_cells:\n",
    "        return 1\n",
    "    elif move == 'stay':\n",
    "        return 1\n",
    "    else:\n",
    "        return 0"
   ]
  },
  {
   "cell_type": "code",
   "execution_count": null,
   "id": "b281f535",
   "metadata": {},
   "outputs": [],
   "source": [
    "grid, open_cells = reset_grid(grid, open_cells)\n",
    "\n",
    "def create_valid_matrix(X):\n",
    "    global grid, open_cells\n",
    "    directions = ['up', 'down', 'left', 'right', 'stay']\n",
    "    valid_list = []\n",
    "    for i in range(len(X)):\n",
    "        x, y = X.iloc[i, 0], X.iloc[i, 1]\n",
    "        validity_for_each_direction = [is_valid(x, y, move, grid, open_cells) for move in directions]\n",
    "        valid_list.append(validity_for_each_direction)\n",
    "\n",
    "    valid_array = np.array(valid_list)\n",
    "    return valid_array"
   ]
  },
  {
   "cell_type": "code",
   "execution_count": null,
   "id": "111a2ef4",
   "metadata": {},
   "outputs": [],
   "source": [
    "def plot_training_loss(loss_list):\n",
    "    directory = \"Results/Model1/Plots\"\n",
    "    \n",
    "    if not os.path.exists(directory):\n",
    "        os.makedirs(directory)\n",
    "\n",
    "    filename = f\"loss_plot_{datetime.datetime.now().strftime('%Y%m%d_%H%M%S')}.png\"\n",
    "    filepath = os.path.join(directory, filename)\n",
    "    \n",
    "    plt.figure(figsize=(10, 6))\n",
    "    plt.plot(loss_list, label='Loss per Epoch')\n",
    "    plt.title('Model Loss over Epochs')\n",
    "    plt.xlabel('Epoch')\n",
    "    plt.ylabel('Loss')\n",
    "    plt.legend()\n",
    "    plt.grid(True)\n",
    "    \n",
    "    plt.savefig(filepath)\n",
    "    plt.show()"
   ]
  },
  {
   "cell_type": "markdown",
   "id": "2f6da03f",
   "metadata": {},
   "source": [
    "### Model 1 Testing Functions"
   ]
  },
  {
   "cell_type": "code",
   "execution_count": null,
   "id": "a83599ee",
   "metadata": {},
   "outputs": [],
   "source": [
    "def calculate_accuracy(y_true, y_pred):\n",
    "    correct_predictions = (y_true == y_pred)\n",
    "    accuracy = correct_predictions.sum() / correct_predictions.size\n",
    "    return accuracy"
   ]
  },
  {
   "cell_type": "code",
   "execution_count": null,
   "id": "e0636a5c",
   "metadata": {},
   "outputs": [],
   "source": [
    "def test(W, b, X_train, y_train, valid_train, X_test, y_test, valid_test): \n",
    "    y_train_df = y_train.squeeze()\n",
    "    y_test_df = y_test.squeeze()\n",
    "\n",
    "    y_train_true = np.array(y_train_df.apply(ast.literal_eval).tolist())\n",
    "    y_test_true = np.array(y_test_df.apply(ast.literal_eval).tolist())\n",
    "    \n",
    "    y_train_pred = predict_constrained(X_train, W, b, valid_train)\n",
    "    \n",
    "#     print(y_train_true, y_train_pred)\n",
    "    train_acc = calculate_accuracy(y_train_true, y_train_pred)\n",
    "\n",
    "    y_test_pred = predict_constrained(X_test, W, b, valid_test)\n",
    "    test_acc = calculate_accuracy(y_test_true, y_test_pred)\n",
    "    \n",
    "    print(f\"Training Accuracy: {train_acc}\\nTesting Accuracy: {test_acc}\")\n",
    "\n",
    "    return train_acc, test_acc"
   ]
  },
  {
   "cell_type": "markdown",
   "id": "fc09ac4b",
   "metadata": {},
   "source": [
    "### Data Preprocessing"
   ]
  },
  {
   "cell_type": "code",
   "execution_count": null,
   "id": "2c80932d",
   "metadata": {},
   "outputs": [],
   "source": [
    "data = pd.read_csv('Data/Model1/model1_data_raw.csv')"
   ]
  },
  {
   "cell_type": "code",
   "execution_count": null,
   "id": "d1360861",
   "metadata": {},
   "outputs": [],
   "source": [
    "data.head()"
   ]
  },
  {
   "cell_type": "code",
   "execution_count": null,
   "id": "920bdb90",
   "metadata": {},
   "outputs": [],
   "source": [
    "data.shape"
   ]
  },
  {
   "cell_type": "code",
   "execution_count": null,
   "id": "60ea58cb",
   "metadata": {},
   "outputs": [],
   "source": [
    "# data['alien_prob'] = data[['alien_up', 'alien_down', 'alien_left', 'alien_right', 'alien_stay']].values.tolist()\n",
    "# data['crew_prob'] = data[['crew_up', 'crew_down', 'crew_left', 'crew_right', 'crew_stay']].values.tolist()"
   ]
  },
  {
   "cell_type": "code",
   "execution_count": null,
   "id": "e70c24b0",
   "metadata": {},
   "outputs": [],
   "source": [
    "# data = data.drop(columns=['alien_up', 'alien_down', 'alien_left', 'alien_right', 'alien_stay', 'crew_up', 'crew_down', 'crew_left', 'crew_right', 'crew_stay'], axis=1)"
   ]
  },
  {
   "cell_type": "code",
   "execution_count": null,
   "id": "938b3990",
   "metadata": {},
   "outputs": [],
   "source": [
    "# output = data.pop('chosen_action')\n",
    "# data.insert(len(data.columns), output.name, output)"
   ]
  },
  {
   "cell_type": "code",
   "execution_count": null,
   "id": "37e5b2ae",
   "metadata": {},
   "outputs": [],
   "source": [
    "# data.head()"
   ]
  },
  {
   "cell_type": "code",
   "execution_count": null,
   "id": "33b28ef5",
   "metadata": {},
   "outputs": [],
   "source": [
    "model1_df = data.drop_duplicates()\n",
    "model1_df.shape"
   ]
  },
  {
   "cell_type": "code",
   "execution_count": null,
   "id": "863d53e7",
   "metadata": {},
   "outputs": [],
   "source": [
    "# crew_columns = ['crew_up', 'crew_down', 'crew_left', 'crew_right', 'crew_stay']\n",
    "# crew_sum = model1_df[crew_columns].sum(axis=1)\n",
    "\n",
    "# model1_df[crew_columns] = np.where(crew_sum[:, None] != 0, model1_df[crew_columns].div(crew_sum, axis=0), model1_df[crew_columns])"
   ]
  },
  {
   "cell_type": "code",
   "execution_count": null,
   "id": "0e456b80",
   "metadata": {},
   "outputs": [],
   "source": [
    "# for col in model1_df.columns:\n",
    "#     if model1_df[col].apply(lambda x: isinstance(x, tuple)).any():\n",
    "#         model1_df[col] = model1_df[col].apply(list)"
   ]
  },
  {
   "cell_type": "code",
   "execution_count": null,
   "id": "c9241fd0",
   "metadata": {},
   "outputs": [],
   "source": [
    "model1_df.head()"
   ]
  },
  {
   "cell_type": "code",
   "execution_count": null,
   "id": "db76b540",
   "metadata": {},
   "outputs": [],
   "source": [
    "class_labels = model1_df['chosen_action'].apply(ast.literal_eval)\n",
    "class_counts = class_labels.value_counts()\n",
    "class_counts"
   ]
  },
  {
   "cell_type": "code",
   "execution_count": null,
   "id": "a0554192",
   "metadata": {},
   "outputs": [],
   "source": [
    "# model1_df.to_csv('Data/Model1/model1_data.csv', index=False)"
   ]
  },
  {
   "cell_type": "code",
   "execution_count": null,
   "id": "641aa7c3",
   "metadata": {},
   "outputs": [],
   "source": [
    "train_size = int(0.8 * len(model1_df))\n",
    "\n",
    "train_df = model1_df[:train_size]\n",
    "test_df = model1_df[train_size:]"
   ]
  },
  {
   "cell_type": "code",
   "execution_count": null,
   "id": "b818b9d1",
   "metadata": {},
   "outputs": [],
   "source": [
    "class_labels = train_df['chosen_action'].apply(ast.literal_eval)\n",
    "class_counts = class_labels.value_counts()\n",
    "class_counts"
   ]
  },
  {
   "cell_type": "code",
   "execution_count": null,
   "id": "3994501a",
   "metadata": {},
   "outputs": [],
   "source": [
    "class_labels = test_df['chosen_action'].apply(ast.literal_eval)\n",
    "class_counts = class_labels.value_counts()\n",
    "class_counts"
   ]
  },
  {
   "cell_type": "code",
   "execution_count": null,
   "id": "7d3a4231",
   "metadata": {},
   "outputs": [],
   "source": [
    "train_df.shape"
   ]
  },
  {
   "cell_type": "code",
   "execution_count": null,
   "id": "31d63a5d",
   "metadata": {},
   "outputs": [],
   "source": [
    "test_df.shape"
   ]
  },
  {
   "cell_type": "code",
   "execution_count": null,
   "id": "a463a8bf",
   "metadata": {},
   "outputs": [],
   "source": [
    "# train_df.to_csv('Data/Model1/model1_train.csv', index=False)\n",
    "# test_df.to_csv('Data/Model1/model1_test.csv', index=False)"
   ]
  },
  {
   "cell_type": "code",
   "execution_count": null,
   "id": "b9411b82",
   "metadata": {},
   "outputs": [],
   "source": [
    "X_train = train_df.iloc[:,:-1]\n",
    "y_train = train_df.iloc[:,-1:]\n",
    "\n",
    "X_test = test_df.iloc[:,:-1]\n",
    "y_test = test_df.iloc[:,-1:]"
   ]
  },
  {
   "cell_type": "code",
   "execution_count": null,
   "id": "386464ff",
   "metadata": {},
   "outputs": [],
   "source": [
    "valid_train = create_valid_matrix(X_train)\n",
    "valid_test = create_valid_matrix(X_test)"
   ]
  },
  {
   "cell_type": "code",
   "execution_count": null,
   "id": "d1b45982",
   "metadata": {},
   "outputs": [],
   "source": [
    "valid_train.shape"
   ]
  },
  {
   "cell_type": "code",
   "execution_count": null,
   "id": "b2e65699",
   "metadata": {},
   "outputs": [],
   "source": [
    "valid_test.shape"
   ]
  },
  {
   "cell_type": "code",
   "execution_count": null,
   "id": "f9246b33",
   "metadata": {},
   "outputs": [],
   "source": [
    "valid_train_df = pd.DataFrame(valid_train)\n",
    "valid_test_df = pd.DataFrame(valid_test)"
   ]
  },
  {
   "cell_type": "code",
   "execution_count": null,
   "id": "bb916d51",
   "metadata": {},
   "outputs": [],
   "source": [
    "# valid_train_df.to_csv('Data/Model1/valid_train.csv', index=False)\n",
    "# valid_test_df.to_csv('Data/Model1/valid_test.csv', index=False)"
   ]
  },
  {
   "cell_type": "code",
   "execution_count": null,
   "id": "6585fa10",
   "metadata": {},
   "outputs": [],
   "source": [
    "# valid_train_df = pd.read_csv('Data/Model1/valid_train.csv')\n",
    "# valid_test_df = pd.read_csv('Data/Model1/valid_test.csv')"
   ]
  },
  {
   "cell_type": "markdown",
   "id": "e24801db",
   "metadata": {},
   "source": [
    "## Model Training"
   ]
  },
  {
   "cell_type": "code",
   "execution_count": null,
   "id": "018c27da",
   "metadata": {},
   "outputs": [],
   "source": [
    "alpha = 0.01\n",
    "epochs = 400\n",
    "# initial_batch_size = 32\n",
    "# loss_threshold = 0.0001"
   ]
  },
  {
   "cell_type": "code",
   "execution_count": null,
   "id": "f7ba6873",
   "metadata": {},
   "outputs": [],
   "source": [
    "# X_train_small = X_train[:70000]\n",
    "# y_train_small = y_train[:70000]\n",
    "# valid_train_small = valid_train[:70000]\n",
    "\n",
    "# X_train_small.shape\n",
    "# y_train_small.shape\n",
    "\n",
    "# W, b, loss_list = train(X_train_small, y_train_small, valid_train_small, alpha, epochs)"
   ]
  },
  {
   "cell_type": "code",
   "execution_count": null,
   "id": "292806c6",
   "metadata": {},
   "outputs": [],
   "source": [
    "# W, b, loss_list = train(X_train, y_train, valid_train, alpha, epochs)"
   ]
  },
  {
   "cell_type": "code",
   "execution_count": null,
   "id": "06b58cd8",
   "metadata": {},
   "outputs": [],
   "source": [
    "# plot_training_loss(loss_list)"
   ]
  },
  {
   "cell_type": "markdown",
   "id": "0138e278",
   "metadata": {},
   "source": [
    "## Model Testing "
   ]
  },
  {
   "cell_type": "code",
   "execution_count": null,
   "id": "050b4358",
   "metadata": {},
   "outputs": [],
   "source": [
    "# train_acc, test_acc = test(W, b, X_train, y_train, valid_train, X_test, y_test, valid_test)"
   ]
  },
  {
   "cell_type": "markdown",
   "id": "da76ab12",
   "metadata": {},
   "source": [
    "## Saving Model Architecture"
   ]
  },
  {
   "cell_type": "code",
   "execution_count": null,
   "id": "ba3af17a",
   "metadata": {},
   "outputs": [],
   "source": [
    "pickle_filename = 'Results/Model1/model1_optimal.pkl'"
   ]
  },
  {
   "cell_type": "code",
   "execution_count": null,
   "id": "ecd921a2",
   "metadata": {},
   "outputs": [],
   "source": [
    "# model1_optimal = {\n",
    "#     \"weights\": W,\n",
    "#     \"bias\": b,\n",
    "#     \"loss_list\": loss_list,\n",
    "#     \"train_acc\": train_acc,\n",
    "#     \"test_acc\": test_acc\n",
    "# }"
   ]
  },
  {
   "cell_type": "code",
   "execution_count": null,
   "id": "01967f04",
   "metadata": {},
   "outputs": [],
   "source": [
    "# with open(pickle_filename, 'wb') as file:\n",
    "#     pickle.dump(model1_optimal, file)"
   ]
  },
  {
   "cell_type": "markdown",
   "id": "65470c4f",
   "metadata": {},
   "source": [
    "## Loading Model Architecture"
   ]
  },
  {
   "cell_type": "code",
   "execution_count": null,
   "id": "3db9e808",
   "metadata": {},
   "outputs": [],
   "source": [
    "model1_optimal = {}"
   ]
  },
  {
   "cell_type": "code",
   "execution_count": null,
   "id": "81b4f648",
   "metadata": {},
   "outputs": [],
   "source": [
    "with open(pickle_filename, 'rb') as file:\n",
    "    model1_optimal = pickle.load(file)"
   ]
  },
  {
   "cell_type": "code",
   "execution_count": null,
   "id": "4ff86333",
   "metadata": {},
   "outputs": [],
   "source": [
    "W = model1_optimal[\"weights\"]\n",
    "b = model1_optimal[\"bias\"]"
   ]
  },
  {
   "cell_type": "code",
   "execution_count": null,
   "id": "994ad7ef",
   "metadata": {},
   "outputs": [],
   "source": [
    "W, b"
   ]
  },
  {
   "cell_type": "markdown",
   "id": "3091db6d",
   "metadata": {},
   "source": [
    "## Simulation Testing Setup"
   ]
  },
  {
   "cell_type": "code",
   "execution_count": null,
   "id": "509e0a3f",
   "metadata": {},
   "outputs": [],
   "source": [
    "def predict_to_move(bot, prediction):\n",
    "    next_move = bot\n",
    "    \n",
    "    if np.array_equal(prediction, np.array([1, 0, 0, 0, 0])):\n",
    "        next_move = (bot[0], bot[1] + 1)\n",
    "    elif np.array_equal(prediction, np.array([0, 1, 0, 0, 0])):\n",
    "        next_move = (bot[0], bot[1] - 1)\n",
    "    elif np.array_equal(prediction, np.array([0, 0, 1, 0, 0])):\n",
    "        next_move = (bot[0] - 1, bot[1])\n",
    "    elif np.array_equal(prediction, np.array([0, 0, 0, 1, 0])):\n",
    "        next_move = (bot[0] + 1, bot[1])\n",
    "    else:\n",
    "        next_move = bot\n",
    "        \n",
    "    return next_move"
   ]
  },
  {
   "cell_type": "code",
   "execution_count": null,
   "id": "4d0bfefc",
   "metadata": {},
   "outputs": [],
   "source": [
    "def predict_with_params(bot, alien_matrix, crew_matrix, alien_detected, crew_detected):\n",
    "    alien_probs = determine_probabilities(bot, alien_matrix)\n",
    "    crew_probs = determine_probabilities(bot, crew_matrix)\n",
    "    \n",
    "    X = pd.DataFrame([{\n",
    "        'bot_x': bot[0],\n",
    "        'bot_y': bot[1],\n",
    "\n",
    "        'alien_up': alien_probs[0],\n",
    "        'alien_down': alien_probs[1],\n",
    "        'alien_left': alien_probs[2],\n",
    "        'alien_right': alien_probs[3],\n",
    "        'alien_stay': alien_probs[4],\n",
    "\n",
    "        'crew_up': crew_probs[0],\n",
    "        'crew_down': crew_probs[1],\n",
    "        'crew_left': crew_probs[2],\n",
    "        'crew_right': crew_probs[3],\n",
    "        'crew_stay': crew_probs[4],\n",
    "\n",
    "        'alien_detected': 1 if alien_detected else 0,\n",
    "        'crew_detected': 1 if crew_detected else 0,\n",
    "    }], columns=['bot_x', 'bot_y', 'alien_up', 'alien_down', 'alien_left', 'alien_right', 'alien_stay', 'crew_up', 'crew_down', 'crew_left', 'crew_right', 'crew_stay', 'alien_detected', 'crew_detected'])\n",
    "    \n",
    "    valid = create_valid_matrix(X)\n",
    "    \n",
    "    prediction = predict_constrained(X, W, b, valid)\n",
    "    next_move = predict_to_move(bot, prediction)\n",
    "    \n",
    "    return next_move"
   ]
  },
  {
   "cell_type": "markdown",
   "id": "6379cf23",
   "metadata": {},
   "source": [
    "## Bot1 vs. Mimic-Bot1"
   ]
  },
  {
   "cell_type": "code",
   "execution_count": null,
   "id": "9153d70f",
   "metadata": {},
   "outputs": [],
   "source": [
    "def Bot1(k, alpha, max_iter, timeout):\n",
    "    global grid, open_cells\n",
    "    \n",
    "    grid, open_cells = reset_grid(grid, open_cells)\n",
    "    bot, ship, open_cells = place_bot(grid, open_cells)\n",
    "\n",
    "    crew_list = []\n",
    "    alien_list = []\n",
    "    d_lookup_table = {}\n",
    "\n",
    "    crew_list, ship = place_crew(ship, open_cells, crew_list)\n",
    "    alien_list, ship = place_alien(ship, open_cells, alien_list, bot, k)\n",
    "\n",
    "    alien_matrix = initialize_alienmatrix(open_cells, bot, k)\n",
    "    crew_matrix = initialize_crewmatrix(open_cells, crew_list, bot)\n",
    "\n",
    "    win_count = 0\n",
    "    loss_count = 0\n",
    "    move = 0\n",
    "    win_move_count = []\n",
    "    marker = 0\n",
    "    \n",
    "    while (win_count + loss_count) < max_iter:\n",
    "        neighbors = check_valid_neighbors(len(ship), bot[0], bot[1])\n",
    "        open_moves = [neigh for neigh in neighbors if (grid[neigh] != 1)]\n",
    "        open_moves.append(bot)\n",
    "        next_move = determine_move(open_moves, alien_matrix, crew_matrix) # Determine move deterministically as in Project 2\n",
    "        \n",
    "        prev_win_count = win_count\n",
    "        bot, crew_list, ship, open_cells, win_count, marker = move_bot(ship, bot, next_move, crew_list, alien_list, open_cells, win_count, 1)\n",
    "        move += 1\n",
    "\n",
    "        if marker == 1 or move >= timeout:\n",
    "            loss_count += 1\n",
    "            print(f\"Bot1 captured! Win Count: {win_count}, Loss Count: {loss_count}\")\n",
    "\n",
    "            grid, open_cells = reset_grid(grid, open_cells)\n",
    "            bot, ship, open_cells = place_bot(grid, open_cells)\n",
    "            crew_list = []\n",
    "            alien_list = []\n",
    "            d_lookup_table = {}\n",
    "\n",
    "            crew_list, ship = place_crew(ship, open_cells, crew_list)\n",
    "            alien_list, ship = place_alien(ship, open_cells, alien_list, bot, k)\n",
    "\n",
    "            alien_matrix = initialize_alienmatrix(open_cells, bot, k)\n",
    "            crew_matrix = initialize_crewmatrix(open_cells, crew_list, bot)\n",
    "            marker = 0\n",
    "            move = 0\n",
    "\n",
    "            continue\n",
    "\n",
    "        if win_count > prev_win_count:\n",
    "            print(f\"Crew saved! Win Count: {win_count}, Loss Count: {loss_count}\")\n",
    "            win_move_count.append(move)\n",
    "            move = 0\n",
    "            d_lookup_table = {}\n",
    "            alien_matrix = initialize_alienmatrix(open_cells, bot, k)\n",
    "            crew_matrix = initialize_crewmatrix(open_cells, crew_list, bot)\n",
    "        \n",
    "        print(f\"Bot1: {bot}, Crew: {crew_list}, Aliens: {alien_list}\")\n",
    "\n",
    "        alien_matrix, crew_matrix = update_afterbotmove(bot, alien_matrix, crew_matrix)\n",
    "\n",
    "        # Move bot to optimal neighbor\n",
    "        marker, alien_list, ship = move_aliens(ship, alien_list, bot) # Move alien randomly\n",
    "\n",
    "        if marker == 1 or move >= timeout:\n",
    "            loss_count += 1\n",
    "            print(f\"Bot1 captured! Win Count: {win_count}, Loss Count: {loss_count}\")\n",
    "\n",
    "            grid, open_cells = reset_grid(grid, open_cells)\n",
    "            bot, ship, open_cells = place_bot(grid, open_cells)\n",
    "            crew_list = []\n",
    "            alien_list = []\n",
    "            d_lookup_table = {}\n",
    "\n",
    "            crew_list, ship = place_crew(ship, open_cells, crew_list)\n",
    "            alien_list, ship = place_alien(ship, open_cells, alien_list, bot, k)\n",
    "\n",
    "            alien_matrix = initialize_alienmatrix(open_cells, bot, k)\n",
    "            crew_matrix = initialize_crewmatrix(open_cells, crew_list, bot)\n",
    "            marker = 0\n",
    "            move = 0\n",
    "\n",
    "            continue\n",
    "        \n",
    "        alien_matrix = update_afteralienmove(ship, alien_list, alien_matrix) # Update after alien move\n",
    "        \n",
    "        alien_detected = alien_sensor(alien_list, bot, k) # Run Alien Sensor\n",
    "        crew_detected, d_lookup_table = crew_sensor(ship, bot, alpha, d_lookup_table, crew_list) # Run Crew Sensor\n",
    "        \n",
    "        alien_matrix = update_alienmatrix(alien_matrix, alien_detected, bot, k) # Update based on alien sensor\n",
    "\n",
    "        crew_matrix = update_crewmatrix(crew_matrix, crew_detected, d_lookup_table, bot, alpha) # Update based on crew sensor\n",
    "\n",
    "    return sum(win_move_count) // max(1, len(win_move_count)), (win_count / max(1, (win_count + loss_count))), win_count"
   ]
  },
  {
   "cell_type": "code",
   "execution_count": null,
   "id": "262e3793",
   "metadata": {},
   "outputs": [],
   "source": [
    "def Mimic_Bot1(k, alpha, max_iter, timeout):\n",
    "    global grid, open_cells\n",
    "    \n",
    "    grid, open_cells = reset_grid(grid, open_cells)\n",
    "    bot, ship, open_cells = place_bot(grid, open_cells)\n",
    "\n",
    "    crew_list = []\n",
    "    alien_list = []\n",
    "    d_lookup_table = {}\n",
    "\n",
    "    crew_list, ship = place_crew(ship, open_cells, crew_list)\n",
    "    alien_list, ship = place_alien(ship, open_cells, alien_list, bot, k)\n",
    "\n",
    "    alien_matrix = initialize_alienmatrix(open_cells, bot, k)\n",
    "    crew_matrix = initialize_crewmatrix(open_cells, crew_list, bot)\n",
    "    \n",
    "    alien_detected = False\n",
    "    crew_detected = False\n",
    "\n",
    "    win_count = 0\n",
    "    loss_count = 0\n",
    "    move = 0\n",
    "    win_move_count = []\n",
    "    marker = 0\n",
    "    \n",
    "    while (win_count + loss_count) < max_iter:\n",
    "        neighbors = check_valid_neighbors(len(ship), bot[0], bot[1])\n",
    "        open_moves = [neigh for neigh in neighbors if (grid[neigh] != 1)]\n",
    "        open_moves.append(bot)\n",
    "        next_move = predict_with_params(bot, alien_matrix, crew_matrix, alien_detected, crew_detected) # Predict using optimal W, b for Model 1\n",
    "        \n",
    "        prev_win_count = win_count\n",
    "        bot, crew_list, ship, open_cells, win_count, marker = move_bot(ship, bot, next_move, crew_list, alien_list, open_cells, win_count, 1)\n",
    "        move += 1\n",
    "\n",
    "        if marker == 1 or move >= timeout:\n",
    "            loss_count += 1\n",
    "            print(f\"Mimic-Bot1 captured! Win Count: {win_count}, Loss Count: {loss_count}\")\n",
    "\n",
    "            grid, open_cells = reset_grid(grid, open_cells)\n",
    "            bot, ship, open_cells = place_bot(grid, open_cells)\n",
    "            crew_list = []\n",
    "            alien_list = []\n",
    "            d_lookup_table = {}\n",
    "\n",
    "            crew_list, ship = place_crew(ship, open_cells, crew_list)\n",
    "            alien_list, ship = place_alien(ship, open_cells, alien_list, bot, k)\n",
    "\n",
    "            alien_matrix = initialize_alienmatrix(open_cells, bot, k)\n",
    "            crew_matrix = initialize_crewmatrix(open_cells, crew_list, bot)\n",
    "            marker = 0\n",
    "            move = 0\n",
    "\n",
    "            continue\n",
    "\n",
    "        if win_count > prev_win_count:\n",
    "            print(f\"Crew saved! Win Count: {win_count}, Loss Count: {loss_count}\")\n",
    "            win_move_count.append(move)\n",
    "            move = 0\n",
    "            d_lookup_table = {}\n",
    "            alien_matrix = initialize_alienmatrix(open_cells, bot, k)\n",
    "            crew_matrix = initialize_crewmatrix(open_cells, crew_list, bot)\n",
    "        \n",
    "        print(f\"Mimic-Bot1: {bot}, Crew: {crew_list}, Aliens: {alien_list}\")\n",
    "\n",
    "        alien_matrix, crew_matrix = update_afterbotmove(bot, alien_matrix, crew_matrix)\n",
    "\n",
    "        # Move bot to optimal neighbor\n",
    "        marker, alien_list, ship = move_aliens(ship, alien_list, bot) # Move alien randomly\n",
    "\n",
    "        if marker == 1 or move >= timeout:\n",
    "            loss_count += 1\n",
    "            print(f\"Mimic-Bot1 captured! Win Count: {win_count}, Loss Count: {loss_count}\")\n",
    "\n",
    "            grid, open_cells = reset_grid(grid, open_cells)\n",
    "            bot, ship, open_cells = place_bot(grid, open_cells)\n",
    "            crew_list = []\n",
    "            alien_list = []\n",
    "            d_lookup_table = {}\n",
    "\n",
    "            crew_list, ship = place_crew(ship, open_cells, crew_list)\n",
    "            alien_list, ship = place_alien(ship, open_cells, alien_list, bot, k)\n",
    "\n",
    "            alien_matrix = initialize_alienmatrix(open_cells, bot, k)\n",
    "            crew_matrix = initialize_crewmatrix(open_cells, crew_list, bot)\n",
    "            marker = 0\n",
    "            move = 0\n",
    "\n",
    "            continue\n",
    "        \n",
    "        alien_matrix = update_afteralienmove(ship, alien_list, alien_matrix) # Update after alien move\n",
    "        \n",
    "        alien_detected = alien_sensor(alien_list, bot, k) # Run Alien Sensor\n",
    "        crew_detected, d_lookup_table = crew_sensor(ship, bot, alpha, d_lookup_table, crew_list) # Run Crew Sensor\n",
    "        \n",
    "        alien_matrix = update_alienmatrix(alien_matrix, alien_detected, bot, k) # Update based on alien sensor\n",
    "\n",
    "        crew_matrix = update_crewmatrix(crew_matrix, crew_detected, d_lookup_table, bot, alpha) # Update based on crew sensor\n",
    "\n",
    "    return sum(win_move_count) // max(1, len(win_move_count)), (win_count / max(1, (win_count + loss_count))), win_count"
   ]
  },
  {
   "cell_type": "code",
   "execution_count": null,
   "id": "bec8698c",
   "metadata": {},
   "outputs": [],
   "source": [
    "def Bot1_vs_MimicBot1(alpha_values, k_values, max_iter, timeout, num_simulations):\n",
    "    avg_rescue_moves_bot1 = {k: [] for k in k_values}\n",
    "    prob_crew_rescue_bot1 = {k: [] for k in k_values}\n",
    "    avg_crew_saved_bot1 = {k: [] for k in k_values}\n",
    "    \n",
    "    avg_rescue_moves_mbot1 = {k: [] for k in k_values}\n",
    "    prob_crew_rescue_mbot1 = {k: [] for k in k_values}\n",
    "    avg_crew_saved_mbot1 = {k: [] for k in k_values}\n",
    "\n",
    "    for k in k_values:\n",
    "        for alpha in alpha_values:\n",
    "            total_metric1_bot1, total_metric2_bot1, total_metric3_bot1 = 0, 0, 0\n",
    "            total_metric1_mbot1, total_metric2_mbot1, total_metric3_mbot1 = 0, 0, 0\n",
    "            \n",
    "            for i in range(num_simulations):\n",
    "                metric1_bot1, metric2_bot1, metric3_bot1 = Bot1(k, alpha, max_iter, timeout)\n",
    "                metric1_mbot1, metric2_mbot1, metric3_mbot1 = Mimic_Bot1(k, alpha, max_iter, timeout)\n",
    "                \n",
    "                total_metric1_bot1 += metric1_bot1\n",
    "                total_metric2_bot1 += metric2_bot1\n",
    "                total_metric3_bot1 += metric3_bot1\n",
    "                \n",
    "                total_metric1_mbot1 += metric1_mbot1\n",
    "                total_metric2_mbot1 += metric2_mbot1\n",
    "                total_metric3_mbot1 += metric3_mbot1\n",
    "\n",
    "            avg_metric1_bot1 = total_metric1_bot1 / num_simulations\n",
    "            avg_metric2_bot1 = total_metric2_bot1 / num_simulations\n",
    "            avg_metric3_bot1 = total_metric3_bot1 / num_simulations\n",
    "            \n",
    "            avg_metric1_mbot1 = total_metric1_mbot1 / num_simulations\n",
    "            avg_metric2_mbot1 = total_metric2_mbot1 / num_simulations\n",
    "            avg_metric3_mbot1 = total_metric3_mbot1 / num_simulations\n",
    "\n",
    "            print(f\"Bot1: k={k}, Alpha={alpha}\\nAverage Rescue Moves={avg_metric1_bot1}\\nProbability of Crew Rescue={avg_metric2_bot1}\\nAverage Crew Saved={avg_metric3_bot1}\\n\")\n",
    "            print(f\"Mimic-Bot1: k={k}, Alpha={alpha}\\nAverage Rescue Moves={avg_metric1_mbot1}\\nProbability of Crew Rescue={avg_metric2_mbot1}\\nAverage Crew Saved={avg_metric3_mbot1}\\n\")\n",
    "\n",
    "            avg_rescue_moves_bot1[k].append(avg_metric1_bot1)\n",
    "            prob_crew_rescue_bot1[k].append(avg_metric2_bot1)\n",
    "            avg_crew_saved_bot1[k].append(avg_metric3_bot1)\n",
    "            \n",
    "            avg_rescue_moves_mbot1[k].append(avg_metric1_mbot1)\n",
    "            prob_crew_rescue_mbot1[k].append(avg_metric2_mbot1)\n",
    "            avg_crew_saved_mbot1[k].append(avg_metric3_mbot1)\n",
    "\n",
    "    return avg_rescue_moves_bot1, prob_crew_rescue_bot1, avg_crew_saved_bot1, avg_rescue_moves_mbot1, prob_crew_rescue_mbot1, avg_crew_saved_mbot1"
   ]
  },
  {
   "cell_type": "code",
   "execution_count": null,
   "id": "473890e8",
   "metadata": {},
   "outputs": [],
   "source": [
    "def test_simulation_model1(alpha_values, k_values, max_iter, timeout, num_simulations):\n",
    "    avg_rescue_moves_bot1, prob_crew_rescue_bot1, avg_crew_saved_bot1, avg_rescue_moves_mbot1, prob_crew_rescue_mbot1, avg_crew_saved_mbot1 = Bot1_vs_MimicBot1(alpha_values, k_values, max_iter, timeout, num_simulations)\n",
    "\n",
    "    prob_crew_rescue_bot1 = {k: [round(prob, 3) for prob in probs] for k, probs in prob_crew_rescue_bot1.items()}\n",
    "    prob_crew_rescue_mbot1 = {k: [round(prob, 3) for prob in probs] for k, probs in prob_crew_rescue_mbot1.items()}\n",
    "\n",
    "    print(f\"Bot1:\\nAverage Rescue Moves = {avg_rescue_moves_bot1}\\nProbability of Crew Rescue = {prob_crew_rescue_bot1}\\nAverage Crew Saved = {avg_crew_saved_bot1}\\n\\n\")\n",
    "    print(f\"Mimic-Bot1:\\nAverage Rescue Moves = {avg_rescue_moves_mbot1}\\nProbability of Crew Rescue = {prob_crew_rescue_mbot1}\\nAverage Crew Saved = {avg_crew_saved_mbot1}\\n\")\n",
    "    \n",
    "    return avg_rescue_moves_bot1, prob_crew_rescue_bot1, avg_crew_saved_bot1, avg_rescue_moves_mbot1, prob_crew_rescue_mbot1, avg_crew_saved_mbot1"
   ]
  },
  {
   "cell_type": "code",
   "execution_count": null,
   "id": "e97b7184",
   "metadata": {},
   "outputs": [],
   "source": [
    "alpha_values = [0.004]\n",
    "k_values = [3]\n",
    "max_iter = 30\n",
    "timeout = 10000\n",
    "num_simulations = 20"
   ]
  },
  {
   "cell_type": "code",
   "execution_count": null,
   "id": "a5d7e32f",
   "metadata": {},
   "outputs": [],
   "source": [
    "metric1_bot1, metric2_bot1, metric3_bot1, metric1_mbot1, metric2_mbot1, metric3_mbot1 = test_simulation_model1(alpha_values, k_values, max_iter, timeout, num_simulations)"
   ]
  },
  {
   "cell_type": "markdown",
   "id": "0c257034",
   "metadata": {},
   "source": [
    "## Obsolete"
   ]
  },
  {
   "cell_type": "code",
   "execution_count": null,
   "id": "f64ec9dd",
   "metadata": {},
   "outputs": [],
   "source": [
    "# def Bot1(k, alpha, max_iter, timeout):\n",
    "#     global grid, open_cells\n",
    "#     bot, ship, open_cells = place_bot(grid, open_cells)\n",
    "\n",
    "#     crew_list = []\n",
    "#     alien_list = []\n",
    "#     d_lookup_table = {}\n",
    "\n",
    "#     crew_list, ship = place_crew(ship, open_cells, crew_list)\n",
    "#     alien_list, ship = place_alien(ship, open_cells, alien_list, bot, k)\n",
    "\n",
    "#     alien_matrix = initialize_alienmatrix(open_cells, bot, k)\n",
    "#     crew_matrix = initialize_crewmatrix(open_cells, crew_list, bot)\n",
    "\n",
    "#     win_count = 0\n",
    "#     loss_count = 0\n",
    "#     move = 0\n",
    "#     win_move_count = []\n",
    "#     marker = 0\n",
    "\n",
    "#     while (win_count + loss_count) < max_iter:\n",
    "#         neighbors = check_valid_neighbors(len(ship), bot[0], bot[1])\n",
    "#         open_moves = [neigh for neigh in neighbors if (grid[neigh] != 1)]\n",
    "#         open_moves.append(bot) # Bot can stay in place \n",
    "#         next_move = determine_move(open_moves, alien_matrix, crew_matrix)\n",
    "        \n",
    "#         prev_win_count = win_count\n",
    "#         bot, crew_list, ship, open_cells, win_count, marker = move_bot(ship, bot, next_move, crew_list, alien_list, open_cells, win_count, 1)\n",
    "#         move += 1\n",
    "\n",
    "#         if marker == 1 or move >= timeout:\n",
    "#             loss_count += 1\n",
    "#             print(f\"Bot captured! Win Count: {win_count}, Loss Count: {loss_count}\")\n",
    "\n",
    "#             grid, open_cells = reset_grid(grid, open_cells)\n",
    "#             bot, ship, open_cells = place_bot(grid, open_cells)\n",
    "#             crew_list = []\n",
    "#             alien_list = []\n",
    "#             d_lookup_table = {}\n",
    "\n",
    "#             crew_list, ship = place_crew(ship, open_cells, crew_list)\n",
    "#             alien_list, ship = place_alien(ship, open_cells, alien_list, bot, k)\n",
    "\n",
    "#             alien_matrix = initialize_alienmatrix(open_cells, bot, k)\n",
    "#             crew_matrix = initialize_crewmatrix(open_cells, crew_list, bot)\n",
    "#             marker = 0\n",
    "#             move = 0\n",
    "\n",
    "#             continue\n",
    "\n",
    "#         if win_count > prev_win_count:\n",
    "#             print(f\"Crew saved! Win Count: {win_count}, Loss Count: {loss_count}\")\n",
    "#             win_move_count.append(move)\n",
    "#             move = 0\n",
    "#             d_lookup_table = {}\n",
    "#             alien_matrix = initialize_alienmatrix(open_cells, bot, k)\n",
    "#             crew_matrix = initialize_crewmatrix(open_cells, crew_list, bot)\n",
    "        \n",
    "#         print(f\"Bot: {bot}, Crew: {crew_list}, Aliens: {alien_list}\")\n",
    "\n",
    "#         alien_matrix, crew_matrix = update_afterbotmove(bot, alien_matrix, crew_matrix)\n",
    "\n",
    "#         # Move bot to optimal neighbor\n",
    "#         marker, alien_list, ship = move_aliens(ship, alien_list, bot) # Move alien randomly\n",
    "\n",
    "#         if marker == 1 or move >= timeout:\n",
    "#             loss_count += 1\n",
    "#             print(f\"Bot captured! Win Count: {win_count}, Loss Count: {loss_count}\")\n",
    "\n",
    "#             grid, open_cells = reset_grid(grid, open_cells)\n",
    "#             bot, ship, open_cells = place_bot(grid, open_cells)\n",
    "#             crew_list = []\n",
    "#             alien_list = []\n",
    "#             d_lookup_table = {}\n",
    "\n",
    "#             crew_list, ship = place_crew(ship, open_cells, crew_list)\n",
    "#             alien_list, ship = place_alien(ship, open_cells, alien_list, bot, k)\n",
    "\n",
    "#             alien_matrix = initialize_alienmatrix(open_cells, bot, k)\n",
    "#             crew_matrix = initialize_crewmatrix(open_cells, crew_list, bot)\n",
    "#             marker = 0\n",
    "#             move = 0\n",
    "\n",
    "#             continue\n",
    "        \n",
    "#         alien_matrix = update_afteralienmove(ship, alien_list, alien_matrix) # Update after alien move\n",
    "        \n",
    "#         alien_detected = alien_sensor(alien_list, bot, k) # Run Alien Sensor\n",
    "#         crew_detected, d_lookup_table = crew_sensor(ship, bot, alpha, d_lookup_table, crew_list) # Run Crew Sensor\n",
    "        \n",
    "#         alien_matrix = update_alienmatrix(alien_matrix, alien_detected, bot, k) # Update based on alien sensor\n",
    "\n",
    "#         crew_matrix = update_crewmatrix(crew_matrix, crew_detected, d_lookup_table, bot, alpha) # Update based on crew sensor\n",
    "\n",
    "#     return sum(win_move_count) // max(1, len(win_move_count)), (win_count / max(1, (win_count + loss_count))), win_count"
   ]
  },
  {
   "cell_type": "code",
   "execution_count": null,
   "id": "1b7f2f66",
   "metadata": {},
   "outputs": [],
   "source": [
    "# def plot_Bot1(alpha_values, k_values, bot1_data, title, metric_num):\n",
    "#     # Generate a plot for each k-value\n",
    "#     for k in k_values:\n",
    "#         plt.figure(figsize=(10, 6))\n",
    "#         plt.plot(alpha_values, bot1_data[k], label=f'Bot 1, k={k}')\n",
    "#         plt.title(f'{title} (k={k})')\n",
    "#         plt.xlabel('alpha')\n",
    "#         plt.ylabel(title)\n",
    "\n",
    "#         # Set x-axis ticks\n",
    "#         plt.xticks(alpha_values, labels=[str(alpha) for alpha in alpha_values])\n",
    "\n",
    "#         plt.legend()\n",
    "#         plt.grid(True)\n",
    "        \n",
    "#         plt.show()"
   ]
  },
  {
   "cell_type": "code",
   "execution_count": null,
   "id": "f1c53e54",
   "metadata": {},
   "outputs": [],
   "source": [
    "# def one_alien_one_crew(alpha_values, k_values, max_iter, timeout, num_simulations):\n",
    "#     bot1_avg_rescue_moves, bot1_prob_crew_rescue, bot1_avg_crew_saved = Bot1_simulation(alpha_values, k_values, max_iter, timeout, num_simulations)\n",
    "\n",
    "#     bot1_prob_crew_rescue = {k: [round(prob, 3) for prob in probs] for k, probs in bot1_prob_crew_rescue.items()}\n",
    "\n",
    "#     print(bot1_avg_rescue_moves, bot1_prob_crew_rescue, bot1_avg_crew_saved, \"\\n\")\n",
    "\n",
    "#     plot_Bot1(alpha_values, k_values, bot1_avg_rescue_moves, 'Average Rescue Moves', 1)\n",
    "#     plot_Bot1(alpha_values, k_values, bot1_prob_crew_rescue, 'Probability of Crew Rescue', 2)\n",
    "#     plot_Bot1(alpha_values, k_values, bot1_avg_crew_saved, 'Average Crew Saved', 3)"
   ]
  },
  {
   "cell_type": "code",
   "execution_count": null,
   "id": "4cd1aa6e",
   "metadata": {},
   "outputs": [],
   "source": [
    "# # Train Function that uses SGD and GD\n",
    "# def train(X, y, valid, alpha, epochs, initial_batch_size, loss_threshold):\n",
    "#     num_features = X.shape[1]\n",
    "#     num_classes = 5\n",
    "#     n = X.shape[0]\n",
    "\n",
    "#     W, b = init_params(num_features, num_classes)\n",
    "# #     print(W, b)\n",
    "\n",
    "#     previous_loss = float('inf')  # Set starting loss to infinity\n",
    "#     batch_size = initial_batch_size  # Start with SGD (smaller batch size)\n",
    "#     switched_to_gd = False\n",
    "#     loss_list = []  # Store loss values over time\n",
    "    \n",
    "#     # Number of times iterated through entire dataset\n",
    "#     for epoch in range(epochs):\n",
    "#         current_loss = 0\n",
    "        \n",
    "#         # Only iterate over batch size. In SGD, batch size is small, so iterate over smaller batches and update loss\n",
    "#         for i in range(0, n, batch_size):\n",
    "#             X_batch = X.iloc[i:i + batch_size]\n",
    "#             y_batch = y.iloc[i:i + batch_size]\n",
    "#             valid_batch = valid[i:i + batch_size]\n",
    "\n",
    "#             y_pred = predict(X_batch, W, b)\n",
    "# #             print(y_batch, y_pred, valid_batch)\n",
    "#             batch_loss = loss_function(y_batch, y_pred, valid_batch)\n",
    "#             current_loss += batch_loss\n",
    "\n",
    "#             dW, db = compute_gradient(X_batch, y_batch, y_pred, valid_batch)\n",
    "#             W -= alpha * dW\n",
    "#             b -= alpha * db\n",
    "\n",
    "#         current_loss /= (n // batch_size)\n",
    "#         loss_list.append(current_loss)\n",
    "\n",
    "#         # Check if loss threshold is met to switch to GD\n",
    "#         if not switched_to_gd and abs(previous_loss - current_loss) < loss_threshold:\n",
    "#             batch_size = n  # Set batch size to full dataset (switch to Gradient Descent)\n",
    "#             switched_to_gd = True\n",
    "#             print(f\"Switched to Gradient Descent. Epoch: {epoch}\")\n",
    "\n",
    "#         previous_loss = current_loss\n",
    "        \n",
    "#         print(f\"Epoch {epoch}, Loss: {current_loss}\")\n",
    "\n",
    "#     return W, b, loss_list"
   ]
  },
  {
   "cell_type": "code",
   "execution_count": null,
   "id": "02371bc3",
   "metadata": {},
   "outputs": [],
   "source": []
  }
 ],
 "metadata": {
  "kernelspec": {
   "display_name": "Python 3 (ipykernel)",
   "language": "python",
   "name": "python3"
  },
  "language_info": {
   "codemirror_mode": {
    "name": "ipython",
    "version": 3
   },
   "file_extension": ".py",
   "mimetype": "text/x-python",
   "name": "python",
   "nbconvert_exporter": "python",
   "pygments_lexer": "ipython3",
   "version": "3.9.13"
  }
 },
 "nbformat": 4,
 "nbformat_minor": 5
}
